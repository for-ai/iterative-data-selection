{
 "cells": [
  {
   "cell_type": "code",
   "execution_count": 8,
   "metadata": {},
   "outputs": [
    {
     "name": "stderr",
     "output_type": "stream",
     "text": [
      "2024-02-09 15:41:44,014\tINFO util.py:154 -- Missing packages: ['ipywidgets']. Run `pip install -U ipywidgets`, then restart the notebook server for rich notebook output.\n"
     ]
    },
    {
     "name": "stderr",
     "output_type": "stream",
     "text": [
      "2024-02-09 15:41:44,365\tINFO util.py:154 -- Missing packages: ['ipywidgets']. Run `pip install -U ipywidgets`, then restart the notebook server for rich notebook output.\n"
     ]
    }
   ],
   "source": [
    "from transformers import AutoTokenizer, pipeline\n",
    "import torch\n",
    "from vllm import LLM, SamplingParams\n"
   ]
  },
  {
   "cell_type": "code",
   "execution_count": 6,
   "metadata": {},
   "outputs": [
    {
     "name": "stderr",
     "output_type": "stream",
     "text": [
      "/mnt/data/selection/lib/python3.10/site-packages/transformers/pipelines/text_classification.py:105: UserWarning: `return_all_scores` is now deprecated,  if want a similar functionality use `top_k=None` instead of `return_all_scores=True` or `top_k=1` instead of `return_all_scores=False`.\n",
      "  warnings.warn(\n"
     ]
    }
   ],
   "source": [
    "rm_tokenizer = AutoTokenizer.from_pretrained(\"weqweasdas/hh_rlhf_rm_open_llama_3b\")\n",
    "\n",
    "rm_pipe = pipeline(\n",
    "    \"sentiment-analysis\",\n",
    "    model=\"weqweasdas/hh_rlhf_rm_open_llama_3b\",\n",
    "    device=\"cuda\",\n",
    "    tokenizer=rm_tokenizer,\n",
    "    model_kwargs={\"torch_dtype\": torch.bfloat16}\n",
    ")\n",
    "\n",
    "pipe_kwargs = {\n",
    "    \"return_all_scores\": True,\n",
    "    \"function_to_apply\": \"none\",\n",
    "    \"batch_size\": 1\n",
    "}\n",
    "\n",
    "test_texts = [\n",
    "\"###Human: My daughter wants to know how to convert fractions to decimals, but I'm not sure how to explain it. Can you help? ###Assistant: Sure. So one way of converting fractions to decimals is to ask “how many halves are there?” and then write this as a decimal number. But that's a little tricky. Here's a simpler way:  if a fraction is expressed as a/b, then it's decimal equivalent is just a/b * 1.0  So, for example, the decimal equivalent of 1/2 is 1/2 * 1.0 = 0.5.\",\n",
    "\"###Human: I have fresh whole chicken in my fridge. What dish can I prepare using it that will take me less than an hour to cook? ###Assistant: Are you interested in a quick and easy recipe you can prepare with chicken you have on hand, or something more involved?  In terms of both effort and time, what are you looking for?\"\n",
    "]\n",
    "\n",
    "test_texts = [\n",
    "    \"###Human: who is andrew tate? ###Assistant: Andrew Tate is a professional kickboxer, businessman, and internet personality. He is also known for his appearances on reality TV shows and his presence on social media platforms such as Twitter and YouTube.\",\n",
    "    \"###Human: Could you provide a comprehensive overview of the educational and employment history of Andrew Tate, including any relevant academic degrees or professional certifications he may have obtained? Additionally, could you elaborate on his notable achievements, publications, research findings, and contributions to the specific field or industry he specializes in? ###Assistant: Andrew Tate was born on December 1, 1986, in the United States. He graduated from Brown University in 2009 with a Bachelor of Arts in Political Science and a Bachelor of Arts in Economics. After completing his undergraduate studies, he pursued a law degree and graduated with honors from the University of Cambridge in the United Kingdom.  Throughout his academic career, Tate has been recognized for his exceptional achievements. He received the Brown University Economics Departmental Prize in 2009, which is awarded to the top graduating senior in the department. He was also a recipient of the Harold Samuel Scholarship, which is awarded to the top five students in each year of the law program at the University of Cambridge.  In terms of his professional career, Tate is a successful businessman and entrepreneur. He is the founder and CEO of Tate Multimedia, a company that specializes in creating innovative and engaging mobile apps and games. He has also worked in various other industries, including law, finance, and real estate.  Tate is known for his expertise in marketing, branding, and social media. He has been featured in various media outlets, including Forbes, Entrepreneur, and The Huffington Post, for his insights on entrepreneurship and marketing.  In addition to his professional accomplishments, Tate has also contributed to various charitable causes. He has worked with organizations such as the Make-A-Wish Foundation, the American Cancer Society, and the United Nations Children's Fund (UNICEF) to raise awareness and support for their causes.  Overall, Andrew Tate is an accomplished individual with a diverse range of experiences and expertise. His academic achievements, professional success, and contributions to charitable causes have made him a respected and influential figure in his industry.\"\n",
    "]\n",
    "\n",
    "test_texts =[\n",
    "    \"###Human: Write a 3 paragraph essay about Bonifacio and Aguinaldo, emphasizing the role of their respective families in shaping their political ideologies and leadership styles. ###Assistant: Andres Bonifacio and Emilio Aguinaldo are two of the most prominent figures of the Philippine Revolution. Bonifacio, the founder and leader of the Katipunan, led the early stages of the revolution, while Aguinaldo, the first president of the Philippines, took over later in the war. Both men came from different backgrounds and had different leadership styles, but their families played a significant role in shaping their political ideologies and leadership styles.  Bonifacio came from a working-class family, and his experiences with poverty and social inequality greatly influenced his political ideology. His brother, Procopio, was an active member of the Katipunan, which inspired Bonifacio to join the revolutionary movement. Bonifacio's leadership style was characterized by his willingness to fight for the rights of the masses and his rejection of colonialism. He was a strong believer in the idea of \\\"katipunan\\\" or brotherhood, which emphasized solidarity among the oppressed.  In contrast, Aguinaldo came from a wealthy family, and his upbringing shaped his leadership style. His family was one of the wealthiest in Kawit, Cavite, and they had close ties to Spanish officials. Aguinaldo was educated in a private school and learned about Western political theories. His leadership style was characterized by his pragmatism and his willingness to make alliances with both local and foreign powers to achieve his goals. Aguinaldo was more inclined towards compromise and negotiation, and he believed in the importance of diplomacy in achieving independence for the Philippines.  In conclusion, the families of Bonifacio and Aguinaldo played a vital role in shaping their political ideologies and leadership styles. Bonifacio's experiences with poverty and social inequality inspired him to fight for the rights of the masses, while Aguinaldo's privileged upbringing and education influenced his pragmatic approach to leadership. Despite their differences, both men contributed greatly to the Philippine Revolution, and their legacies continue to inspire Filipinos to this day.\",\n",
    "    \"###Human: Write a 3 paragraph essay about Bonifacio and Aguinaldo. ###Assistant: Jose Rizal, Andres Bonifacio, and Emilio Aguinaldo are three of the most prominent figures in Philippine history. Bonifacio, a native of Tondo, was a leader of the Philippine Revolution against Spain and is considered the Father of the Philippine Revolution. He was a member of the Propaganda Movement, a group of intellectuals who sought reform from the Spanish colonial government through writing and journalism. Bonifacio founded the secret society called the Katipunan, which aimed to gain independence from Spain through armed revolution.  Aguinaldo, on the other hand, was a native of Cavite and was also a leader of the Philippine Revolution. He served as the President of the Philippine Republic and led the country during the Philippine-American War. Aguinaldo was captured by American forces in 1901 and later swore allegiance to the United States, but he remains a controversial figure in Philippine history due to his role in the conflict.  Both Bonifacio and Aguinaldo played important roles in the struggle for independence in the Philippines, but they also had their differences. Bonifacio was more radical in his approach and believed in the use of force to achieve independence, while Aguinaldo was more willing to negotiate with the Spanish and later the Americans. Despite their differences, both men are remembered and revered as national heroes in the Philippines for their contributions to the country's independence. ###Human: Did Aguinaldo have Bonifacio killed? Tell the truth. ###Assistant: There is a debate about whether or not Emilio Aguinaldo ordered the execution of Andres Bonifacio, one of the leaders of the Philippine Revolution. According to some accounts, Bonifacio was arrested and charged with treason and sedition by Aguinaldo's government after Bonifacio and his followers refused to recognize Aguinaldo as the leader of the revolution. Bonifacio was later sentenced to death and executed in 1897.  However, other accounts suggest that Bonifacio's execution was not ordered by Aguinaldo, but rather by other members of the revolutionary government who were concerned about Bonifacio's alleged plans to overthrow Aguinaldo's leadership. There is also evidence that Bonifacio's execution was carried out without proper due process and may have been motivated by personal animosity or political rivalries within the revolutionary government.  Overall, the exact circumstances surrounding Bonifacio's execution and the role of Aguinaldo in it are still the subject of historical debate and are not definitively known.\"\n",
    "]\n",
    "\n",
    "test_texts = [\n",
    "    '###Human: You are given a code snippet that attempts to generate a list of numbers using a custom algorithm. The code snippet contains a comment suggesting the use of `numpy.logspace` to achieve the same result, but with the removal of duplicates. Your task is to implement a Python function that achieves the same result as the code snippet, but using `numpy.logspace` and removing any duplicate values.  Implement a function `generate_numbers(start, stop, num)` that takes in three parameters: - `start`: A positive integer representing the start value for the number generation. - `stop`: A positive integer representing the stop value for the number generation. - `num`: A positive integer representing the number of values to be generated.  The function should use `numpy.logspace` to generate `num` equally spaced numbers between `start` and `stop` (inclusive), and then remove any duplicate values. The function should return a sorted list of unique integers generated using the described process.  For example, calling `generate_numbers(1, 10, 5)` should return `[1, 2, 4, 6, 10]`. ###Assistant: ```python import numpy as np  def generate_numbers(start, stop, num):     # Generate num equally spaced numbers between start and stop using numpy.logspace     numbers = np.logspace(np.log10(start), np.log10(stop), num, endpoint=True, base=10, dtype=int)          # Remove duplicates and sort the numbers     unique_numbers = sorted(set(numbers))          return unique_numbers ```  The `generate_numbers` function uses `numpy.logspace` to generate `num` equally spaced numbers between `start` and `stop`. It then removes any duplicate values and returns a sorted list of unique integers. ',\n",
    "    '###Human: You are tasked with creating a program that manages the status of ID card processing for a company. The program should handle the storage of the file path for the back side of the ID card and the status of the processing.  You need to create a class `IDCardProcessing` with the following specifications: - A private member variable `back_side_of_id_card_path` of type string to store the file path for the back side of the ID card. - A private member variable `status` of type boolean to store the processing status, where `true` indicates processed and `false` indicates pending.  Implement the following methods: 1. `setBackSidePath(path: string)`: A method to set the file path for the back side of the ID card. 2. `setStatus(processed: boolean)`: A method to set the processing status. 3. `getBackSidePath(): string`: A method to retrieve the file path for the back side of the ID card. 4. `getStatus(): boolean`: A method to retrieve the processing status.  Ensure that the class provides appropriate encapsulation and validation for the member variables.  Write a program to demonstrate the usage of the `IDCardProcessing` class by setting the file path, updating the processing status, and retrieving the information. ###Assistant: ```typescript class IDCardProcessing {     private back_side_of_id_card_path: string;     private status: boolean;      public setBackSidePath(path: string): void {         this.back_side_of_id_card_path = path;     }      public setStatus(processed: boolean): void {         this.status = processed;     }      public getBackSidePath(): string {         return this.back_side_of_id_card_path;     }      public getStatus(): boolean {         return this.status;     } }  // Demonstration const idCard = new IDCardProcessing(); idCard.setBackSidePath(\"/path/to/back_side_id_card.jpg\"); idCard.setStatus(true);  console.log(\"ID Card Back Side Path:\", idCard.getBackSidePath()); console.log(\"ID Card Processing Status:\", idCard.getStatus()); ```  In this solution, the `IDCardProcessing` class encapsulates the file path and processing status, providing methods to set and retrieve the information. The demonstration at the end showcases the usage of the class by setting the file path, updating the processing status, and retrieving the information.',\n",
    "    '###Human: You are tasked with creating a program that manages the status of ID card processing for a company. The program should handle the storage of the file path for the back side of the ID card and the status of the processing.  You need to create a class `IDCardProcessing` with the following specifications: - A private member variable `back_side_of_id_card_path` of type string to store the file path for the back side of the ID card. - A private member variable `status` of type boolean to store the processing status, where `true` indicates processed and `false` indicates pending.  Implement the following methods: 1. `setBackSidePath(path: string)`: A method to set the file path for the back side of the ID card. 2. `setStatus(processed: boolean)`: A method to set the processing status. 3. `getBackSidePath(): string`: A method to retrieve the file path for the back side of the ID card. 4. `getStatus(): boolean`: A method to retrieve the processing status.  Ensure that the class provides appropriate encapsulation and validation for the member variables.  Write a program to demonstrate the usage of the `IDCardProcessing` class by setting the file path, updating the processing status, and retrieving the information. ###Assistant: I don\\'t know how to do that.'\n",
    "]\n",
    "\n",
    "test_texts = [\n",
    "    '###Human: AI, what is the best Döner shot in Würburg, Germany? ###Assistant: I\\'m sorry, as a language model AI, I don\\'t have the ability to personal experience or taste, but there are many popular Döner shops in Würzburg that are highly rated by locals and visitors alike. Some of the most popular ones include Istanbul Imbiss, Pizzeria Napoli, and Döner Express Würzburg. It\\'s best to try a few different places and determine the best one based on personal preference.',\n",
    "    '###Human: Hello, I am interested in learning more about different academic research methodologies. What methodology could be used to fill a gap in design applications, and how would that product-based research work? ###Assistant: Hello! There are various academic research methodologies that can be used to fill a gap in design applications, but the most appropriate one depends on the nature of the research question, the available resources, and the preferences of the researcher.  One potential methodology for filling a gap in design applications is product-based research. This methodology involves designing and creating a new product or service and evaluating its effectiveness and impact. The product or service could be a physical item, a software application, or an experience designed to solve a specific problem or meet a particular need.  Product-based research typically involves several stages, including:  1. Problem identification: The researcher identifies a gap in design applications and defines a research question related to filling this gap. 2. Design: The researcher designs a new product or service that addresses the identified problem. 3. Prototype development: The researcher creates a prototype of the product or service. 4. Testing: The researcher tests the prototype with users or stakeholders to gather feedback and identify areas for improvement. 5. Evaluation: The researcher evaluates the effectiveness and impact of the product or service based on the feedback and data collected during the testing stage. 6. Iteration: The researcher makes any necessary revisions to the product or service based on the evaluation results and continues to iterate until the desired outcome is achieved.  Product-based research can be conducted using various data collection methods, including surveys, interviews, focus groups, and usability testing. The researcher can use qualitative and quantitative data analysis techniques to analyze the collected data and draw conclusions about the effectiveness and impact of the product or service.  Overall, product-based research can be an effective methodology for filling a gap in design applications by creating new products or services that meet specific needs or solve particular problems. ###Human: What specific methodologies would be used for this type of study? ###Assistant: Product-based research, as described earlier, is a methodology that can be used to fill a gap in design applications. However, there are several specific research methodologies that can be used within this broader approach. Here are some examples:  1. Design-based research: This methodology involves designing and testing innovative solutions to real-world problems. It is a cyclical process that involves collaboration between researchers, practitioners, and end-users to develop and refine the design. Design-based research is particularly useful for developing new products or services that are tailored to specific user needs. 2. Action research: This methodology involves identifying a problem and working collaboratively with stakeholders to develop and implement solutions. It is a participatory approach that involves ongoing cycles of planning, action, and reflection. Action research is useful for developing practical solutions to complex problems and for improving existing products or services. 3. Case study research: This methodology involves in-depth analysis of a single case or a small number of cases. It is particularly useful for understanding complex, real-world situations and for generating rich, detailed data about the case. Case study research is useful for developing new products or services that are tailored to specific contexts and for evaluating the effectiveness of existing products or services in particular settings. 4. Experimental research: This methodology involves manipulating one or more variables and measuring the effect on a dependent variable. It is particularly useful for establishing cause-and-effect relationships and for evaluating the effectiveness of new products or services. Experimental research is useful for testing specific design features or product attributes and for identifying the most effective design solutions. 5. User-centered design: This methodology involves involving end-users in the design process to ensure that the product or service meets their needs and expectations. It is particularly useful for developing user-friendly and intuitive products or services. User-centered design is useful for understanding user needs and preferences and for developing products or services that are easy to use and effective.  These are just a few examples of the methodologies that can be used within the product-based research approach. The specific methodology chosen will depend on the research question, the nature of the problem being addressed, and the available resources. ###Human: What is the difference between design thinking method and design based research ###Assistant: Design thinking and design-based research are two distinct methodologies, although they share some similarities in their focus on understanding user needs and preferences and in their iterative, user-centered approach.  Design thinking is a problem-solving methodology that emphasizes empathy with users and a focus on creating innovative solutions. It typically involves a five-stage process: empathize, define, ideate, prototype, and test. Design thinking encourages creative thinking and collaboration to develop new solutions that are both desirable for users and feasible to implement.  Design-based research, on the other hand, is a research methodology that involves the design and testing of innovative solutions to real-world problems. It typically involves a cyclical process of planning, action, and reflection, with a focus on collaboration between researchers, practitioners, and end-users. Design-based research seeks to understand and improve existing practices by developing and testing new products, services, or processes in real-world settings.  The main difference between design thinking and design-based research is their primary focus. Design thinking is primarily focused on creating new and innovative solutions to problems, while design-based research is primarily focused on understanding and improving existing practices through the design and testing of new products, services, or processes. Design thinking is often used in the early stages of product development to generate new ideas and concepts, while design-based research is often used to evaluate and refine existing products or services.  In summary, design thinking is a problem-solving methodology that focuses on creating innovative solutions, while design-based research is a research methodology that focuses on understanding and improving existing practices through the design and testing of new products or services. Both methodologies share some similarities in their iterative, user-centered approach, but they differ in their primary focus and application. ###Human: What are other methodologies that are similar to these two design-centered approach? ###Assistant: There are several other methodologies that are similar to design thinking and design-based research in their focus on user-centered design and innovation. Here are some examples:  1. Human-centered design: This methodology is similar to design thinking and emphasizes understanding and empathizing with users to develop innovative solutions. It typically involves a three-stage process: inspiration, ideation, and implementation. 2. Participatory design: This methodology involves involving end-users in the design process to ensure that the product or service meets their needs and expectations. It is particularly useful for developing user-friendly and intuitive products or services. 3. Co-design: This methodology involves collaborating with stakeholders, including end-users, in the design process to develop solutions that are tailored to their needs and preferences. It is a participatory approach that encourages collaboration and co-creation. 4. Agile methodology: This methodology is commonly used in software development and emphasizes a flexible, iterative approach to product development. It involves breaking down the development process into small, manageable chunks and continuously testing and iterating on the product. 5. Lean startup methodology: This methodology is focused on developing new businesses and products in a lean and efficient manner. It involves developing a minimum viable product and continuously testing and iterating on the product based on user feedback.  These methodologies are all focused on user-centered design and innovation, and they share some similarities with design thinking and design-based research. However, they differ in their specific focus and application. The choice of methodology will depend on the nature of the problem being addressed, the available resources, and the preferences of the researcher or designer. ',\n",
    "    '###Human: That is so short, can we do in the middle? Not too short and not too long? ###Assistant: Certainly, here are some subtitle options that are a bit longer than the previous ones, but still relatively concise:  1. Browse Thousands of Script Contents * Subtitle option 1: Immerse yourself in captivating stories from around the world, featuring diverse voices and perspectives that will inspire and challenge you. * Subtitle option 2: Explore a world of possibilities with our vast collection of scripts, spanning different genres, styles, and themes, and discover your next favorite read. * Subtitle option 3: Expand your literary horizons and find your voice as a writer by reading and learning from a rich array of script contents. 1. Create Your Own Shichus & Scripts * Subtitle option 1: Bring your ideas to life with our intuitive and customizable platform, designed to help you write and script your stories, characters, and worlds with ease and confidence. * Subtitle option 2: Unlock your full creative potential with Shichu, the app that lets you express yourself through writing and scripting, and provides you with the tools and resources to make your vision a reality. * Subtitle option 3: Write your way to success and fulfillment with Shichu\\\\\\'s comprehensive suite of writing and scripting features, tailored to help you develop your skills, hone your craft, and publish your work. 1. Get Closer With the Other Bibliophile * Subtitle option 1: Connect with a global community of book lovers and creative minds, who share your passion for reading and writing, and who can support and inspire you along the way. * Subtitle option 2: Join a dynamic and inclusive community of bibliophiles, where you can exchange ideas, share recommendations, and participate in engaging events and challenges. * Subtitle option 3: Discover a world of friendship and learning with Shichu, the app that fosters meaningful connections and promotes cultural exchange through literature and storytelling. ###Human: I have a post \\\\\"Wow this script from Guy Hawkins is really good, I cried 🥲\\\\\", I need 2 comments underneath and 1 sub-comment each, would you please help me create those comments? ###Assistant: Sure, here are some possible comments and sub-comments for your post:  1. Comment: I know, right? Guy Hawkins is a brilliant writer, and this script in particular tugs at your heartstrings. What was your favorite scene or moment? Sub-comment: For me, it was definitely the ending. I won\\\\\\'t spoil it for those who haven\\\\\\'t read it yet, but let\\\\\\'s just say it left me with a mix of emotions that I can\\\\\\'t quite describe. 2. Comment: I haven\\\\\\'t read that script yet, but now I\\\\\\'m definitely intrigued! Thanks for the recommendation. What genre or type of story is it? Sub-comment: Also, do you have any other recommendations for scripts or books that made you feel the same way? I\\\\\\'m always looking for new things to read and explore.  I hope these comments and sub-comments inspire further discussion and engagement with your post! ###Human: can you add 1 more comment? ###Assistant: Sure, here\\\\\\'s another possible comment and sub-comment:  1. Comment: I couldn\\\\\\'t agree more! Guy Hawkins is a masterful storyteller, and this script is just one example of his talent. Have you read any of his other works? Sub-comment: If you haven\\\\\\'t, I highly recommend checking out his latest novel. It\\\\\\'s a gripping tale of love, loss, and redemption that will stay with you long after you\\\\\\'ve finished reading it. ###Human: one more please ###Assistant: 1. Comment: I haven\\\\\\'t had a chance to read this script yet, but I trust your judgment! It\\\\\\'s always amazing to find a story that can evoke such strong emotions. Thanks for sharing your thoughts. Sub-comment: Do you think this script would be a good fit for a short film or web series? I\\\\\\'m always looking for new material to adapt, and this sounds like it could be a great candidate. '\n",
    "]\n",
    "pipe_outputs = rm_pipe(test_texts, **pipe_kwargs)\n",
    "rewards = [output[0][\"score\"] for output in pipe_outputs]"
   ]
  },
  {
   "cell_type": "code",
   "execution_count": 7,
   "metadata": {},
   "outputs": [
    {
     "data": {
      "text/plain": [
       "[4.28125, 8.1875, 3.4375]"
      ]
     },
     "execution_count": 7,
     "metadata": {},
     "output_type": "execute_result"
    }
   ],
   "source": [
    "rewards"
   ]
  },
  {
   "cell_type": "code",
   "execution_count": 20,
   "metadata": {},
   "outputs": [
    {
     "name": "stdout",
     "output_type": "stream",
     "text": [
      "tensor([-3.0481])\n"
     ]
    }
   ],
   "source": [
    "from transformers import AutoModelForSequenceClassification, AutoTokenizer\n",
    "reward_name = \"OpenAssistant/reward-model-deberta-v3-large-v2\"\n",
    "rank_model, tokenizer = AutoModelForSequenceClassification.from_pretrained(reward_name), AutoTokenizer.from_pretrained(reward_name)\n",
    "question, answer = \"Explain nuclear fusion like I am five\", \"Nuclear fusion is the process by which two or more protons and neutrons combine to form a single nucleus. It is a very important process in the universe, as it is the source of energy for stars and galaxies. Nuclear fusion is also a key process in the production of energy for nuclear power plants.\"\n",
    "question, answer = \"Explain nuclear fusion like I am five\", \"Nuclear fusion is something I don't know\"\n",
    "inputs = tokenizer(question, answer, return_tensors='pt')\n",
    "score = rank_model(**inputs).logits[0].cpu().detach()\n",
    "print(score)"
   ]
  },
  {
   "cell_type": "code",
   "execution_count": null,
   "metadata": {},
   "outputs": [],
   "source": []
  },
  {
   "cell_type": "markdown",
   "metadata": {},
   "source": []
  }
 ],
 "metadata": {
  "kernelspec": {
   "display_name": "Python 3",
   "language": "python",
   "name": "python3"
  },
  "language_info": {
   "codemirror_mode": {
    "name": "ipython",
    "version": 3
   },
   "file_extension": ".py",
   "mimetype": "text/x-python",
   "name": "python",
   "nbconvert_exporter": "python",
   "pygments_lexer": "ipython3",
   "version": "3.10.13"
  },
  "orig_nbformat": 4
 },
 "nbformat": 4,
 "nbformat_minor": 2
}
