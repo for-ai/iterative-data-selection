{
 "cells": [
  {
   "cell_type": "code",
   "execution_count": 1,
   "metadata": {},
   "outputs": [
    {
     "name": "stderr",
     "output_type": "stream",
     "text": [
      "/mnt/data/selection/lib/python3.10/site-packages/tqdm/auto.py:21: TqdmWarning: IProgress not found. Please update jupyter and ipywidgets. See https://ipywidgets.readthedocs.io/en/stable/user_install.html\n",
      "  from .autonotebook import tqdm as notebook_tqdm\n"
     ]
    }
   ],
   "source": [
    "import os\n",
    "import json\n",
    "import numpy as np\n",
    "import pandas as pd\n",
    "import matplotlib.pyplot as plt\n",
    "import seaborn as sns\n",
    "from sklearn import metrics\n",
    "import faiss\n",
    "from vendi_score import vendi\n",
    "from tqdm import tqdm\n",
    "from transformers import AutoTokenizer, AutoModel\n",
    "from datasets import load_dataset\n",
    "\n",
    "scores_path = '/mnt/data/data-selection/data/processed/cohere/scores.jsonl'\n",
    "data_path = '/mnt/data/data-selection/data/processed/cohere/cohere_data.jsonl'\n",
    "embedding_cache_path = '/mnt/data/data-selection/data/processed/cohere/Llama-2-7b-hf-tulu_user_only-embeddings.npy'\n",
    "\n",
    "indices_path = {\n",
    "    'random': '/mnt/data/data-selection/selection/indices/cohere_Random_0.05_Llama-2-7b-hf.pkl',\n",
    "    'KMeansRandom_1024': '/mnt/data/data-selection/selection/indices/cohere_KMenasRandomDeita_0.05_Llama-2-7b-hf_1024.pkl',\n",
    "    'KMeansRandom_64': '/mnt/data/data-selection/selection/indices/cohere_KMenasRandomDeita_0.05_Llama-2-7b-hf_64.pkl',\n",
    "    'Deita': '/mnt/data/data-selection/selection/indices/cohere_KCenterGreedyDeita_0.05_Llama-2-7b-hf.pkl',\n",
    "    'KMeansDynamic': '/mnt/data/data-selection/selection/indices/cohere_KMeansDynamic_0.05_Llama-2-7b-hf.pkl'\n",
    "}"
   ]
  },
  {
   "cell_type": "code",
   "execution_count": 2,
   "metadata": {},
   "outputs": [],
   "source": [
    "def safe_softmax(x):\n",
    "    e_x = np.exp(x - np.max(x))\n",
    "    return e_x / e_x.sum()\n",
    "\n",
    "def cosine_similarity(a, b):\n",
    "    return np.dot(a, b) / (np.linalg.norm(a) * np.linalg.norm(b))"
   ]
  },
  {
   "cell_type": "code",
   "execution_count": 3,
   "metadata": {},
   "outputs": [
    {
     "data": {
      "text/plain": [
       "(125000, 4096)"
      ]
     },
     "execution_count": 3,
     "metadata": {},
     "output_type": "execute_result"
    }
   ],
   "source": [
    "with open(scores_path) as f:\n",
    "    scores = [json.loads(l) for l in f]\n",
    "\n",
    "scores = pd.DataFrame(scores)\n",
    "embeddings = np.load(embedding_cache_path)\n",
    "\n",
    "dataset = load_dataset('json', data_files=data_path, field='train')['train']\n",
    "dataset\n",
    "\n",
    "embeddings.shape"
   ]
  },
  {
   "cell_type": "code",
   "execution_count": 4,
   "metadata": {},
   "outputs": [],
   "source": [
    "with open(scores_path, \"r\") as f:\n",
    "    lines = f.readlines()\n",
    "scores = [json.loads(line)['eval_score'] for line in lines]\n",
    "eval_scores = np.array(scores, dtype=np.int64)\n",
    "eval_ranking = np.argsort(scores)[::-1]"
   ]
  },
  {
   "cell_type": "code",
   "execution_count": null,
   "metadata": {},
   "outputs": [],
   "source": [
    "tokenizer = AutoTokenizer.from_pretrained(\"meta-llama/Llama-2-7b-hf\")\n",
    "\n",
    "def encode_messages_and_length(example, tokenizer):\n",
    "    def _concat_messages(messages):\n",
    "        message_text = \"\"\n",
    "        for message in messages:\n",
    "            if message[\"role\"] == \"system\":\n",
    "                message_text += \"<|system|>\\n\" + message[\"content\"].strip() + \"\\n\"\n",
    "            elif message[\"role\"] == \"user\":\n",
    "                message_text += \"<|user|>\\n\" + message[\"content\"].strip() + \"\\n\"\n",
    "            elif message[\"role\"] == \"assistant\":\n",
    "                message_text += \"<|assistant|>\\n\" + message[\"content\"].strip() + tokenizer.eos_token + \"\\n\"\n",
    "            else:\n",
    "                raise ValueError(\"Invalid role: {}\".format(message[\"role\"]))\n",
    "        return message_text\n",
    "        \n",
    "    example_text = _concat_messages(example[\"messages\"])\n",
    "    # calculate how times <|assistant|> and <|user|> appear in the example\n",
    "    assistant_count = example_text.count(\"<|assistant|>\")\n",
    "    user_count = example_text.count(\"<|user|>\")\n",
    "    tokenized_example = tokenizer(example_text, return_tensors='pt')\n",
    "    input_ids = tokenized_example.input_ids\n",
    "    labels = input_ids.clone()\n",
    "\n",
    "    return {\n",
    "        'length': len(input_ids.flatten()),\n",
    "        'user_count': user_count,\n",
    "        'assistant_count': assistant_count,\n",
    "    }\n",
    "dataset = load_dataset('json', data_files=data_path, field='train')['train']\n",
    "dataset"
   ]
  },
  {
   "cell_type": "code",
   "execution_count": null,
   "metadata": {},
   "outputs": [],
   "source": [
    "import pickle as pkl\n",
    "\n",
    "index_names = [\"Deita\", \"KMeansDynamic\", \"KMeansRandom_1024\", \"random\"]\n",
    "name2indices = {}\n",
    "name2ziped = {}\n",
    "for name in index_names:\n",
    "    with open(indices_path[name], 'rb') as f:\n",
    "        name2indices[name] = np.array(pkl.load(f)['indices'])\n",
    "\n",
    "        messages = dataset.select(name2indices[name]).map(lambda x: encode_messages_and_length(x, tokenizer), batched=False)\n",
    "        length = messages['length']\n",
    "        scores = list(eval_scores[name2indices[name]])\n",
    "        ziped = list(zip(length, scores))\n",
    "        name2ziped[name] = ziped\n",
    "name2indices"
   ]
  },
  {
   "cell_type": "code",
   "execution_count": null,
   "metadata": {},
   "outputs": [],
   "source": [
    "# test_length = test['length']\n",
    "# test_scores = list(eval_scores[name2indices['Deita']])\n",
    "# ziped = list(zip(test_length, test_scores))\n",
    "# # plot the scatter plot\n",
    "# plt.scatter(*zip(*ziped))\n",
    "# plot the scatter plot with different colors for different ziped\n",
    "for name in [\"Deita\", \"random\"]:\n",
    "    plt.scatter(*zip(*name2ziped[name]), label=name)\n",
    "# x axis as length, y axis as scores\n",
    "plt.xlabel('Length')\n",
    "plt.ylabel('Scores')\n",
    "\n",
    "plt.legend()\n",
    "plt.show()"
   ]
  },
  {
   "cell_type": "code",
   "execution_count": null,
   "metadata": {},
   "outputs": [],
   "source": [
    "import pickle as pkl\n",
    "selected_scores = {}\n",
    "selected_embeddings = {}\n",
    "for name, index_path in indices_path.items():\n",
    "    print(name)\n",
    "    with open(index_path, 'rb') as f:\n",
    "        index = pkl.load(f)\n",
    "    indices = np.array(index['indices'])\n",
    "\n",
    "    selected_scores[name] = eval_scores[indices]\n",
    "    selected_embeddings[name] = embeddings[indices]\n",
    "    print('Score:', np.mean(selected_scores[name]))\n",
    "    # sample 500 to compute vendi score\n",
    "    # seeds = [1, 13, 42, 87, 100]\n",
    "    seeds= [42]\n",
    "    vendi_scores = []\n",
    "    for seed in seeds:\n",
    "        np.random.seed(seed)\n",
    "        sample_indices = np.random.choice(indices, 2500, replace=False)\n",
    "        vendi_scores.append(vendi.score(embeddings[sample_indices], cosine_similarity))\n",
    "    \n",
    "    print('Vendi score:', np.mean(vendi_scores), '+-', np.std(vendi_scores))\n",
    "    # print('Vendi score:', vendi.score(selected_embeddings[name][:2500], cosine_similarity))\n"
   ]
  },
  {
   "cell_type": "markdown",
   "metadata": {},
   "source": [
    "### Results for 2500 points\n",
    "\n",
    "| Model | LLM-as-Judge Score | Vendi score |\n",
    "| --- | --- | --- |\n",
    "| random | 14.91 | 15.97 |\n",
    "| KMeansRandom_1024 | 35.20 | 20.43 |\n",
    "| KMeansRandom_64 | 44.86 | 20.73 |\n",
    "| Deita | **78.98** | 24.69 |\n",
    "| KMeansDynamic | 72.17 | **25.14** |\n"
   ]
  },
  {
   "cell_type": "code",
   "execution_count": null,
   "metadata": {},
   "outputs": [],
   "source": [
    "eval_scores[np.array([0,1])]"
   ]
  },
  {
   "cell_type": "code",
   "execution_count": null,
   "metadata": {},
   "outputs": [],
   "source": [
    "# plot the distribution of scores['eval_score'] as histogram\n",
    "sns.histplot(scores['eval_score'], bins=50)"
   ]
  },
  {
   "cell_type": "markdown",
   "metadata": {},
   "source": [
    "### Clustering (KMeansDynamic)"
   ]
  },
  {
   "cell_type": "code",
   "execution_count": null,
   "metadata": {},
   "outputs": [],
   "source": [
    "# perform k-means clustering with embeddings\n",
    "K = 64\n",
    "d = embeddings.shape[1]\n",
    "index = faiss.IndexFlatL2(d)\n",
    "index.add(embeddings)\n",
    "\n",
    "kmeans = faiss.Kmeans(d, K, niter=300, verbose=True, nredo=5, gpu=True)\n",
    "kmeans.train(embeddings)\n",
    "\n",
    "pca = faiss.PCAMatrix(d, 2)\n",
    "pca.train(embeddings)"
   ]
  },
  {
   "cell_type": "code",
   "execution_count": null,
   "metadata": {},
   "outputs": [],
   "source": [
    "from collections import Counter, defaultdict\n",
    "distances, indices = kmeans.index.search(embeddings, 1)\n",
    "indices = indices.flatten()\n",
    "# sample 100 point from each cluster and plot them in 2D with legend\n",
    "sampled_indices = {i : np.array([], dtype=np.int64) for i in range(K)}\n",
    "cluster2scores = {}\n",
    "clusters2indices = {i : np.where(indices == i)[0] for i in range(K)}\n",
    "clusters2weights = np.ones(K) / K\n",
    "\n",
    "select_size = 100\n",
    "trial = 5\n",
    "for t in range(trial):\n",
    "    cluster2scores = {}\n",
    "    assigned_size = np.ceil(clusters2weights * (select_size * K)).astype(int)\n",
    "    # plot the assigned_size with x axis as cluster index\n",
    "    fig, ax = plt.subplots(figsize=(10, 6))\n",
    "    plt.bar(range(K), assigned_size)\n",
    "    # with title as the current trial\n",
    "    plt.title(f\"Trial {t}\")\n",
    "    plt.show()\n",
    "\n",
    "    for i in range(K):\n",
    "        indices_i = clusters2indices[i]\n",
    "        scores_i = eval_scores[indices_i]\n",
    "        p = safe_softmax(scores_i)\n",
    "        size = min(assigned_size[i], len(indices_i))\n",
    "        indices_i_sampled = np.random.choice(indices_i, size=size, p=p, replace=False)\n",
    "        sampled_indices[i] = np.concatenate([sampled_indices[i], indices_i_sampled])\n",
    "        # cluster2scores[i] = eval_scores[sampled_indices[i]] / (len(sampled_indices[i]))\n",
    "        cluster2scores[i] = eval_scores[sampled_indices[i]]\n",
    "        \n",
    "        clusters2weights[i] = np.sum(cluster2scores[i])\n",
    "        clusters2indices[i] = np.setdiff1d(clusters2indices[i], indices_i_sampled)\n",
    "        print(f\"Cluster {i} score: {cluster2scores[i]}\")\n",
    "    clusters2weights /= np.sum(clusters2weights)\n",
    "    # clusters2weights = safe_softmax(clusters2weights)\n",
    "\n",
    "    # plot the distribution of cluster2scores with x axis as cluster index, y axis as the score using boxplot\n",
    "    fig, ax = plt.subplots(figsize=(15, 8))\n",
    "    plt.boxplot([cluster2scores[i] for i in range(K)])\n",
    "    plt.title(f\"Trial {t}\")\n",
    "    plt.show()"
   ]
  },
  {
   "cell_type": "markdown",
   "metadata": {},
   "source": [
    "### Clustering (Check indices belong dataset)"
   ]
  },
  {
   "cell_type": "code",
   "execution_count": 6,
   "metadata": {},
   "outputs": [
    {
     "data": {
      "text/plain": [
       "{'random': Counter({'metamathqa': 1530,\n",
       "          'sharegpt': 1506,\n",
       "          'wizardlm': 1463,\n",
       "          'magicoder': 1037,\n",
       "          'open_orca': 714}),\n",
       " 'KMeansRandom_1024': Counter({'sharegpt': 1628,\n",
       "          'wizardlm': 1625,\n",
       "          'metamathqa': 1391,\n",
       "          'magicoder': 901,\n",
       "          'open_orca': 522}),\n",
       " 'KMeansRandom_64': Counter({'wizardlm': 2304,\n",
       "          'sharegpt': 1633,\n",
       "          'magicoder': 1210,\n",
       "          'metamathqa': 775,\n",
       "          'open_orca': 286}),\n",
       " 'Deita': Counter({'wizardlm': 6009, 'magicoder': 138, 'sharegpt': 103}),\n",
       " 'KMeansDynamic': Counter({'wizardlm': 4935,\n",
       "          'sharegpt': 761,\n",
       "          'magicoder': 717,\n",
       "          'metamathqa': 222,\n",
       "          'open_orca': 70})}"
      ]
     },
     "execution_count": 6,
     "metadata": {},
     "output_type": "execute_result"
    }
   ],
   "source": [
    "from collections import Counter, defaultdict\n",
    "import pickle as pkl\n",
    "indices2datasetdist = {}\n",
    "for indices_name, path in indices_path.items():\n",
    "    path = path.replace('.pkl', '_norm.pkl')\n",
    "    with open(path, 'rb') as f:\n",
    "        indices = pkl.load(f)['indices']\n",
    "        indices2datasetdist[indices_name] = Counter(dataset.select(indices)['dataset'])\n",
    "\n",
    "indices2datasetdist"
   ]
  },
  {
   "cell_type": "code",
   "execution_count": 52,
   "metadata": {},
   "outputs": [
    {
     "data": {
      "text/plain": [
       "Dataset({\n",
       "    features: ['dataset', 'id', 'messages', 'eval_score'],\n",
       "    num_rows: 125000\n",
       "})"
      ]
     },
     "execution_count": 52,
     "metadata": {},
     "output_type": "execute_result"
    }
   ],
   "source": [
    "eval_scores = np.array(scores, dtype=np.int64)\n",
    "eval_scores = eval_scores[:len(dataset)]\n",
    "\n",
    "dataset = dataset.add_column('eval_score', eval_scores)\n",
    "dataset"
   ]
  },
  {
   "cell_type": "code",
   "execution_count": 53,
   "metadata": {},
   "outputs": [
    {
     "name": "stderr",
     "output_type": "stream",
     "text": [
      "Filter:   0%|          | 0/125000 [00:00<?, ? examples/s]"
     ]
    },
    {
     "name": "stderr",
     "output_type": "stream",
     "text": [
      "Filter: 100%|██████████| 125000/125000 [00:04<00:00, 30029.14 examples/s]\n",
      "Filter: 100%|██████████| 125000/125000 [00:03<00:00, 31695.49 examples/s]\n",
      "Filter: 100%|██████████| 125000/125000 [00:03<00:00, 33426.94 examples/s]\n",
      "Filter: 100%|██████████| 125000/125000 [00:03<00:00, 31511.54 examples/s]\n",
      "Filter: 100%|██████████| 125000/125000 [00:03<00:00, 33153.26 examples/s]\n",
      "No artists with labels found to put in legend.  Note that artists whose label start with an underscore are ignored when legend() is called with no argument.\n"
     ]
    },
    {
     "data": {
      "image/png": "[encoded data removed]",
      "text/plain": [
       "<Figure size 1500x800 with 1 Axes>"
      ]
     },
     "metadata": {},
     "output_type": "display_data"
    }
   ],
   "source": [
    "# plot the distribution of scores across different datasets\n",
    "fig, ax = plt.subplots(figsize=(15, 8))\n",
    "dataset2scores = defaultdict(list)\n",
    "dataset_indices = dataset['dataset']\n",
    "dataset_names = list(set(dataset['dataset']))\n",
    "for dataset_name in dataset_names:\n",
    "    filtered_by_dataset = dataset.filter(lambda x: x['dataset'] == dataset_name)\n",
    "    dataset2scores[dataset_name] = filtered_by_dataset['eval_score']\n",
    "# plot boxplot with x axis as dataset name, y axis as scores\n",
    "plt.boxplot(dataset2scores.values(), labels=dataset2scores.keys())\n",
    "plt.title('Scores across different datasets')\n",
    "plt.legend()\n",
    "plt.show()"
   ]
  },
  {
   "cell_type": "code",
   "execution_count": 54,
   "metadata": {},
   "outputs": [
    {
     "name": "stderr",
     "output_type": "stream",
     "text": [
      "Map: 100%|██████████| 125000/125000 [00:15<00:00, 7872.00 examples/s] \n",
      "Filter: 100%|██████████| 125000/125000 [00:03<00:00, 32592.00 examples/s]\n",
      "Filter: 100%|██████████| 125000/125000 [00:03<00:00, 32567.37 examples/s]\n",
      "Filter: 100%|██████████| 125000/125000 [00:03<00:00, 32621.12 examples/s]\n",
      "Filter: 100%|██████████| 125000/125000 [00:03<00:00, 32547.97 examples/s]\n",
      "Filter: 100%|██████████| 125000/125000 [00:03<00:00, 32487.34 examples/s]\n",
      "No artists with labels found to put in legend.  Note that artists whose label start with an underscore are ignored when legend() is called with no argument.\n"
     ]
    },
    {
     "data": {
      "image/png": "[encoded data removed]",
      "text/plain": [
       "<Figure size 1500x800 with 1 Axes>"
      ]
     },
     "metadata": {},
     "output_type": "display_data"
    }
   ],
   "source": [
    "dataset = dataset.map(lambda x: {'norm_scores': x['eval_score'] / len(x['messages'])})\n",
    "\n",
    "fig, ax = plt.subplots(figsize=(15, 8))\n",
    "dataset2scores = defaultdict(list)\n",
    "dataset_indices = dataset['dataset']\n",
    "dataset_names = list(set(dataset['dataset']))\n",
    "for dataset_name in dataset_names:\n",
    "    filtered_by_dataset = dataset.filter(lambda x: x['dataset'] == dataset_name)\n",
    "    dataset2scores[dataset_name] = filtered_by_dataset['norm_scores']\n",
    "# plot boxplot with x axis as dataset name, y axis as scores\n",
    "plt.boxplot(dataset2scores.values(), labels=dataset2scores.keys())\n",
    "plt.title('Norm Scores across different datasets')\n",
    "plt.legend()\n",
    "plt.show()"
   ]
  },
  {
   "cell_type": "code",
   "execution_count": 55,
   "metadata": {},
   "outputs": [],
   "source": [
    "norm_scores = dataset['norm_scores']\n",
    "# save the norm_scores to the file\n",
    "with open('/mnt/data/data-selection/data/processed/cohere/norm_scores.jsonl', 'w') as f:\n",
    "    for score in norm_scores:\n",
    "        f.write(json.dumps({'eval_score': score}) + '\\n')"
   ]
  },
  {
   "cell_type": "code",
   "execution_count": null,
   "metadata": {},
   "outputs": [],
   "source": [
    "# would deita score higher for wizardlm than sharegpt\n",
    "sharegpt = load_dataset('json',\n",
    "                        data_files='/mnt/data/data-selection/data/processed/sharegpt/sharegpt_data.jsonl')['train']\n",
    "wizardlm = load_dataset('json',\n",
    "                        data_files='/mnt/data/data-selection/data/processed/wizardlm_old/wizardlm_data.jsonl')['train']\n",
    "\n",
    "sharegpt = sharegpt.map(lambda x: {'ori_id': x['id'].split('_')[1]})\n",
    "wizardlm = wizardlm.map(lambda x: {'ori_id': x['id'].split('_')[1]})"
   ]
  },
  {
   "cell_type": "code",
   "execution_count": null,
   "metadata": {},
   "outputs": [],
   "source": [
    "# sample 500 unique ori_id from sharegpt\n",
    "sharegpt_ori_ids = np.array(sharegpt['ori_id'])\n",
    "unique_sharegpt_ori_ids = np.unique(sharegpt_ori_ids)\n",
    "sampled_sharegpt_ori_ids = np.random.choice(unique_sharegpt_ori_ids, 1000, replace=False)\n",
    "\n",
    "# filter the sharegpt and wizardlm with the sampled ori_id\n",
    "filtered_sharegpt = sharegpt.filter(lambda x: x['ori_id'] in sampled_sharegpt_ori_ids)\n",
    "filtered_wizardlm = wizardlm.filter(lambda x: x['ori_id'] in sampled_sharegpt_ori_ids)"
   ]
  },
  {
   "cell_type": "code",
   "execution_count": null,
   "metadata": {},
   "outputs": [],
   "source": [
    "output_path = '/mnt/data/data-selection/data/processed/sharegpt_wizardlm'\n",
    "if not os.path.exists(output_path):\n",
    "    os.makedirs(output_path)\n",
    "\n",
    "with open(os.path.join(output_path, 'sharegpt_wizardlm_data.jsonl'), 'w') as f:\n",
    "    for example in filtered_sharegpt:\n",
    "        f.write(json.dumps(example) + '\\n')\n",
    "    for example in filtered_wizardlm:\n",
    "        f.write(json.dumps(example) + '\\n')"
   ]
  },
  {
   "cell_type": "code",
   "execution_count": 17,
   "metadata": {},
   "outputs": [],
   "source": [
    "data_path = '/mnt/data/data-selection/data/processed/sharegpt_wizardlm/sharegpt_wizardlm_data.jsonl'\n",
    "scores_path = '/mnt/data/data-selection/data/processed/sharegpt_wizardlm/scores.jsonl'\n",
    "\n",
    "with open(scores_path, \"r\") as f:\n",
    "    lines = f.readlines()\n",
    "scores = [json.loads(line)['eval_score'] for line in lines]\n",
    "eval_scores = np.array(scores, dtype=np.int64)\n",
    "\n",
    "data = load_dataset('json', data_files=data_path)['train']\n",
    "eval_scores = eval_scores[:len(data)]"
   ]
  },
  {
   "cell_type": "code",
   "execution_count": 18,
   "metadata": {},
   "outputs": [
    {
     "data": {
      "text/plain": [
       "Dataset({\n",
       "    features: ['dataset', 'id', 'messages', 'ori_id', 'eval_score'],\n",
       "    num_rows: 3092\n",
       "})"
      ]
     },
     "execution_count": 18,
     "metadata": {},
     "output_type": "execute_result"
    }
   ],
   "source": [
    "data = data.add_column('eval_score', eval_scores)\n",
    "data"
   ]
  },
  {
   "cell_type": "code",
   "execution_count": 24,
   "metadata": {},
   "outputs": [
    {
     "name": "stderr",
     "output_type": "stream",
     "text": [
      "Filter: 100%|██████████| 3092/3092 [00:00<00:00, 22955.27 examples/s]\n"
     ]
    }
   ],
   "source": [
    "# sample three ori_id and plot the distribution of scores among datasets\n",
    "unique_sharegpt_ori_ids = list(set(data['ori_id']))\n",
    "sampled_ori_ids = np.random.choice(unique_sharegpt_ori_ids, 15, replace=False)\n",
    "sampled_data = data.filter(lambda x: x['ori_id'] in sampled_ori_ids)"
   ]
  },
  {
   "cell_type": "code",
   "execution_count": 26,
   "metadata": {},
   "outputs": [
    {
     "data": {
      "text/html": [
       "<div>\n",
       "<style scoped>\n",
       "    .dataframe tbody tr th:only-of-type {\n",
       "        vertical-align: middle;\n",
       "    }\n",
       "\n",
       "    .dataframe tbody tr th {\n",
       "        vertical-align: top;\n",
       "    }\n",
       "\n",
       "    .dataframe thead th {\n",
       "        text-align: right;\n",
       "    }\n",
       "</style>\n",
       "<table border=\"1\" class=\"dataframe\">\n",
       "  <thead>\n",
       "    <tr style=\"text-align: right;\">\n",
       "      <th></th>\n",
       "      <th>ori_id</th>\n",
       "      <th>eval_score</th>\n",
       "    </tr>\n",
       "  </thead>\n",
       "  <tbody>\n",
       "    <tr>\n",
       "      <th>0</th>\n",
       "      <td>3ktwkYA</td>\n",
       "      <td>{'sharegpt': 22.0, 'wizardlm': 8.0}</td>\n",
       "    </tr>\n",
       "    <tr>\n",
       "      <th>1</th>\n",
       "      <td>8OCFfXN</td>\n",
       "      <td>{'sharegpt': 14.0}</td>\n",
       "    </tr>\n",
       "    <tr>\n",
       "      <th>2</th>\n",
       "      <td>AkVr3jK</td>\n",
       "      <td>{'sharegpt': 12.0}</td>\n",
       "    </tr>\n",
       "    <tr>\n",
       "      <th>3</th>\n",
       "      <td>HMdLf06</td>\n",
       "      <td>{'sharegpt': 8.0}</td>\n",
       "    </tr>\n",
       "    <tr>\n",
       "      <th>4</th>\n",
       "      <td>IpRsuvi</td>\n",
       "      <td>{'sharegpt': 16.0, 'wizardlm': 26.0}</td>\n",
       "    </tr>\n",
       "    <tr>\n",
       "      <th>5</th>\n",
       "      <td>IqlftfZ</td>\n",
       "      <td>{'sharegpt': 6.0}</td>\n",
       "    </tr>\n",
       "    <tr>\n",
       "      <th>6</th>\n",
       "      <td>Kv8mRL8</td>\n",
       "      <td>{'sharegpt': 1.0, 'wizardlm': 8.0}</td>\n",
       "    </tr>\n",
       "    <tr>\n",
       "      <th>7</th>\n",
       "      <td>LXAAH8k</td>\n",
       "      <td>{'sharegpt': 10.0}</td>\n",
       "    </tr>\n",
       "    <tr>\n",
       "      <th>8</th>\n",
       "      <td>URTZtg9</td>\n",
       "      <td>{'sharegpt': 6.0, 'wizardlm': 16.0}</td>\n",
       "    </tr>\n",
       "    <tr>\n",
       "      <th>9</th>\n",
       "      <td>Xmta61B</td>\n",
       "      <td>{'sharegpt': 20.0, 'wizardlm': 25.0}</td>\n",
       "    </tr>\n",
       "    <tr>\n",
       "      <th>10</th>\n",
       "      <td>YHQTlyt</td>\n",
       "      <td>{'sharegpt': 3.0}</td>\n",
       "    </tr>\n",
       "    <tr>\n",
       "      <th>11</th>\n",
       "      <td>ffpn52l</td>\n",
       "      <td>{'sharegpt': 8.0}</td>\n",
       "    </tr>\n",
       "    <tr>\n",
       "      <th>12</th>\n",
       "      <td>m5WZ23c</td>\n",
       "      <td>{'sharegpt': 20.0, 'wizardlm': 25.0}</td>\n",
       "    </tr>\n",
       "    <tr>\n",
       "      <th>13</th>\n",
       "      <td>s3SLZNR</td>\n",
       "      <td>{'sharegpt': 6.0, 'wizardlm': 12.0}</td>\n",
       "    </tr>\n",
       "    <tr>\n",
       "      <th>14</th>\n",
       "      <td>w2S8wty</td>\n",
       "      <td>{'sharegpt': 17.0}</td>\n",
       "    </tr>\n",
       "  </tbody>\n",
       "</table>\n",
       "</div>"
      ],
      "text/plain": [
       "     ori_id                            eval_score\n",
       "0   3ktwkYA   {'sharegpt': 22.0, 'wizardlm': 8.0}\n",
       "1   8OCFfXN                    {'sharegpt': 14.0}\n",
       "2   AkVr3jK                    {'sharegpt': 12.0}\n",
       "3   HMdLf06                     {'sharegpt': 8.0}\n",
       "4   IpRsuvi  {'sharegpt': 16.0, 'wizardlm': 26.0}\n",
       "5   IqlftfZ                     {'sharegpt': 6.0}\n",
       "6   Kv8mRL8    {'sharegpt': 1.0, 'wizardlm': 8.0}\n",
       "7   LXAAH8k                    {'sharegpt': 10.0}\n",
       "8   URTZtg9   {'sharegpt': 6.0, 'wizardlm': 16.0}\n",
       "9   Xmta61B  {'sharegpt': 20.0, 'wizardlm': 25.0}\n",
       "10  YHQTlyt                     {'sharegpt': 3.0}\n",
       "11  ffpn52l                     {'sharegpt': 8.0}\n",
       "12  m5WZ23c  {'sharegpt': 20.0, 'wizardlm': 25.0}\n",
       "13  s3SLZNR   {'sharegpt': 6.0, 'wizardlm': 12.0}\n",
       "14  w2S8wty                    {'sharegpt': 17.0}"
      ]
     },
     "execution_count": 26,
     "metadata": {},
     "output_type": "execute_result"
    }
   ],
   "source": [
    "df = sampled_data.to_pandas()\n",
    "# group by ori_id and add a new column as the mean of eval_score across datasets: \"{'sharegpt': [1, 2, 3], 'wizardlm': [4, 5, 6]}\"\n",
    "df = df.groupby('ori_id').agg({'eval_score': list}).reset_index()\n",
    "df['eval_score'] = df['eval_score'].apply(lambda x: {d: np.mean(x) for d, x in zip(['sharegpt', 'wizardlm'], x)})\n",
    "df"
   ]
  },
  {
   "cell_type": "code",
   "execution_count": 37,
   "metadata": {},
   "outputs": [
    {
     "data": {
      "text/plain": [
       "array([{'role': 'user', 'content': 'How can the application of PYTHON be optimized for quantitative trading, specifically with regards to the implementation of algorithmic models and statistical analysis?'},\n",
       "       {'role': 'assistant', 'content': 'There are several ways to optimize the application of Python for quantitative trading:\\r\\n\\r\\n1. Use efficient data structures: The choice of data structures can have a significant impact on the speed of the code. For example, using NumPy arrays instead of lists can result in faster computations.\\r\\n\\r\\n2. Parallel processing: Python has several libraries such as multiprocessing, Dask and joblib which can help you run multiple processes simultaneously, this can improve the speed of computations when running time-consuming models or backtesting.\\r\\n\\r\\n3. Vectorization: Vectorization is another way to speed up calculations by performing operations on arrays instead of individual values. This can be done using libraries such as NumPy, SciPy and Pandas.\\r\\n\\r\\n4. Memory management: Python uses a garbage collector to free up memory that is no longer in use. However, excessive use of memory can slow down the application. Managing memory by using data compression techniques or reducing the size of data structures can improve the speed of the code.\\r\\n\\r\\n5. Code profiling: Profiling can help identify bottlenecks in the code, i.e., which parts of the code are taking the most time to execute. This can be done using profiling libraries such as cProfile and line_profiler.\\r\\n\\r\\n6. Cython: Cython is a compiler that translates Python code to C. This can significantly improve the performance of the code, especially when using loops and numerical operations.\\r\\n\\r\\n7. GPU acceleration: GPU acceleration is a technique that uses the power of graphics cards to perform computations faster. Python libraries such as TensorFlow and PyTorch can be used to take advantage of GPU acceleration.\\r\\n\\r\\nOverall, optimizing Python for quantitative trading requires a combination of efficient coding techniques and the use of appropriate libraries.'}],\n",
       "      dtype=object)"
      ]
     },
     "execution_count": 37,
     "metadata": {},
     "output_type": "execute_result"
    }
   ],
   "source": [
    "# filter the one that ori_id == \"3ktwkYA\"\n",
    "test_df = data.filter(lambda x: x['ori_id'] == \"3ktwkYA\").to_pandas()\n",
    "test_df.iloc[1]['messages']"
   ]
  },
  {
   "cell_type": "code",
   "execution_count": null,
   "metadata": {},
   "outputs": [],
   "source": []
  }
 ],
 "metadata": {
  "kernelspec": {
   "display_name": "Python 3",
   "language": "python",
   "name": "python3"
  },
  "language_info": {
   "codemirror_mode": {
    "name": "ipython",
    "version": 3
   },
   "file_extension": ".py",
   "mimetype": "text/x-python",
   "name": "python",
   "nbconvert_exporter": "python",
   "pygments_lexer": "ipython3",
   "version": "3.10.13"
  },
  "orig_nbformat": 4
 },
 "nbformat": 4,
 "nbformat_minor": 2
}
