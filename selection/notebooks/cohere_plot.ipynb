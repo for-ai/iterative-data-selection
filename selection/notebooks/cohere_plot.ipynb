{
 "cells": [
  {
   "cell_type": "code",
   "execution_count": 9,
   "metadata": {},
   "outputs": [],
   "source": [
    "import os\n",
    "import json\n",
    "import numpy as np\n",
    "import pandas as pd\n",
    "import matplotlib.pyplot as plt\n",
    "import seaborn as sns\n",
    "from sklearn import metrics\n",
    "import faiss\n",
    "from vendi_score import vendi\n",
    "from tqdm import tqdm\n",
    "from transformers import AutoTokenizer, AutoModel\n",
    "from datasets import load_dataset\n",
    "\n",
    "scores_path = '/mnt/data/data-selection/data/processed/cohere/scores.jsonl'\n",
    "data_path = '/mnt/data/data-selection/data/processed/cohere/cohere_data.jsonl'\n",
    "embedding_cache_path = '/mnt/data/data-selection/data/processed/cohere/Llama-2-7b-hf-tulu_user_only-embeddings.npy'\n",
    "\n",
    "indices_path = {\n",
    "    'random': '/mnt/data/data-selection/selection/indices/cohere_Random_0.05_Llama-2-7b-hf.pkl',\n",
    "    'KMeansRandom_1024': '/mnt/data/data-selection/selection/indices/cohere_KMenasRandomDeita_0.05_Llama-2-7b-hf_1024.pkl',\n",
    "    'KMeansRandom_64': '/mnt/data/data-selection/selection/indices/cohere_KMenasRandomDeita_0.05_Llama-2-7b-hf_64.pkl',\n",
    "    'Deita': '/mnt/data/data-selection/selection/indices/cohere_KCenterGreedyDeita_0.05_Llama-2-7b-hf.pkl',\n",
    "    'KMeansDynamic': '/mnt/data/data-selection/selection/indices/cohere_KMeansDynamic_0.05_Llama-2-7b-hf.pkl',\n",
    "    'KMeansRandom': '/mnt/data/data-selection/selection/indices/cohere_KMeansRandom_0.05_Llama-2-7b-hf.pkl'\n",
    "}"
   ]
  },
  {
   "cell_type": "code",
   "execution_count": 2,
   "metadata": {},
   "outputs": [],
   "source": [
    "def safe_softmax(x):\n",
    "    e_x = np.exp(x - np.max(x))\n",
    "    return e_x / e_x.sum()\n",
    "\n",
    "def cosine_similarity(a, b):\n",
    "    return np.dot(a, b) / (np.linalg.norm(a) * np.linalg.norm(b))"
   ]
  },
  {
   "cell_type": "code",
   "execution_count": 3,
   "metadata": {},
   "outputs": [
    {
     "data": {
      "text/plain": [
       "(125000, 4096)"
      ]
     },
     "execution_count": 3,
     "metadata": {},
     "output_type": "execute_result"
    }
   ],
   "source": [
    "with open(scores_path) as f:\n",
    "    scores = [json.loads(l) for l in f]\n",
    "\n",
    "scores = pd.DataFrame(scores)\n",
    "embeddings = np.load(embedding_cache_path)\n",
    "\n",
    "dataset = load_dataset('json', data_files=data_path, field='train')['train']\n",
    "dataset\n",
    "\n",
    "embeddings.shape"
   ]
  },
  {
   "cell_type": "code",
   "execution_count": 4,
   "metadata": {},
   "outputs": [],
   "source": [
    "with open(scores_path, \"r\") as f:\n",
    "    lines = f.readlines()\n",
    "scores = [json.loads(line)['eval_score'] for line in lines]\n",
    "eval_scores = np.array(scores, dtype=np.int64)\n",
    "eval_ranking = np.argsort(scores)[::-1]"
   ]
  },
  {
   "cell_type": "code",
   "execution_count": null,
   "metadata": {},
   "outputs": [],
   "source": [
    "tokenizer = AutoTokenizer.from_pretrained(\"meta-llama/Llama-2-7b-hf\")\n",
    "\n",
    "def encode_messages_and_length(example, tokenizer):\n",
    "    def _concat_messages(messages):\n",
    "        message_text = \"\"\n",
    "        for message in messages:\n",
    "            if message[\"role\"] == \"system\":\n",
    "                message_text += \"<|system|>\\n\" + message[\"content\"].strip() + \"\\n\"\n",
    "            elif message[\"role\"] == \"user\":\n",
    "                message_text += \"<|user|>\\n\" + message[\"content\"].strip() + \"\\n\"\n",
    "            elif message[\"role\"] == \"assistant\":\n",
    "                message_text += \"<|assistant|>\\n\" + message[\"content\"].strip() + tokenizer.eos_token + \"\\n\"\n",
    "            else:\n",
    "                raise ValueError(\"Invalid role: {}\".format(message[\"role\"]))\n",
    "        return message_text\n",
    "        \n",
    "    example_text = _concat_messages(example[\"messages\"])\n",
    "    # calculate how times <|assistant|> and <|user|> appear in the example\n",
    "    assistant_count = example_text.count(\"<|assistant|>\")\n",
    "    user_count = example_text.count(\"<|user|>\")\n",
    "    tokenized_example = tokenizer(example_text, return_tensors='pt')\n",
    "    input_ids = tokenized_example.input_ids\n",
    "    labels = input_ids.clone()\n",
    "\n",
    "    return {\n",
    "        'length': len(input_ids.flatten()),\n",
    "        'user_count': user_count,\n",
    "        'assistant_count': assistant_count,\n",
    "    }\n",
    "dataset = load_dataset('json', data_files=data_path, field='train')['train']\n",
    "dataset"
   ]
  },
  {
   "cell_type": "code",
   "execution_count": null,
   "metadata": {},
   "outputs": [],
   "source": [
    "import pickle as pkl\n",
    "\n",
    "index_names = [\"Deita\", \"KMeansDynamic\", \"KMeansRandom_1024\", \"random\"]\n",
    "name2indices = {}\n",
    "name2ziped = {}\n",
    "for name in index_names:\n",
    "    with open(indices_path[name], 'rb') as f:\n",
    "        name2indices[name] = np.array(pkl.load(f)['indices'])\n",
    "\n",
    "        messages = dataset.select(name2indices[name]).map(lambda x: encode_messages_and_length(x, tokenizer), batched=False)\n",
    "        length = messages['length']\n",
    "        scores = list(eval_scores[name2indices[name]])\n",
    "        ziped = list(zip(length, scores))\n",
    "        name2ziped[name] = ziped\n",
    "name2indices"
   ]
  },
  {
   "cell_type": "code",
   "execution_count": null,
   "metadata": {},
   "outputs": [],
   "source": [
    "# test_length = test['length']\n",
    "# test_scores = list(eval_scores[name2indices['Deita']])\n",
    "# ziped = list(zip(test_length, test_scores))\n",
    "# # plot the scatter plot\n",
    "# plt.scatter(*zip(*ziped))\n",
    "# plot the scatter plot with different colors for different ziped\n",
    "for name in [\"Deita\", \"random\"]:\n",
    "    plt.scatter(*zip(*name2ziped[name]), label=name)\n",
    "# x axis as length, y axis as scores\n",
    "plt.xlabel('Length')\n",
    "plt.ylabel('Scores')\n",
    "\n",
    "plt.legend()\n",
    "plt.show()"
   ]
  },
  {
   "cell_type": "code",
   "execution_count": null,
   "metadata": {},
   "outputs": [],
   "source": [
    "import pickle as pkl\n",
    "selected_scores = {}\n",
    "selected_embeddings = {}\n",
    "for name, index_path in indices_path.items():\n",
    "    print(name)\n",
    "    with open(index_path, 'rb') as f:\n",
    "        index = pkl.load(f)\n",
    "    indices = np.array(index['indices'])\n",
    "\n",
    "    selected_scores[name] = eval_scores[indices]\n",
    "    selected_embeddings[name] = embeddings[indices]\n",
    "    print('Score:', np.mean(selected_scores[name]))\n",
    "    # sample 500 to compute vendi score\n",
    "    # seeds = [1, 13, 42, 87, 100]\n",
    "    seeds= [42]\n",
    "    vendi_scores = []\n",
    "    for seed in seeds:\n",
    "        np.random.seed(seed)\n",
    "        sample_indices = np.random.choice(indices, 2500, replace=False)\n",
    "        vendi_scores.append(vendi.score(embeddings[sample_indices], cosine_similarity))\n",
    "    \n",
    "    print('Vendi score:', np.mean(vendi_scores), '+-', np.std(vendi_scores))\n",
    "    # print('Vendi score:', vendi.score(selected_embeddings[name][:2500], cosine_similarity))\n"
   ]
  },
  {
   "cell_type": "markdown",
   "metadata": {},
   "source": [
    "### Results for 2500 points\n",
    "\n",
    "| Model | LLM-as-Judge Score | Vendi score |\n",
    "| --- | --- | --- |\n",
    "| random | 14.91 | 15.97 |\n",
    "| KMeansRandom_1024 | 35.20 | 20.43 |\n",
    "| KMeansRandom_64 | 44.86 | 20.73 |\n",
    "| Deita | **78.98** | 24.69 |\n",
    "| KMeansDynamic | 72.17 | **25.14** |\n"
   ]
  },
  {
   "cell_type": "code",
   "execution_count": null,
   "metadata": {},
   "outputs": [],
   "source": [
    "eval_scores[np.array([0,1])]"
   ]
  },
  {
   "cell_type": "code",
   "execution_count": null,
   "metadata": {},
   "outputs": [],
   "source": []
  },
  {
   "cell_type": "code",
   "execution_count": null,
   "metadata": {},
   "outputs": [],
   "source": [
    "# plot the distribution of scores['eval_score'] as histogram\n",
    "sns.histplot(scores['eval_score'], bins=50)"
   ]
  },
  {
   "cell_type": "markdown",
   "metadata": {},
   "source": [
    "### Clustering (KMeansDynamic)"
   ]
  },
  {
   "cell_type": "code",
   "execution_count": null,
   "metadata": {},
   "outputs": [],
   "source": [
    "# perform k-means clustering with embeddings\n",
    "K = 64\n",
    "d = embeddings.shape[1]\n",
    "index = faiss.IndexFlatL2(d)\n",
    "index.add(embeddings)\n",
    "\n",
    "kmeans = faiss.Kmeans(d, K, niter=300, verbose=True, nredo=5, gpu=True)\n",
    "kmeans.train(embeddings)\n",
    "\n",
    "pca = faiss.PCAMatrix(d, 2)\n",
    "pca.train(embeddings)"
   ]
  },
  {
   "cell_type": "code",
   "execution_count": null,
   "metadata": {},
   "outputs": [],
   "source": [
    "from collections import Counter, defaultdict\n",
    "distances, indices = kmeans.index.search(embeddings, 1)\n",
    "indices = indices.flatten()\n",
    "# sample 100 point from each cluster and plot them in 2D with legend\n",
    "sampled_indices = {i : np.array([], dtype=np.int64) for i in range(K)}\n",
    "cluster2scores = {}\n",
    "clusters2indices = {i : np.where(indices == i)[0] for i in range(K)}\n",
    "clusters2weights = np.ones(K) / K\n",
    "\n",
    "select_size = 100\n",
    "trial = 5\n",
    "for t in range(trial):\n",
    "    cluster2scores = {}\n",
    "    assigned_size = np.ceil(clusters2weights * (select_size * K)).astype(int)\n",
    "    # plot the assigned_size with x axis as cluster index\n",
    "    fig, ax = plt.subplots(figsize=(10, 6))\n",
    "    plt.bar(range(K), assigned_size)\n",
    "    # with title as the current trial\n",
    "    plt.title(f\"Trial {t}\")\n",
    "    plt.show()\n",
    "\n",
    "    for i in range(K):\n",
    "        indices_i = clusters2indices[i]\n",
    "        scores_i = eval_scores[indices_i]\n",
    "        p = safe_softmax(scores_i)\n",
    "        size = min(assigned_size[i], len(indices_i))\n",
    "        indices_i_sampled = np.random.choice(indices_i, size=size, p=p, replace=False)\n",
    "        sampled_indices[i] = np.concatenate([sampled_indices[i], indices_i_sampled])\n",
    "        # cluster2scores[i] = eval_scores[sampled_indices[i]] / (len(sampled_indices[i]))\n",
    "        cluster2scores[i] = eval_scores[sampled_indices[i]]\n",
    "        \n",
    "        clusters2weights[i] = np.sum(cluster2scores[i])\n",
    "        clusters2indices[i] = np.setdiff1d(clusters2indices[i], indices_i_sampled)\n",
    "        print(f\"Cluster {i} score: {cluster2scores[i]}\")\n",
    "    clusters2weights /= np.sum(clusters2weights)\n",
    "    # clusters2weights = safe_softmax(clusters2weights)\n",
    "\n",
    "    # plot the distribution of cluster2scores with x axis as cluster index, y axis as the score using boxplot\n",
    "    fig, ax = plt.subplots(figsize=(15, 8))\n",
    "    plt.boxplot([cluster2scores[i] for i in range(K)])\n",
    "    plt.title(f\"Trial {t}\")\n",
    "    plt.show()"
   ]
  },
  {
   "cell_type": "markdown",
   "metadata": {},
   "source": [
    "### Clustering (Check indices belong dataset)"
   ]
  },
  {
   "cell_type": "code",
   "execution_count": 16,
   "metadata": {},
   "outputs": [
    {
     "data": {
      "text/plain": [
       "{'random': Counter({'metamathqa': 1530,\n",
       "          'sharegpt': 1506,\n",
       "          'wizardlm': 1463,\n",
       "          'magicoder': 1037,\n",
       "          'open_orca': 714}),\n",
       " 'KMeansRandom_1024': Counter({'sharegpt': 1628,\n",
       "          'wizardlm': 1625,\n",
       "          'metamathqa': 1391,\n",
       "          'magicoder': 901,\n",
       "          'open_orca': 522}),\n",
       " 'KMeansRandom_64': Counter({'wizardlm': 2304,\n",
       "          'sharegpt': 1633,\n",
       "          'magicoder': 1210,\n",
       "          'metamathqa': 775,\n",
       "          'open_orca': 286}),\n",
       " 'Deita': Counter({'wizardlm': 6009, 'magicoder': 138, 'sharegpt': 103}),\n",
       " 'KMeansDynamic': Counter({'wizardlm': 4935,\n",
       "          'sharegpt': 761,\n",
       "          'magicoder': 717,\n",
       "          'metamathqa': 222,\n",
       "          'open_orca': 70}),\n",
       " 'KMeansRandom': Counter({'sharegpt': 1595,\n",
       "          'wizardlm': 1416,\n",
       "          'metamathqa': 1393,\n",
       "          'magicoder': 909,\n",
       "          'open_orca': 754})}"
      ]
     },
     "execution_count": 16,
     "metadata": {},
     "output_type": "execute_result"
    }
   ],
   "source": [
    "from collections import Counter, defaultdict\n",
    "import pickle as pkl\n",
    "indices2datasetdist = {}\n",
    "for indices_name, path in indices_path.items():\n",
    "    path = path.replace('.pkl', '_norm.pkl')\n",
    "    with open(path, 'rb') as f:\n",
    "        indices = pkl.load(f)['indices']\n",
    "        indices2datasetdist[indices_name] = Counter(dataset.select(indices)['dataset'])\n",
    "\n",
    "indices2datasetdist"
   ]
  },
  {
   "cell_type": "code",
   "execution_count": 22,
   "metadata": {},
   "outputs": [
    {
     "data": {
      "image/png": "[encoded data removed]",
      "text/plain": [
       "<Figure size 1500x800 with 1 Axes>"
      ]
     },
     "metadata": {},
     "output_type": "display_data"
    }
   ],
   "source": [
    "# plot the distribution of dataset among each indices, with indices name as x axis, and the count of each dataset as y axis, dataset as different color, with each bar next to each other, no stacking\n",
    "fig, ax = plt.subplots(figsize=(15, 8))\n",
    "df = pd.DataFrame(indices2datasetdist).fillna(0).T\n",
    "df.plot(kind='bar', stacked=False, ax=ax)\n",
    "plt.show()"
   ]
  },
  {
   "cell_type": "code",
   "execution_count": null,
   "metadata": {},
   "outputs": [],
   "source": [
    "eval_scores = np.array(scores, dtype=np.int64)\n",
    "eval_scores = eval_scores[:len(dataset)]\n",
    "\n",
    "dataset = dataset.add_column('eval_score', eval_scores)\n",
    "dataset"
   ]
  },
  {
   "cell_type": "code",
   "execution_count": null,
   "metadata": {},
   "outputs": [],
   "source": [
    "# plot the distribution of scores across different datasets\n",
    "fig, ax = plt.subplots(figsize=(15, 8))\n",
    "dataset2scores = defaultdict(list)\n",
    "dataset_indices = dataset['dataset']\n",
    "dataset_names = list(set(dataset['dataset']))\n",
    "for dataset_name in dataset_names:\n",
    "    filtered_by_dataset = dataset.filter(lambda x: x['dataset'] == dataset_name)\n",
    "    dataset2scores[dataset_name] = filtered_by_dataset['eval_score']\n",
    "# plot boxplot with x axis as dataset name, y axis as scores\n",
    "plt.boxplot(dataset2scores.values(), labels=dataset2scores.keys())\n",
    "plt.title('Scores across different datasets')\n",
    "plt.legend()\n",
    "plt.show()"
   ]
  },
  {
   "cell_type": "code",
   "execution_count": null,
   "metadata": {},
   "outputs": [],
   "source": [
    "dataset = dataset.map(lambda x: {'norm_scores': x['eval_score'] / len(x['messages'])})\n",
    "\n",
    "fig, ax = plt.subplots(figsize=(15, 8))\n",
    "dataset2scores = defaultdict(list)\n",
    "dataset_indices = dataset['dataset']\n",
    "dataset_names = list(set(dataset['dataset']))\n",
    "for dataset_name in dataset_names:\n",
    "    filtered_by_dataset = dataset.filter(lambda x: x['dataset'] == dataset_name)\n",
    "    dataset2scores[dataset_name] = filtered_by_dataset['norm_scores']\n",
    "# plot boxplot with x axis as dataset name, y axis as scores\n",
    "plt.boxplot(dataset2scores.values(), labels=dataset2scores.keys())\n",
    "plt.title('Norm Scores across different datasets')\n",
    "plt.legend()\n",
    "plt.show()"
   ]
  },
  {
   "cell_type": "code",
   "execution_count": null,
   "metadata": {},
   "outputs": [],
   "source": [
    "norm_scores = dataset['norm_scores']\n",
    "# save the norm_scores to the file\n",
    "with open('/mnt/data/data-selection/data/processed/cohere/norm_scores.jsonl', 'w') as f:\n",
    "    for score in norm_scores:\n",
    "        f.write(json.dumps({'eval_score': score}) + '\\n')"
   ]
  },
  {
   "cell_type": "code",
   "execution_count": 6,
   "metadata": {},
   "outputs": [],
   "source": [
    "# would deita score higher for wizardlm than sharegpt\n",
    "sharegpt = load_dataset('json',\n",
    "                        data_files='/mnt/data/data-selection/data/processed/sharegpt/sharegpt_data.jsonl')['train']\n",
    "wizardlm = load_dataset('json',\n",
    "                        data_files='/mnt/data/data-selection/data/processed/wizardlm_old/wizardlm_data.jsonl')['train']\n",
    "\n",
    "sharegpt = sharegpt.map(lambda x: {'ori_id': x['id'].split('_')[1]})\n",
    "wizardlm = wizardlm.map(lambda x: {'ori_id': x['id'].split('_')[1]})"
   ]
  },
  {
   "cell_type": "code",
   "execution_count": 7,
   "metadata": {},
   "outputs": [
    {
     "name": "stderr",
     "output_type": "stream",
     "text": [
      "Filter: 100%|██████████| 168864/168864 [00:08<00:00, 19601.89 examples/s]\n",
      "Filter:  38%|███▊      | 54000/143000 [00:01<00:02, 38484.95 examples/s]\n"
     ]
    },
    {
     "ename": "KeyboardInterrupt",
     "evalue": "",
     "output_type": "error",
     "traceback": [
      "\u001b[0;31m---------------------------------------------------------------------------\u001b[0m",
      "\u001b[0;31mKeyboardInterrupt\u001b[0m                         Traceback (most recent call last)",
      "\u001b[1;32m/mnt/data/data-selection/selection/notebooks/cohere_plot.ipynb Cell 22\u001b[0m line \u001b[0;36m8\n\u001b[1;32m      <a href='vscode-notebook-cell://ssh-remote%2Bsimon-yu-data-selection-1-asia-northeast1-c.asia-northeast1-c.c4ai-356718/mnt/data/data-selection/selection/notebooks/cohere_plot.ipynb#X30sdnNjb2RlLXJlbW90ZQ%3D%3D?line=5'>6</a>\u001b[0m \u001b[39m# filter the sharegpt and wizardlm with the sampled ori_id\u001b[39;00m\n\u001b[1;32m      <a href='vscode-notebook-cell://ssh-remote%2Bsimon-yu-data-selection-1-asia-northeast1-c.asia-northeast1-c.c4ai-356718/mnt/data/data-selection/selection/notebooks/cohere_plot.ipynb#X30sdnNjb2RlLXJlbW90ZQ%3D%3D?line=6'>7</a>\u001b[0m filtered_sharegpt \u001b[39m=\u001b[39m sharegpt\u001b[39m.\u001b[39mfilter(\u001b[39mlambda\u001b[39;00m x: x[\u001b[39m'\u001b[39m\u001b[39mori_id\u001b[39m\u001b[39m'\u001b[39m] \u001b[39min\u001b[39;00m sampled_sharegpt_ori_ids)\n\u001b[0;32m----> <a href='vscode-notebook-cell://ssh-remote%2Bsimon-yu-data-selection-1-asia-northeast1-c.asia-northeast1-c.c4ai-356718/mnt/data/data-selection/selection/notebooks/cohere_plot.ipynb#X30sdnNjb2RlLXJlbW90ZQ%3D%3D?line=7'>8</a>\u001b[0m filtered_wizardlm \u001b[39m=\u001b[39m wizardlm\u001b[39m.\u001b[39;49mfilter(\u001b[39mlambda\u001b[39;49;00m x: x[\u001b[39m'\u001b[39;49m\u001b[39mori_id\u001b[39;49m\u001b[39m'\u001b[39;49m] \u001b[39min\u001b[39;49;00m sampled_sharegpt_ori_ids)\n",
      "File \u001b[0;32m/mnt/data/selection/lib/python3.10/site-packages/datasets/arrow_dataset.py:557\u001b[0m, in \u001b[0;36mtransmit_format.<locals>.wrapper\u001b[0;34m(*args, **kwargs)\u001b[0m\n\u001b[1;32m    550\u001b[0m self_format \u001b[39m=\u001b[39m {\n\u001b[1;32m    551\u001b[0m     \u001b[39m\"\u001b[39m\u001b[39mtype\u001b[39m\u001b[39m\"\u001b[39m: \u001b[39mself\u001b[39m\u001b[39m.\u001b[39m_format_type,\n\u001b[1;32m    552\u001b[0m     \u001b[39m\"\u001b[39m\u001b[39mformat_kwargs\u001b[39m\u001b[39m\"\u001b[39m: \u001b[39mself\u001b[39m\u001b[39m.\u001b[39m_format_kwargs,\n\u001b[1;32m    553\u001b[0m     \u001b[39m\"\u001b[39m\u001b[39mcolumns\u001b[39m\u001b[39m\"\u001b[39m: \u001b[39mself\u001b[39m\u001b[39m.\u001b[39m_format_columns,\n\u001b[1;32m    554\u001b[0m     \u001b[39m\"\u001b[39m\u001b[39moutput_all_columns\u001b[39m\u001b[39m\"\u001b[39m: \u001b[39mself\u001b[39m\u001b[39m.\u001b[39m_output_all_columns,\n\u001b[1;32m    555\u001b[0m }\n\u001b[1;32m    556\u001b[0m \u001b[39m# apply actual function\u001b[39;00m\n\u001b[0;32m--> 557\u001b[0m out: Union[\u001b[39m\"\u001b[39m\u001b[39mDataset\u001b[39m\u001b[39m\"\u001b[39m, \u001b[39m\"\u001b[39m\u001b[39mDatasetDict\u001b[39m\u001b[39m\"\u001b[39m] \u001b[39m=\u001b[39m func(\u001b[39mself\u001b[39;49m, \u001b[39m*\u001b[39;49margs, \u001b[39m*\u001b[39;49m\u001b[39m*\u001b[39;49mkwargs)\n\u001b[1;32m    558\u001b[0m datasets: List[\u001b[39m\"\u001b[39m\u001b[39mDataset\u001b[39m\u001b[39m\"\u001b[39m] \u001b[39m=\u001b[39m \u001b[39mlist\u001b[39m(out\u001b[39m.\u001b[39mvalues()) \u001b[39mif\u001b[39;00m \u001b[39misinstance\u001b[39m(out, \u001b[39mdict\u001b[39m) \u001b[39melse\u001b[39;00m [out]\n\u001b[1;32m    559\u001b[0m \u001b[39m# re-apply format to the output\u001b[39;00m\n",
      "File \u001b[0;32m/mnt/data/selection/lib/python3.10/site-packages/datasets/fingerprint.py:481\u001b[0m, in \u001b[0;36mfingerprint_transform.<locals>._fingerprint.<locals>.wrapper\u001b[0;34m(*args, **kwargs)\u001b[0m\n\u001b[1;32m    477\u001b[0m             validate_fingerprint(kwargs[fingerprint_name])\n\u001b[1;32m    479\u001b[0m \u001b[39m# Call actual function\u001b[39;00m\n\u001b[0;32m--> 481\u001b[0m out \u001b[39m=\u001b[39m func(dataset, \u001b[39m*\u001b[39;49margs, \u001b[39m*\u001b[39;49m\u001b[39m*\u001b[39;49mkwargs)\n\u001b[1;32m    483\u001b[0m \u001b[39m# Update fingerprint of in-place transforms + update in-place history of transforms\u001b[39;00m\n\u001b[1;32m    485\u001b[0m \u001b[39mif\u001b[39;00m inplace:  \u001b[39m# update after calling func so that the fingerprint doesn't change if the function fails\u001b[39;00m\n",
      "File \u001b[0;32m/mnt/data/selection/lib/python3.10/site-packages/datasets/arrow_dataset.py:3623\u001b[0m, in \u001b[0;36mDataset.filter\u001b[0;34m(self, function, with_indices, input_columns, batched, batch_size, keep_in_memory, load_from_cache_file, cache_file_name, writer_batch_size, fn_kwargs, num_proc, suffix_template, new_fingerprint, desc)\u001b[0m\n\u001b[1;32m   3620\u001b[0m \u001b[39mif\u001b[39;00m \u001b[39mlen\u001b[39m(\u001b[39mself\u001b[39m) \u001b[39m==\u001b[39m \u001b[39m0\u001b[39m:\n\u001b[1;32m   3621\u001b[0m     \u001b[39mreturn\u001b[39;00m \u001b[39mself\u001b[39m\n\u001b[0;32m-> 3623\u001b[0m indices \u001b[39m=\u001b[39m \u001b[39mself\u001b[39;49m\u001b[39m.\u001b[39;49mmap(\n\u001b[1;32m   3624\u001b[0m     function\u001b[39m=\u001b[39;49mpartial(\n\u001b[1;32m   3625\u001b[0m         get_indices_from_mask_function, function, batched, with_indices, input_columns, \u001b[39mself\u001b[39;49m\u001b[39m.\u001b[39;49m_indices\n\u001b[1;32m   3626\u001b[0m     ),\n\u001b[1;32m   3627\u001b[0m     with_indices\u001b[39m=\u001b[39;49m\u001b[39mTrue\u001b[39;49;00m,\n\u001b[1;32m   3628\u001b[0m     features\u001b[39m=\u001b[39;49mFeatures({\u001b[39m\"\u001b[39;49m\u001b[39mindices\u001b[39;49m\u001b[39m\"\u001b[39;49m: Value(\u001b[39m\"\u001b[39;49m\u001b[39muint64\u001b[39;49m\u001b[39m\"\u001b[39;49m)}),\n\u001b[1;32m   3629\u001b[0m     batched\u001b[39m=\u001b[39;49m\u001b[39mTrue\u001b[39;49;00m,\n\u001b[1;32m   3630\u001b[0m     batch_size\u001b[39m=\u001b[39;49mbatch_size,\n\u001b[1;32m   3631\u001b[0m     remove_columns\u001b[39m=\u001b[39;49m\u001b[39mself\u001b[39;49m\u001b[39m.\u001b[39;49mcolumn_names,\n\u001b[1;32m   3632\u001b[0m     keep_in_memory\u001b[39m=\u001b[39;49mkeep_in_memory,\n\u001b[1;32m   3633\u001b[0m     load_from_cache_file\u001b[39m=\u001b[39;49mload_from_cache_file,\n\u001b[1;32m   3634\u001b[0m     cache_file_name\u001b[39m=\u001b[39;49mcache_file_name,\n\u001b[1;32m   3635\u001b[0m     writer_batch_size\u001b[39m=\u001b[39;49mwriter_batch_size,\n\u001b[1;32m   3636\u001b[0m     fn_kwargs\u001b[39m=\u001b[39;49mfn_kwargs,\n\u001b[1;32m   3637\u001b[0m     num_proc\u001b[39m=\u001b[39;49mnum_proc,\n\u001b[1;32m   3638\u001b[0m     suffix_template\u001b[39m=\u001b[39;49msuffix_template,\n\u001b[1;32m   3639\u001b[0m     new_fingerprint\u001b[39m=\u001b[39;49mnew_fingerprint,\n\u001b[1;32m   3640\u001b[0m     input_columns\u001b[39m=\u001b[39;49minput_columns,\n\u001b[1;32m   3641\u001b[0m     desc\u001b[39m=\u001b[39;49mdesc \u001b[39mor\u001b[39;49;00m \u001b[39m\"\u001b[39;49m\u001b[39mFilter\u001b[39;49m\u001b[39m\"\u001b[39;49m,\n\u001b[1;32m   3642\u001b[0m )\n\u001b[1;32m   3643\u001b[0m new_dataset \u001b[39m=\u001b[39m copy\u001b[39m.\u001b[39mdeepcopy(\u001b[39mself\u001b[39m)\n\u001b[1;32m   3644\u001b[0m new_dataset\u001b[39m.\u001b[39m_indices \u001b[39m=\u001b[39m indices\u001b[39m.\u001b[39mdata\n",
      "File \u001b[0;32m/mnt/data/selection/lib/python3.10/site-packages/datasets/arrow_dataset.py:592\u001b[0m, in \u001b[0;36mtransmit_tasks.<locals>.wrapper\u001b[0;34m(*args, **kwargs)\u001b[0m\n\u001b[1;32m    590\u001b[0m     \u001b[39mself\u001b[39m: \u001b[39m\"\u001b[39m\u001b[39mDataset\u001b[39m\u001b[39m\"\u001b[39m \u001b[39m=\u001b[39m kwargs\u001b[39m.\u001b[39mpop(\u001b[39m\"\u001b[39m\u001b[39mself\u001b[39m\u001b[39m\"\u001b[39m)\n\u001b[1;32m    591\u001b[0m \u001b[39m# apply actual function\u001b[39;00m\n\u001b[0;32m--> 592\u001b[0m out: Union[\u001b[39m\"\u001b[39m\u001b[39mDataset\u001b[39m\u001b[39m\"\u001b[39m, \u001b[39m\"\u001b[39m\u001b[39mDatasetDict\u001b[39m\u001b[39m\"\u001b[39m] \u001b[39m=\u001b[39m func(\u001b[39mself\u001b[39;49m, \u001b[39m*\u001b[39;49margs, \u001b[39m*\u001b[39;49m\u001b[39m*\u001b[39;49mkwargs)\n\u001b[1;32m    593\u001b[0m datasets: List[\u001b[39m\"\u001b[39m\u001b[39mDataset\u001b[39m\u001b[39m\"\u001b[39m] \u001b[39m=\u001b[39m \u001b[39mlist\u001b[39m(out\u001b[39m.\u001b[39mvalues()) \u001b[39mif\u001b[39;00m \u001b[39misinstance\u001b[39m(out, \u001b[39mdict\u001b[39m) \u001b[39melse\u001b[39;00m [out]\n\u001b[1;32m    594\u001b[0m \u001b[39mfor\u001b[39;00m dataset \u001b[39min\u001b[39;00m datasets:\n\u001b[1;32m    595\u001b[0m     \u001b[39m# Remove task templates if a column mapping of the template is no longer valid\u001b[39;00m\n",
      "File \u001b[0;32m/mnt/data/selection/lib/python3.10/site-packages/datasets/arrow_dataset.py:557\u001b[0m, in \u001b[0;36mtransmit_format.<locals>.wrapper\u001b[0;34m(*args, **kwargs)\u001b[0m\n\u001b[1;32m    550\u001b[0m self_format \u001b[39m=\u001b[39m {\n\u001b[1;32m    551\u001b[0m     \u001b[39m\"\u001b[39m\u001b[39mtype\u001b[39m\u001b[39m\"\u001b[39m: \u001b[39mself\u001b[39m\u001b[39m.\u001b[39m_format_type,\n\u001b[1;32m    552\u001b[0m     \u001b[39m\"\u001b[39m\u001b[39mformat_kwargs\u001b[39m\u001b[39m\"\u001b[39m: \u001b[39mself\u001b[39m\u001b[39m.\u001b[39m_format_kwargs,\n\u001b[1;32m    553\u001b[0m     \u001b[39m\"\u001b[39m\u001b[39mcolumns\u001b[39m\u001b[39m\"\u001b[39m: \u001b[39mself\u001b[39m\u001b[39m.\u001b[39m_format_columns,\n\u001b[1;32m    554\u001b[0m     \u001b[39m\"\u001b[39m\u001b[39moutput_all_columns\u001b[39m\u001b[39m\"\u001b[39m: \u001b[39mself\u001b[39m\u001b[39m.\u001b[39m_output_all_columns,\n\u001b[1;32m    555\u001b[0m }\n\u001b[1;32m    556\u001b[0m \u001b[39m# apply actual function\u001b[39;00m\n\u001b[0;32m--> 557\u001b[0m out: Union[\u001b[39m\"\u001b[39m\u001b[39mDataset\u001b[39m\u001b[39m\"\u001b[39m, \u001b[39m\"\u001b[39m\u001b[39mDatasetDict\u001b[39m\u001b[39m\"\u001b[39m] \u001b[39m=\u001b[39m func(\u001b[39mself\u001b[39;49m, \u001b[39m*\u001b[39;49margs, \u001b[39m*\u001b[39;49m\u001b[39m*\u001b[39;49mkwargs)\n\u001b[1;32m    558\u001b[0m datasets: List[\u001b[39m\"\u001b[39m\u001b[39mDataset\u001b[39m\u001b[39m\"\u001b[39m] \u001b[39m=\u001b[39m \u001b[39mlist\u001b[39m(out\u001b[39m.\u001b[39mvalues()) \u001b[39mif\u001b[39;00m \u001b[39misinstance\u001b[39m(out, \u001b[39mdict\u001b[39m) \u001b[39melse\u001b[39;00m [out]\n\u001b[1;32m    559\u001b[0m \u001b[39m# re-apply format to the output\u001b[39;00m\n",
      "File \u001b[0;32m/mnt/data/selection/lib/python3.10/site-packages/datasets/arrow_dataset.py:3093\u001b[0m, in \u001b[0;36mDataset.map\u001b[0;34m(self, function, with_indices, with_rank, input_columns, batched, batch_size, drop_last_batch, remove_columns, keep_in_memory, load_from_cache_file, cache_file_name, writer_batch_size, features, disable_nullable, fn_kwargs, num_proc, suffix_template, new_fingerprint, desc)\u001b[0m\n\u001b[1;32m   3087\u001b[0m \u001b[39mif\u001b[39;00m transformed_dataset \u001b[39mis\u001b[39;00m \u001b[39mNone\u001b[39;00m:\n\u001b[1;32m   3088\u001b[0m     \u001b[39mwith\u001b[39;00m hf_tqdm(\n\u001b[1;32m   3089\u001b[0m         unit\u001b[39m=\u001b[39m\u001b[39m\"\u001b[39m\u001b[39m examples\u001b[39m\u001b[39m\"\u001b[39m,\n\u001b[1;32m   3090\u001b[0m         total\u001b[39m=\u001b[39mpbar_total,\n\u001b[1;32m   3091\u001b[0m         desc\u001b[39m=\u001b[39mdesc \u001b[39mor\u001b[39;00m \u001b[39m\"\u001b[39m\u001b[39mMap\u001b[39m\u001b[39m\"\u001b[39m,\n\u001b[1;32m   3092\u001b[0m     ) \u001b[39mas\u001b[39;00m pbar:\n\u001b[0;32m-> 3093\u001b[0m         \u001b[39mfor\u001b[39;00m rank, done, content \u001b[39min\u001b[39;00m Dataset\u001b[39m.\u001b[39m_map_single(\u001b[39m*\u001b[39m\u001b[39m*\u001b[39mdataset_kwargs):\n\u001b[1;32m   3094\u001b[0m             \u001b[39mif\u001b[39;00m done:\n\u001b[1;32m   3095\u001b[0m                 shards_done \u001b[39m+\u001b[39m\u001b[39m=\u001b[39m \u001b[39m1\u001b[39m\n",
      "File \u001b[0;32m/mnt/data/selection/lib/python3.10/site-packages/datasets/arrow_dataset.py:3470\u001b[0m, in \u001b[0;36mDataset._map_single\u001b[0;34m(shard, function, with_indices, with_rank, input_columns, batched, batch_size, drop_last_batch, remove_columns, keep_in_memory, cache_file_name, writer_batch_size, features, disable_nullable, fn_kwargs, new_fingerprint, rank, offset)\u001b[0m\n\u001b[1;32m   3466\u001b[0m indices \u001b[39m=\u001b[39m \u001b[39mlist\u001b[39m(\n\u001b[1;32m   3467\u001b[0m     \u001b[39mrange\u001b[39m(\u001b[39m*\u001b[39m(\u001b[39mslice\u001b[39m(i, i \u001b[39m+\u001b[39m batch_size)\u001b[39m.\u001b[39mindices(shard\u001b[39m.\u001b[39mnum_rows)))\n\u001b[1;32m   3468\u001b[0m )  \u001b[39m# Something simpler?\u001b[39;00m\n\u001b[1;32m   3469\u001b[0m \u001b[39mtry\u001b[39;00m:\n\u001b[0;32m-> 3470\u001b[0m     batch \u001b[39m=\u001b[39m apply_function_on_filtered_inputs(\n\u001b[1;32m   3471\u001b[0m         batch,\n\u001b[1;32m   3472\u001b[0m         indices,\n\u001b[1;32m   3473\u001b[0m         check_same_num_examples\u001b[39m=\u001b[39;49m\u001b[39mlen\u001b[39;49m(shard\u001b[39m.\u001b[39;49mlist_indexes()) \u001b[39m>\u001b[39;49m \u001b[39m0\u001b[39;49m,\n\u001b[1;32m   3474\u001b[0m         offset\u001b[39m=\u001b[39;49moffset,\n\u001b[1;32m   3475\u001b[0m     )\n\u001b[1;32m   3476\u001b[0m \u001b[39mexcept\u001b[39;00m NumExamplesMismatchError:\n\u001b[1;32m   3477\u001b[0m     \u001b[39mraise\u001b[39;00m DatasetTransformationNotAllowedError(\n\u001b[1;32m   3478\u001b[0m         \u001b[39m\"\u001b[39m\u001b[39mUsing `.map` in batched mode on a dataset with attached indexes is allowed only if it doesn\u001b[39m\u001b[39m'\u001b[39m\u001b[39mt create or remove existing examples. You can first run `.drop_index() to remove your index and then re-add it.\u001b[39m\u001b[39m\"\u001b[39m\n\u001b[1;32m   3479\u001b[0m     ) \u001b[39mfrom\u001b[39;00m \u001b[39mNone\u001b[39;00m\n",
      "\u001b[0;31mKeyboardInterrupt\u001b[0m: "
     ]
    }
   ],
   "source": [
    "# sample 500 unique ori_id from sharegpt\n",
    "sharegpt_ori_ids = np.array(sharegpt['ori_id'])\n",
    "unique_sharegpt_ori_ids = np.unique(sharegpt_ori_ids)\n",
    "sampled_sharegpt_ori_ids = np.random.choice(unique_sharegpt_ori_ids, 1000, replace=False)\n",
    "\n",
    "# filter the sharegpt and wizardlm with the sampled ori_id\n",
    "filtered_sharegpt = sharegpt.filter(lambda x: x['ori_id'] in sampled_sharegpt_ori_ids)\n",
    "filtered_wizardlm = wizardlm.filter(lambda x: x['ori_id'] in sampled_sharegpt_ori_ids)"
   ]
  },
  {
   "cell_type": "code",
   "execution_count": null,
   "metadata": {},
   "outputs": [],
   "source": [
    "output_path = '/mnt/data/data-selection/data/processed/sharegpt_wizardlm'\n",
    "if not os.path.exists(output_path):\n",
    "    os.makedirs(output_path)\n",
    "\n",
    "with open(os.path.join(output_path, 'sharegpt_wizardlm_data.jsonl'), 'w') as f:\n",
    "    for example in filtered_sharegpt:\n",
    "        f.write(json.dumps(example) + '\\n')\n",
    "    for example in filtered_wizardlm:\n",
    "        f.write(json.dumps(example) + '\\n')"
   ]
  },
  {
   "cell_type": "code",
   "execution_count": 80,
   "metadata": {},
   "outputs": [],
   "source": [
    "data_path = '/mnt/data/data-selection/data/processed/sharegpt_wizardlm/sharegpt_wizardlm_data.jsonl'\n",
    "scores_path = '/mnt/data/data-selection/data/processed/sharegpt_wizardlm/scores.jsonl'\n",
    "reward_scores_path = '/mnt/data/data-selection/data/processed/sharegpt_wizardlm/reward_scores.jsonl'\n",
    "\n",
    "with open(scores_path, \"r\") as f:\n",
    "    lines = f.readlines()\n",
    "scores = [json.loads(line)['eval_score'] for line in lines]\n",
    "eval_scores = np.array(scores, dtype=np.int64)\n",
    "\n",
    "with open(reward_scores_path, \"r\") as f:\n",
    "    lines = f.readlines()\n",
    "reward_scores = [json.loads(line)['reward_score'] for line in lines]\n",
    "reward_scores = np.array(reward_scores, dtype=np.float32)\n",
    "\n",
    "data = load_dataset('json', data_files=data_path)['train']\n",
    "eval_scores = eval_scores[:len(data)]"
   ]
  },
  {
   "cell_type": "code",
   "execution_count": 81,
   "metadata": {},
   "outputs": [
    {
     "name": "stderr",
     "output_type": "stream",
     "text": [
      "Map: 100%|██████████| 3092/3092 [00:00<00:00, 7147.39 examples/s]\n",
      "Map: 100%|██████████| 3092/3092 [00:00<00:00, 7512.32 examples/s]\n"
     ]
    },
    {
     "data": {
      "text/plain": [
       "Dataset({\n",
       "    features: ['dataset', 'id', 'messages', 'ori_id', 'eval_score', 'reward_score'],\n",
       "    num_rows: 3092\n",
       "})"
      ]
     },
     "execution_count": 81,
     "metadata": {},
     "output_type": "execute_result"
    }
   ],
   "source": [
    "data = data.add_column('eval_score', eval_scores)\n",
    "data = data.add_column('reward_score', reward_scores)\n",
    "data = data.map(lambda x: {'eval_score': x['eval_score'] / (len(x['messages']) // 2)})\n",
    "data = data.map(lambda x: {'reward_score': x['reward_score'] / (len(x['messages']) // 2)})\n",
    "data"
   ]
  },
  {
   "cell_type": "code",
   "execution_count": 82,
   "metadata": {},
   "outputs": [
    {
     "data": {
      "text/plain": [
       "{'dataset': 'sharegpt',\n",
       " 'id': 'sharegpt_UGg8d44_10',\n",
       " 'messages': [{'role': 'user',\n",
       "   'content': 'Write me a 30 second elevator pitch to me my target audience'},\n",
       "  {'role': 'assistant',\n",
       "   'content': 'Are you feeling stuck in your life, unsure of how to create the changes you desire? Day Sculpting is a unique 90-day program designed to empower you to create your life one day at a time. With just 30 minutes each day, broken down into three manageable steps, you can focus your actions and channel your efforts to create the confident groove in your mind that empowers your habitual actions to create what you really want. Join us and commit to living your dreams enthusiastically, one day at a time.'},\n",
       "  {'role': 'user',\n",
       "   'content': 'Please re-write more casual and at an 8th-grade reading level as if I am talking to someone at a cocktail party that just asked me, \"Can you tell me about your Day Sculpting program?\" Make it more conversational'},\n",
       "  {'role': 'assistant',\n",
       "   'content': \"Sure thing! So, have you ever felt like you're stuck in a rut and not making progress towards your goals? Well, our Day Sculpting program can help you out! It's a daily practice that empowers you to create the life you want one day at a time. It only takes 30 minutes a day and includes simple steps like morning visualization, midday reminders, and evening reflection. By focusing on your daily actions, you can build momentum and achieve your goals. So, if you're ready to wake up jazzed about the day and stay focused on creating what you truly desire, Day Sculpting is for you!\"},\n",
       "  {'role': 'user',\n",
       "   'content': 'Write me a 30-second elevator pitch that I can use to an investor'},\n",
       "  {'role': 'assistant',\n",
       "   'content': 'Welcome! I’m excited to tell you about Day Sculpting, a unique program that empowers individuals to create their ideal life one day at a time. With our system, we help people anchor new positive behaviors in a daily routine that’s easy, manageable, and only takes 30 minutes. Our program uses the latest neuroscience research to guide individuals in reconditioning their mind to achieve success in their personal and professional life. By investing in Day Sculpting, you can help people achieve their dreams while making a positive impact on the world.'},\n",
       "  {'role': 'user',\n",
       "   'content': 'Write me a 30-second elevator pitch that I can use to get an JV partner or affiliate that I am talking to in person to want to promote my product with a 50% affiliate program.'},\n",
       "  {'role': 'assistant',\n",
       "   'content': \"Hey there, I wanted to share with you my product called Day Sculpting. It's a 90-day program that empowers individuals to create their life one day at a time. Our program has been designed to make it easy for individuals to focus on their highest priorities and achieve them in less time. We are looking for JV partners or affiliates who are interested in promoting our program and helping people transform their lives. We offer a 50% affiliate program, which means you can earn a significant income by promoting Day Sculpting to your audience. Are you interested in joining us in this mission to empower individuals to achieve their goals and live their best lives?\"},\n",
       "  {'role': 'user',\n",
       "   'content': 'Write me a pitch I can use on shark tank for this company. Make it fun and witty with a sense of humor.'},\n",
       "  {'role': 'assistant',\n",
       "   'content': \"Welcome Sharks! Are you tired of feeling overwhelmed by the chaos of everyday life? Do you struggle to stay focused on your goals and find yourself constantly distracted? Well, we have the solution for you! Introducing Day Sculpting, the program that helps you create your life one day at a time. It's like having a personal life coach in your pocket! With our easy-to-use system, you'll be able to stay focused and motivated, and achieve the success you've always dreamed of. Plus, with our 90-day program, you'll see results in no time! So Sharks, are you ready to sculpt your life? Let's make a deal and change lives together!\"},\n",
       "  {'role': 'user',\n",
       "   'content': 'I want to create a brand website for this; What pages should I need to create on this website?'},\n",
       "  {'role': 'assistant',\n",
       "   'content': \"Here are some suggested pages that you may want to include on your brand website:\\n\\n1. Home Page: This should be an introduction to your brand and what you offer. Make it visually appealing and easy to navigate.\\n2. About Us: This page should provide information about your company's history, mission, and values. Share your story and what inspired you to start this brand.\\n3. Products or Services: This page should showcase your products or services and include detailed descriptions, pricing, and images. Make it easy for visitors to make a purchase or request a service.\\n4. Testimonials: This page should include testimonials from satisfied customers. Social proof is a powerful tool in convincing potential customers to try your product or service.\\n5. FAQ: This page should answer common questions about your brand, products or services. This can help reduce customer service inquiries and improve the customer experience.\\n6. Contact Us: This page should provide contact information for your company, including email, phone number, and physical address. Consider including a contact form for visitors to fill out.\\n7. Blog: This page should include regularly updated content related to your brand and industry. This can help drive traffic to your website and position you as a thought leader in your field.\\n8. Events: This page should list any upcoming events related to your brand, such as product launches, trade shows, or pop-up shops.\\n9. Careers: This page should provide information about job opportunities within your company. This can help attract talented individuals who are passionate about your brand.\\n10. Privacy Policy: This page should outline your company's privacy policy and how you handle customer data. This can help build trust with potential customers and protect your business.\"},\n",
       "  {'role': 'user',\n",
       "   'content': 'For No.1 you said \"Home Page\"\\n\\ncan you give me a block-section by block-section for this home page'},\n",
       "  {'role': 'assistant',\n",
       "   'content': \"Sure! Here's a possible block-section breakdown for a home page:\\n\\n1. Header: A top section that includes the logo, navigation menu, and possibly a call-to-action button.\\n2. Hero section: A large, eye-catching section that introduces the brand and its main value proposition, using strong visuals and/or a headline and subheadline.\\n3. Features section: A section that highlights the main features or benefits of the brand's products or services, using icons or images and short descriptions.\\n4. Testimonials section: A section that showcases positive feedback from customers or partners, including quotes and possibly photos or video testimonials.\\n5. About section: A section that provides more information about the brand's story, values, and mission, using text and possibly photos or video.\\n6. Call-to-action section: A section that encourages visitors to take a specific action, such as signing up for a newsletter, downloading a free resource, or making a purchase.\\n7. Footer: A bottom section that includes links to important pages, such as the contact page, FAQ page, and social media profiles, as well as copyright information and possibly a site map.\\n\\nOf course, the specific layout and content of each section will depend on the brand's goals and audience, but this is a basic framework to start with.\"},\n",
       "  {'role': 'user',\n",
       "   'content': 'for the Hero section: Please provide me with the following (make sure to use Day Sculpting as the product name): \\n\\npre headline\\nHeadline\\nSubheadline \\n\\ntext to put above the CTA button\\ntext to put in the CTA button\\n\\nA background image to use with opacity\\nan image to use next to the copy. And should copy go on the left to right of the image.\\nAn image to use. And should the copy be left or right of the image'},\n",
       "  {'role': 'assistant',\n",
       "   'content': \"Sure, here's an example:\\n\\nPre headline: Wake Up Excited Every Day!\\n\\nHeadline: Sculpt Your Ideal Life One Day at a Time with Day Sculpting\\n\\nSubheadline: The Ultimate Daily Ritual for Achieving Your Dreams\\n\\nText above CTA button: Start Today and Transform Your Life\\n\\nText on CTA button: Get Started Now\\n\\nBackground image: A person standing on top of a mountain at sunrise, with an opacity of 70%\\n\\nImage next to copy: An image of a person meditating, with the copy on the right side of the image\\n\\nImage with copy: An image of a person achieving a goal, with the copy on the left side of the image.\"}],\n",
       " 'ori_id': 'UGg8d44',\n",
       " 'eval_score': 7.75,\n",
       " 'reward_score': 5.962890625}"
      ]
     },
     "execution_count": 82,
     "metadata": {},
     "output_type": "execute_result"
    }
   ],
   "source": [
    "data[1]"
   ]
  },
  {
   "cell_type": "code",
   "execution_count": 88,
   "metadata": {},
   "outputs": [
    {
     "name": "stderr",
     "output_type": "stream",
     "text": [
      "Filter: 100%|██████████| 3092/3092 [00:00<00:00, 22838.08 examples/s]\n"
     ]
    }
   ],
   "source": [
    "# sample three ori_id and plot the distribution of scores among datasets\n",
    "unique_sharegpt_ori_ids = list(set(data['ori_id']))\n",
    "sampled_ori_ids = np.random.choice(unique_sharegpt_ori_ids, 15, replace=False)\n",
    "sampled_data = data.filter(lambda x: x['ori_id'] in sampled_ori_ids)"
   ]
  },
  {
   "cell_type": "code",
   "execution_count": 89,
   "metadata": {},
   "outputs": [
    {
     "data": {
      "text/html": [
       "<div>\n",
       "<style scoped>\n",
       "    .dataframe tbody tr th:only-of-type {\n",
       "        vertical-align: middle;\n",
       "    }\n",
       "\n",
       "    .dataframe tbody tr th {\n",
       "        vertical-align: top;\n",
       "    }\n",
       "\n",
       "    .dataframe thead th {\n",
       "        text-align: right;\n",
       "    }\n",
       "</style>\n",
       "<table border=\"1\" class=\"dataframe\">\n",
       "  <thead>\n",
       "    <tr style=\"text-align: right;\">\n",
       "      <th></th>\n",
       "      <th>ori_id</th>\n",
       "      <th>eval_score</th>\n",
       "      <th>reward_score</th>\n",
       "    </tr>\n",
       "  </thead>\n",
       "  <tbody>\n",
       "    <tr>\n",
       "      <th>0</th>\n",
       "      <td>7g8bEOs</td>\n",
       "      <td>{'sharegpt': 2.0}</td>\n",
       "      <td>{'sharegpt': 5.375}</td>\n",
       "    </tr>\n",
       "    <tr>\n",
       "      <th>1</th>\n",
       "      <td>CxBeIUX</td>\n",
       "      <td>{'sharegpt': 12.0}</td>\n",
       "      <td>{'sharegpt': 3.703125}</td>\n",
       "    </tr>\n",
       "    <tr>\n",
       "      <th>2</th>\n",
       "      <td>DcA3Q98</td>\n",
       "      <td>{'sharegpt': 6.0, 'wizardlm': 7.333333333333333}</td>\n",
       "      <td>{'sharegpt': 3.2220051288604736, 'wizardlm': 4...</td>\n",
       "    </tr>\n",
       "    <tr>\n",
       "      <th>3</th>\n",
       "      <td>EbnL32I</td>\n",
       "      <td>{'sharegpt': 8.0}</td>\n",
       "      <td>{'sharegpt': 9.5}</td>\n",
       "    </tr>\n",
       "    <tr>\n",
       "      <th>4</th>\n",
       "      <td>JTEz2fP</td>\n",
       "      <td>{'sharegpt': 6.0, 'wizardlm': 15.0}</td>\n",
       "      <td>{'sharegpt': 7.489583492279053, 'wizardlm': 8....</td>\n",
       "    </tr>\n",
       "    <tr>\n",
       "      <th>5</th>\n",
       "      <td>L1uEQmb</td>\n",
       "      <td>{'sharegpt': 4.0}</td>\n",
       "      <td>{'sharegpt': 1.0234375}</td>\n",
       "    </tr>\n",
       "    <tr>\n",
       "      <th>6</th>\n",
       "      <td>ONnt77k</td>\n",
       "      <td>{'sharegpt': 7.5}</td>\n",
       "      <td>{'sharegpt': 7.6796875}</td>\n",
       "    </tr>\n",
       "    <tr>\n",
       "      <th>7</th>\n",
       "      <td>S2qCmdv</td>\n",
       "      <td>{'sharegpt': 13.25, 'wizardlm': 8.0}</td>\n",
       "      <td>{'sharegpt': 6.59375, 'wizardlm': 7.765625}</td>\n",
       "    </tr>\n",
       "    <tr>\n",
       "      <th>8</th>\n",
       "      <td>iui21Qk</td>\n",
       "      <td>{'sharegpt': 7.0, 'wizardlm': 7.0}</td>\n",
       "      <td>{'sharegpt': 7.96875, 'wizardlm': 6.8125}</td>\n",
       "    </tr>\n",
       "    <tr>\n",
       "      <th>9</th>\n",
       "      <td>j7dLzef</td>\n",
       "      <td>{'sharegpt': 5.0, 'wizardlm': 5.0}</td>\n",
       "      <td>{'sharegpt': 5.484375, 'wizardlm': 4.40625}</td>\n",
       "    </tr>\n",
       "    <tr>\n",
       "      <th>10</th>\n",
       "      <td>nmuuCxf</td>\n",
       "      <td>{'sharegpt': 7.5}</td>\n",
       "      <td>{'sharegpt': 4.96875}</td>\n",
       "    </tr>\n",
       "    <tr>\n",
       "      <th>11</th>\n",
       "      <td>oc21PMM</td>\n",
       "      <td>{'sharegpt': 8.5, 'wizardlm': 6.0}</td>\n",
       "      <td>{'sharegpt': 5.125, 'wizardlm': 5.09375}</td>\n",
       "    </tr>\n",
       "    <tr>\n",
       "      <th>12</th>\n",
       "      <td>pIzkhCI</td>\n",
       "      <td>{'sharegpt': 6.0, 'wizardlm': 7.0}</td>\n",
       "      <td>{'sharegpt': 5.3125, 'wizardlm': 5.796875}</td>\n",
       "    </tr>\n",
       "    <tr>\n",
       "      <th>13</th>\n",
       "      <td>pL7OWzc</td>\n",
       "      <td>{'sharegpt': 5.333333333333333}</td>\n",
       "      <td>{'sharegpt': 4.5625}</td>\n",
       "    </tr>\n",
       "    <tr>\n",
       "      <th>14</th>\n",
       "      <td>qIW88pB</td>\n",
       "      <td>{'sharegpt': 7.5, 'wizardlm': 15.0}</td>\n",
       "      <td>{'sharegpt': 8.5, 'wizardlm': 8.375}</td>\n",
       "    </tr>\n",
       "  </tbody>\n",
       "</table>\n",
       "</div>"
      ],
      "text/plain": [
       "     ori_id                                        eval_score  \\\n",
       "0   7g8bEOs                                 {'sharegpt': 2.0}   \n",
       "1   CxBeIUX                                {'sharegpt': 12.0}   \n",
       "2   DcA3Q98  {'sharegpt': 6.0, 'wizardlm': 7.333333333333333}   \n",
       "3   EbnL32I                                 {'sharegpt': 8.0}   \n",
       "4   JTEz2fP               {'sharegpt': 6.0, 'wizardlm': 15.0}   \n",
       "5   L1uEQmb                                 {'sharegpt': 4.0}   \n",
       "6   ONnt77k                                 {'sharegpt': 7.5}   \n",
       "7   S2qCmdv              {'sharegpt': 13.25, 'wizardlm': 8.0}   \n",
       "8   iui21Qk                {'sharegpt': 7.0, 'wizardlm': 7.0}   \n",
       "9   j7dLzef                {'sharegpt': 5.0, 'wizardlm': 5.0}   \n",
       "10  nmuuCxf                                 {'sharegpt': 7.5}   \n",
       "11  oc21PMM                {'sharegpt': 8.5, 'wizardlm': 6.0}   \n",
       "12  pIzkhCI                {'sharegpt': 6.0, 'wizardlm': 7.0}   \n",
       "13  pL7OWzc                   {'sharegpt': 5.333333333333333}   \n",
       "14  qIW88pB               {'sharegpt': 7.5, 'wizardlm': 15.0}   \n",
       "\n",
       "                                         reward_score  \n",
       "0                                 {'sharegpt': 5.375}  \n",
       "1                              {'sharegpt': 3.703125}  \n",
       "2   {'sharegpt': 3.2220051288604736, 'wizardlm': 4...  \n",
       "3                                   {'sharegpt': 9.5}  \n",
       "4   {'sharegpt': 7.489583492279053, 'wizardlm': 8....  \n",
       "5                             {'sharegpt': 1.0234375}  \n",
       "6                             {'sharegpt': 7.6796875}  \n",
       "7         {'sharegpt': 6.59375, 'wizardlm': 7.765625}  \n",
       "8           {'sharegpt': 7.96875, 'wizardlm': 6.8125}  \n",
       "9         {'sharegpt': 5.484375, 'wizardlm': 4.40625}  \n",
       "10                              {'sharegpt': 4.96875}  \n",
       "11           {'sharegpt': 5.125, 'wizardlm': 5.09375}  \n",
       "12         {'sharegpt': 5.3125, 'wizardlm': 5.796875}  \n",
       "13                               {'sharegpt': 4.5625}  \n",
       "14               {'sharegpt': 8.5, 'wizardlm': 8.375}  "
      ]
     },
     "execution_count": 89,
     "metadata": {},
     "output_type": "execute_result"
    }
   ],
   "source": [
    "df = sampled_data.to_pandas()\n",
    "# group by ori_id and add a new column as the mean of eval_score across datasets: \"{'sharegpt': [1, 2, 3], 'wizardlm': [4, 5, 6]}\"\n",
    "df = df.groupby('ori_id').agg({'eval_score': list , 'reward_score': list}).reset_index()\n",
    "df['eval_score'] = df['eval_score'].apply(lambda x: {d: np.mean(x) for d, x in zip(['sharegpt', 'wizardlm'], x)})\n",
    "df['reward_score'] = df['reward_score'].apply(lambda x: {d: np.mean(x) for d, x in zip(['sharegpt', 'wizardlm'], x)})\n",
    "df"
   ]
  },
  {
   "cell_type": "code",
   "execution_count": 93,
   "metadata": {},
   "outputs": [
    {
     "data": {
      "text/html": [
       "<div>\n",
       "<style scoped>\n",
       "    .dataframe tbody tr th:only-of-type {\n",
       "        vertical-align: middle;\n",
       "    }\n",
       "\n",
       "    .dataframe tbody tr th {\n",
       "        vertical-align: top;\n",
       "    }\n",
       "\n",
       "    .dataframe thead th {\n",
       "        text-align: right;\n",
       "    }\n",
       "</style>\n",
       "<table border=\"1\" class=\"dataframe\">\n",
       "  <thead>\n",
       "    <tr style=\"text-align: right;\">\n",
       "      <th></th>\n",
       "      <th>dataset</th>\n",
       "      <th>id</th>\n",
       "      <th>messages</th>\n",
       "      <th>ori_id</th>\n",
       "      <th>eval_score</th>\n",
       "      <th>reward_score</th>\n",
       "    </tr>\n",
       "  </thead>\n",
       "  <tbody>\n",
       "    <tr>\n",
       "      <th>0</th>\n",
       "      <td>sharegpt</td>\n",
       "      <td>sharegpt_S2qCmdv_0</td>\n",
       "      <td>[{'role': 'user', 'content': 'The problem can ...</td>\n",
       "      <td>S2qCmdv</td>\n",
       "      <td>13.25</td>\n",
       "      <td>6.593750</td>\n",
       "    </tr>\n",
       "    <tr>\n",
       "      <th>1</th>\n",
       "      <td>sharegpt</td>\n",
       "      <td>sharegpt_S2qCmdv_8</td>\n",
       "      <td>[{'role': 'user', 'content': 'In this task, yo...</td>\n",
       "      <td>S2qCmdv</td>\n",
       "      <td>8.00</td>\n",
       "      <td>7.765625</td>\n",
       "    </tr>\n",
       "  </tbody>\n",
       "</table>\n",
       "</div>"
      ],
      "text/plain": [
       "    dataset                  id  \\\n",
       "0  sharegpt  sharegpt_S2qCmdv_0   \n",
       "1  sharegpt  sharegpt_S2qCmdv_8   \n",
       "\n",
       "                                            messages   ori_id  eval_score  \\\n",
       "0  [{'role': 'user', 'content': 'The problem can ...  S2qCmdv       13.25   \n",
       "1  [{'role': 'user', 'content': 'In this task, yo...  S2qCmdv        8.00   \n",
       "\n",
       "   reward_score  \n",
       "0      6.593750  \n",
       "1      7.765625  "
      ]
     },
     "execution_count": 93,
     "metadata": {},
     "output_type": "execute_result"
    }
   ],
   "source": [
    "# filter the one that ori_id == \"3ktwkYA\"\n",
    "test_df = data.filter(lambda x: x['ori_id'] == \"S2qCmdv\").to_pandas()\n",
    "# test_df.iloc[0]['messages']\n",
    "test_df"
   ]
  },
  {
   "cell_type": "code",
   "execution_count": 33,
   "metadata": {},
   "outputs": [
    {
     "name": "stdout",
     "output_type": "stream",
     "text": [
      "###Human: 帮我使用react和next.js 写一个搜索引擎的前端项目。界面使用tailwind css。 主要有一个界面。用户可以输入查询文本，然后点击“搜索”按钮。 下方会显示前30个相关文档。显示标题和正文的前200个字。 可以选择不同的检索模型。最多可以选取3个。 然后不同模型的检索结果在不同的列，也就是最多显示3列。  请求的后端API包含： query: 用户的查询 model：使用的检索模型  返回的结果为一个list，每个元素是一个dict，包含：  docid：文档id title：标题 text：文本 url：文档的链接  给出项目结构，并且给出每个文件的内容 ###Assistant: 首先，创建一个新的 Next.js 应用并安装所需的依赖： ```bash npx create-next-app search-engine-frontend cd search-engine-frontend npm install react next tailwindcss ``` 在项目的根目录下，创建一个名为 `tailwind.config.js` 的文件并设置基本配置： ```js // tailwind.config.js module.exports = {   purge: ['./src/**/*.{js,jsx,ts,tsx}', './public/index.html'],   darkMode: false, // or 'media' or 'class'   theme: {     extend: {},   },   variants: {     extend: {},   },   plugins: [], } ``` 现在，你可以开始构建项目。项目结构如下： ```sql search-engine-frontend/ |-- components/ |   |-- SearchBar.js |   |-- SearchResult.js |   |-- SearchResultColumn.js |-- pages/ |   |-- api/ |       |-- search.js |   |-- index.js |-- styles/ |   |-- globals.css |-- tailwind.config.js |-- package.json ``` 接下来，我们将为每个文件提供内容。  **components/SearchBar.js** ```jsx import React from 'react';  const SearchBar = ({ onSearch, models }) => {   const [query, setQuery] = React.useState('');   const [selectedModels, setSelectedModels] = React.useState([]);    const handleChange = (e) => {     setQuery(e.target.value);   };    const handleModelChange = (e, model) => {     const checked = e.target.checked;     if (checked) {       setSelectedModels([...selectedModels, model]);     } else {       setSelectedModels(selectedModels.filter((m) => m !== model));     }   };    const handleSubmit = (e) => {     e.preventDefault();     onSearch(query, selectedModels);   };    return (     <form onSubmit={handleSubmit} className=\"flex flex-col\">       <input         type=\"text\"         value={query}         onChange={handleChange}         placeholder=\"输入查询\"         className=\"mb-2 p-2 border rounded\"       />       <div className=\"flex flex-wrap mb-2\">         {models.map((model) => (           <label key={model} className=\"mr-4\">             <input               type=\"checkbox\"               value={model}               disabled={selectedModels.length >= 3 && !selectedModels.includes(model)}               onChange={(e) => handleModelChange(e, model)}             />             {' '}{model}           </label>         ))}       </div>       <button type=\"submit\" className=\"bg-blue-500 text-white py-2 px-4 rounded\">         搜索       </button>     </form>   ); };  export default SearchBar; ``` **components/SearchResult.js** ```jsx import React from 'react';  const SearchResult = ({ result }) => {   return (     <div className=\"border p-2 mb-2\">       <h3 className=\"text-xl mb-2\">         <a href={result.url} target=\"_blank\" rel=\"noreferrer\">           {result.title}         </a>       </h3>       <p>{result.text.slice(0, 200)}...</p>     </div>   ); };  export default SearchResult; ``` **components/SearchResultColumn.js** ```jsx import React from 'react'; import SearchResult from './SearchResult';  const SearchResultColumn = ({ results, model }) => {   return (     <div className=\"w-full md:w-1/3 p-2\"> ``` \n",
      "###Human: 继续 ###Assistant: ```php   <h2 className=\"text-2xl mb-4\">{model} 结果</h2>   {results.map((result) => (     <SearchResult key={result.docid} result={result} />   ))} </div> ``` ); };  export default SearchResultColumn; ```csharp  **pages/index.js** ```jsx import React from 'react'; import SearchBar from '../components/SearchBar'; import SearchResultColumn from '../components/SearchResultColumn';  const models = ['模型A', '模型B', '模型C'];  const Home = () => {   const [results, setResults] = React.useState({});    const handleSearch = async (query, selectedModels) => {     const newResults = {};      for (const model of selectedModels) {       const res = await fetch(`/api/search?query=${encodeURIComponent(query)}&model=${model}`);       const data = await res.json();       newResults[model] = data;     }      setResults(newResults);   };    return (     <div className=\"container mx-auto px-4 py-8\">       <h1 className=\"text-3xl mb-8\">搜索引擎前端</h1>       <SearchBar onSearch={handleSearch} models={models} />       <div className=\"flex flex-wrap mt-8\">         {Object.entries(results).map(([model, modelResults]) => (           <SearchResultColumn key={model} results={modelResults} model={model} />         ))}       </div>     </div>   ); };  export default Home;  ```**pages/api/search.js** ``` js export default async function handler(req, res) {   const { query, model } = req.query;    // 在这里，你可以根据所选模型调用不同的后端API。   // 在此示例中，我们只是返回一些模拟数据。   const data = [     {       docid: '1',       title: '示例文档 1',       text: '这是示例文档 1 的正文。',       url: 'https://example.com/doc1',     },     {       docid: '2',       title: '示例文档 2',       text: '这是示例文档 2 的正文。',       url: 'https://example.com/doc2',     },   ];    res.status(200).json(data); } ``` **styles/globals.css** ```css @tailwind base; @tailwind components; @tailwind utilities;  html, body {   padding: 0;   margin: 0;   font-family: -apple-system, BlinkMacSystemFont, Segoe UI, Roboto, Oxygen, Ubuntu, Cantarell, Fira Sans, Droid Sans, Helvetica Neue, sans-serif; }  a {   color: inherit;   text-decoration: none; }  * {   box-sizing: border-box; } ``` 将 `styles/globals.css` 导入到 `_app.js`： ```jsx // pages/_app.js import '../styles/globals.css';  function MyApp({ Component, pageProps }) {   return <Component {...pageProps} />; }  export default MyApp; ``` 这就是一个简单的搜索引擎前端项目，使用了 React、Next.js 和 Tailwind CSS。你可以根据需求进一步调整和完善。对于实际的后端API调用，请修改 `pages/api/search.js` 中的逻辑。 ###Human: 可不可以美化一下界面。用上tailwind中的组件来进行美化。 搜索结果页面的不同模型的结果应该分为不同的列。 ###Assistant: 当然可以。我们将使用 Tailwind CSS 的实用程序类对现有的界面进行美化。首先，我们来调整搜索栏的样式。  **components/SearchBar.js** ```jsx // ... return (   <form onSubmit={handleSubmit} className=\"flex flex-col\">     <input       type=\"text\"       value={query}       onChange={handleChange}       placeholder=\"输入查询\"       className=\"mb-4 p-2 border border-gray-300 rounded focus:border-blue-300 focus:outline-none\"     />     <div className=\"flex flex-wrap mb-4\">       {models.map((model) => (         <label key={model} className=\"mr-4\">           <input             type=\"checkbox\"             value={model}             disabled={selectedModels.length >= 3 && !selectedModels.includes(model)}             onChange={(e) => handleModelChange(e, model)}           />           {' '}{model}         </label>       ))}     </div>     <button type=\"submit\" className=\"bg-blue-600 text-white py-2 px-4 rounded hover:bg-blue-700\">       搜索     </button>   </form> ); // ... ``` 接下来，我们将美化搜索结果。  **components/SearchResult.js** ```jsx // ... return (   <div className=\"border border-gray-200 p-4 mb-4 rounded\">     <h3 className=\"text-xl mb-2\">       <a href={result.url} target=\"_blank\" rel=\"noreferrer\" className=\"text-blue-600 hover:text-blue-800\">         {result.title}       </a>     </h3>     <p>{result.text.slice(0, 200)}...</p>   </div> ); // ... ``` 最后，我们来调整首页的布局。  **pages/index.js** ```jsx // ... return (   <div className=\"container mx-auto px-4 py-8\">     <h1 className=\"text-3xl mb-8 font-bold\">搜索引擎前端</h1>     <SearchBar onSearch={handleSearch} models={models} />     <div className=\"flex flex-wrap mt-8 -mx-4\">       {Object.entries(results).map(([model, modelResults]) => (         <SearchResultColumn key={model} results={modelResults} model={model} />       ))}     </div>   </div> ); // ... ``` 这样，界面就更加美观了。搜索结果页面中不同模型的结果已分为不同的列。你可以根据需要进一步调整样式。 \n"
     ]
    },
    {
     "data": {
      "text/html": [
       "<div>\n",
       "<style scoped>\n",
       "    .dataframe tbody tr th:only-of-type {\n",
       "        vertical-align: middle;\n",
       "    }\n",
       "\n",
       "    .dataframe tbody tr th {\n",
       "        vertical-align: top;\n",
       "    }\n",
       "\n",
       "    .dataframe thead th {\n",
       "        text-align: right;\n",
       "    }\n",
       "</style>\n",
       "<table border=\"1\" class=\"dataframe\">\n",
       "  <thead>\n",
       "    <tr style=\"text-align: right;\">\n",
       "      <th></th>\n",
       "      <th>dataset</th>\n",
       "      <th>id</th>\n",
       "      <th>messages</th>\n",
       "      <th>ori_id</th>\n",
       "      <th>eval_score</th>\n",
       "      <th>final_message</th>\n",
       "    </tr>\n",
       "  </thead>\n",
       "  <tbody>\n",
       "    <tr>\n",
       "      <th>0</th>\n",
       "      <td>sharegpt</td>\n",
       "      <td>sharegpt_XZg9D0j_0</td>\n",
       "      <td>[{'role': 'user', 'content': '帮我使用react和next.j...</td>\n",
       "      <td>XZg9D0j</td>\n",
       "      <td>6</td>\n",
       "      <td>###Human: 帮我使用react和next.js 写一个搜索引擎的前端项目。界面使用t...</td>\n",
       "    </tr>\n",
       "    <tr>\n",
       "      <th>1</th>\n",
       "      <td>sharegpt</td>\n",
       "      <td>sharegpt_XZg9D0j_2</td>\n",
       "      <td>[{'role': 'user', 'content': '继续'}, {'role': '...</td>\n",
       "      <td>XZg9D0j</td>\n",
       "      <td>12</td>\n",
       "      <td>###Human: 继续 ###Assistant: ```php\\n  &lt;h2 class...</td>\n",
       "    </tr>\n",
       "    <tr>\n",
       "      <th>2</th>\n",
       "      <td>sharegpt</td>\n",
       "      <td>sharegpt_XZg9D0j_6</td>\n",
       "      <td>[{'role': 'user', 'content': '似乎tailwind css 没...</td>\n",
       "      <td>XZg9D0j</td>\n",
       "      <td>12</td>\n",
       "      <td>###Human: 似乎tailwind css 没有生效，问题可能出现在哪里 ###Ass...</td>\n",
       "    </tr>\n",
       "    <tr>\n",
       "      <th>3</th>\n",
       "      <td>sharegpt</td>\n",
       "      <td>sharegpt_XZg9D0j_10</td>\n",
       "      <td>[{'role': 'user', 'content': '继续'}, {'role': '...</td>\n",
       "      <td>XZg9D0j</td>\n",
       "      <td>14</td>\n",
       "      <td>###Human: 继续 ###Assistant: 如上所述，确保你已经完成了 Tailw...</td>\n",
       "    </tr>\n",
       "    <tr>\n",
       "      <th>4</th>\n",
       "      <td>sharegpt</td>\n",
       "      <td>sharegpt_XZg9D0j_14</td>\n",
       "      <td>[{'role': 'user', 'content': '设置在选择模型时，至少选择一个模...</td>\n",
       "      <td>XZg9D0j</td>\n",
       "      <td>14</td>\n",
       "      <td>###Human: 设置在选择模型时，至少选择一个模型，默认状态下选择前三个模型 ###As...</td>\n",
       "    </tr>\n",
       "  </tbody>\n",
       "</table>\n",
       "</div>"
      ],
      "text/plain": [
       "    dataset                   id  \\\n",
       "0  sharegpt   sharegpt_XZg9D0j_0   \n",
       "1  sharegpt   sharegpt_XZg9D0j_2   \n",
       "2  sharegpt   sharegpt_XZg9D0j_6   \n",
       "3  sharegpt  sharegpt_XZg9D0j_10   \n",
       "4  sharegpt  sharegpt_XZg9D0j_14   \n",
       "\n",
       "                                            messages   ori_id  eval_score  \\\n",
       "0  [{'role': 'user', 'content': '帮我使用react和next.j...  XZg9D0j           6   \n",
       "1  [{'role': 'user', 'content': '继续'}, {'role': '...  XZg9D0j          12   \n",
       "2  [{'role': 'user', 'content': '似乎tailwind css 没...  XZg9D0j          12   \n",
       "3  [{'role': 'user', 'content': '继续'}, {'role': '...  XZg9D0j          14   \n",
       "4  [{'role': 'user', 'content': '设置在选择模型时，至少选择一个模...  XZg9D0j          14   \n",
       "\n",
       "                                       final_message  \n",
       "0  ###Human: 帮我使用react和next.js 写一个搜索引擎的前端项目。界面使用t...  \n",
       "1  ###Human: 继续 ###Assistant: ```php\\n  <h2 class...  \n",
       "2  ###Human: 似乎tailwind css 没有生效，问题可能出现在哪里 ###Ass...  \n",
       "3  ###Human: 继续 ###Assistant: 如上所述，确保你已经完成了 Tailw...  \n",
       "4  ###Human: 设置在选择模型时，至少选择一个模型，默认状态下选择前三个模型 ###As...  "
      ]
     },
     "execution_count": 33,
     "metadata": {},
     "output_type": "execute_result"
    }
   ],
   "source": [
    "def encode_reward_message(messages):\n",
    "    final_message = \"\"\n",
    "    for message in messages:\n",
    "        if message['role'] == 'system':\n",
    "            final_message += \"###System: \" + message['content'] + \" \"\n",
    "        elif message['role'] == 'user':\n",
    "            final_message += \"###Human: \" + message['content'] + \" \"\n",
    "        elif message['role'] == 'assistant':\n",
    "            final_message += \"###Assistant: \" + message['content'] + \" \"\n",
    "    return final_message\n",
    "test_df['final_message'] = test_df['messages'].apply(encode_reward_message)\n",
    "\n",
    "print(test_df.iloc[0]['final_message'].replace('\\n', ' '))\n",
    "print(test_df.iloc[1]['final_message'].replace('\\n', ' '))\n",
    "test_df"
   ]
  },
  {
   "cell_type": "markdown",
   "metadata": {},
   "source": []
  },
  {
   "cell_type": "markdown",
   "metadata": {},
   "source": [
    "### Clustering (Check the distribution across clusters)"
   ]
  },
  {
   "cell_type": "code",
   "execution_count": null,
   "metadata": {},
   "outputs": [],
   "source": [
    "import faiss\n",
    "K = 64\n",
    "embeddings.shape\n",
    "d = embeddings.shape[1]\n",
    "index = faiss.IndexFlatL2(d)\n",
    "index.add(embeddings)\n",
    "\n",
    "kmeans = faiss.Kmeans(d, K, niter=300, verbose=True, nredo=5, gpu=True)\n",
    "kmeans.train(embeddings)"
   ]
  },
  {
   "cell_type": "code",
   "execution_count": 25,
   "metadata": {},
   "outputs": [
    {
     "data": {
      "text/plain": [
       "Dataset({\n",
       "    features: ['dataset', 'id', 'messages', 'eval_score'],\n",
       "    num_rows: 125000\n",
       "})"
      ]
     },
     "execution_count": 25,
     "metadata": {},
     "output_type": "execute_result"
    }
   ],
   "source": [
    "data_path = '/mnt/data/data-selection/data/processed/cohere/cohere_data.jsonl'\n",
    "scores_path = '/mnt/data/data-selection/data/processed/cohere/scores.jsonl'\n",
    "\n",
    "with open(scores_path, \"r\") as f:\n",
    "    lines = f.readlines()\n",
    "scores = [json.loads(line)['eval_score'] for line in lines]\n",
    "eval_scores = np.array(scores, dtype=np.int64)\n",
    "\n",
    "data = load_dataset('json', data_files=data_path)['train']\n",
    "eval_scores = eval_scores[:len(data)]\n",
    "data = data.add_column('eval_score', eval_scores)\n",
    "data"
   ]
  },
  {
   "cell_type": "code",
   "execution_count": 50,
   "metadata": {},
   "outputs": [
    {
     "name": "stdout",
     "output_type": "stream",
     "text": [
      "###Human: That is so short, can we do in the middle? Not too short and not too long? ###Assistant: Certainly, here are some subtitle options that are a bit longer than the previous ones, but still relatively concise:  1. Browse Thousands of Script Contents * Subtitle option 1: Immerse yourself in captivating stories from around the world, featuring diverse voices and perspectives that will inspire and challenge you. * Subtitle option 2: Explore a world of possibilities with our vast collection of scripts, spanning different genres, styles, and themes, and discover your next favorite read. * Subtitle option 3: Expand your literary horizons and find your voice as a writer by reading and learning from a rich array of script contents. 1. Create Your Own Shichus & Scripts * Subtitle option 1: Bring your ideas to life with our intuitive and customizable platform, designed to help you write and script your stories, characters, and worlds with ease and confidence. * Subtitle option 2: Unlock your full creative potential with Shichu, the app that lets you express yourself through writing and scripting, and provides you with the tools and resources to make your vision a reality. * Subtitle option 3: Write your way to success and fulfillment with Shichu's comprehensive suite of writing and scripting features, tailored to help you develop your skills, hone your craft, and publish your work. 1. Get Closer With the Other Bibliophile * Subtitle option 1: Connect with a global community of book lovers and creative minds, who share your passion for reading and writing, and who can support and inspire you along the way. * Subtitle option 2: Join a dynamic and inclusive community of bibliophiles, where you can exchange ideas, share recommendations, and participate in engaging events and challenges. * Subtitle option 3: Discover a world of friendship and learning with Shichu, the app that fosters meaningful connections and promotes cultural exchange through literature and storytelling. ###Human: I have a post \"Wow this script from Guy Hawkins is really good, I cried 🥲\", I need 2 comments underneath and 1 sub-comment each, would you please help me create those comments? ###Assistant: Sure, here are some possible comments and sub-comments for your post:  1. Comment: I know, right? Guy Hawkins is a brilliant writer, and this script in particular tugs at your heartstrings. What was your favorite scene or moment? Sub-comment: For me, it was definitely the ending. I won't spoil it for those who haven't read it yet, but let's just say it left me with a mix of emotions that I can't quite describe. 2. Comment: I haven't read that script yet, but now I'm definitely intrigued! Thanks for the recommendation. What genre or type of story is it? Sub-comment: Also, do you have any other recommendations for scripts or books that made you feel the same way? I'm always looking for new things to read and explore.  I hope these comments and sub-comments inspire further discussion and engagement with your post! ###Human: can you add 1 more comment? ###Assistant: Sure, here's another possible comment and sub-comment:  1. Comment: I couldn't agree more! Guy Hawkins is a masterful storyteller, and this script is just one example of his talent. Have you read any of his other works? Sub-comment: If you haven't, I highly recommend checking out his latest novel. It's a gripping tale of love, loss, and redemption that will stay with you long after you've finished reading it. ###Human: one more please ###Assistant: 1. Comment: I haven't had a chance to read this script yet, but I trust your judgment! It's always amazing to find a story that can evoke such strong emotions. Thanks for sharing your thoughts. Sub-comment: Do you think this script would be a good fit for a short film or web series? I'm always looking for new material to adapt, and this sounds like it could be a great candidate. ###Human: Ok let's go with another topic. So i want to read a script/ short story novel with title your provide \"Taking the Leap of Faith: A Romantic Comedy Script for Two Actors\", can you give me first 5 paragraphs of the story? ###Assistant: Sure, here are the first 5 paragraphs of \"Taking the Leap of Faith: A Romantic Comedy Script for Two Actors\":  FADE IN:  INT. COFFEE SHOP - DAY  JESSICA, a nervous but determined young woman, sits alone at a small table, fidgeting with her phone. She checks the time for the tenth time in as many minutes and takes a deep breath. Across the room, she sees a man enter and scan the crowd. She recognizes him as BEN, a handsome stranger she met online.  Jessica stands up and waves at Ben. He spots her and smiles, making his way over to her table.  BEN (excitedly) Jessica! It's so good to finally meet you in person.  JESSICA (nervously) Yes, it is. I'm sorry if I seem a bit jittery.  BEN (laugh ###Human: Ok let's go with another topic. So i want to read a short story novel with title your provide \"Taking the Leap of Faith: A Romantic Comedy Script for Two Actors\", can you give me first 5 paragraphs of the story? ###Assistant: Sure, here are the first 5 paragraphs of \"Taking the Leap of Faith: A Romantic Comedy Short Story\":  Maggie had always been a practical girl. She had a steady job, a reliable car, and a comfortable apartment. She wasn't the type to take risks or do anything spontaneous. But on this particular evening, she found herself standing outside a trendy nightclub, nervously fidgeting with her phone.  She had agreed to meet someone she had been chatting with online for the past few weeks. His name was Max, and he seemed like a charming, funny, and adventurous guy. He had suggested they meet at this club, and although it wasn't really Maggie's scene, she had decided to take a chance and go for it.  As she entered the club, the thumping bass of the music and the flashing lights overwhelmed her senses. She scanned the crowd, searching for Max. Suddenly, she felt a tap on her shoulder.  \"Hi, you must be Maggie,\" a voice said. She turned around to see Max, looking even more handsome in person than he did in his photos.  \"Hi,\" she replied, feeling her heart race. \"Nice to meet you in person.\" ###Human: can you generate another kind of story for this title? ###Assistant: Sure, here's another short story based on the title \"Taking the Leap of Faith: A Romantic Comedy Short Story\":  Lena had always played it safe. She had a stable job, a comfortable apartment, and a routine that she stuck to every day. But deep down, she longed for adventure and excitement. She just didn't know how to break out of her comfort zone.  That all changed when she met Jack. He was a free spirit who loved to take risks and live in the moment. They had met through a mutual friend, and Jack had immediately taken an interest in Lena. She was initially hesitant, but Jack's infectious energy and enthusiasm had won her over.  One day, Jack surprised Lena with a plane ticket to Hawaii. \"We're going to take the leap of faith together,\" he told her with a grin. Lena was nervous but excited. She had never been to Hawaii before, and the thought of embarking on this adventure with Jack filled her with anticipation.  As they boarded the plane, Lena felt a rush of adrenaline. She was taking a leap of faith, and she didn't know what the future would hold. But she was ready for whatever came her way, as long as Jack was by her side. ###Human: add 5 more paragraphs ###Assistant: Sure, here are the next 5 paragraphs:  The week in Hawaii was filled with adventure and laughter. They hiked to beautiful waterfalls, snorkeled with sea turtles, and tried new foods. Lena felt alive and free for the first time in a long time. Jack's carefree attitude was contagious, and she found herself letting go of her worries and embracing the present moment.  On their last day, Jack took Lena to a beautiful cliff overlooking the ocean. \"I have one more surprise for you,\" he said with a mischievous grin. \"We're going to jump off this cliff together.\"  Lena's heart raced as she looked down at the steep drop into the water below. \"Are you crazy?\" she asked, half-jokingly.  \"Come on, Lena,\" Jack urged. \"This is the ultimate leap of faith. Trust me, it'll be worth it.\"  Lena hesitated for a moment, then looked into Jack's eyes. She saw the excitement and passion in his gaze, and she knew that she wanted to take this leap with him. \"Okay,\" she said, taking a deep breath.  They held hands and ran to the edge of the cliff, then jumped off together. Lena screamed as they fell through the air, but soon they hit the water with a splash. As they swam to shore, Lena felt exhilarated and alive. She had taken a leap of faith, and she had no regrets. ###Human: can you create synopsis for this title also? ###Assistant: Sure, here's a synopsis for \"Taking the Leap of Faith: A Romantic Comedy Short Story\":  Lena is a woman who always plays it safe, sticking to her routine and never taking risks. But when she meets Jack, a free spirit who lives in the moment, she finds herself drawn to his infectious energy and enthusiasm. Jack surprises Lena with a trip to Hawaii, and she takes a leap of faith by embarking on the adventure with him.  Their week in Hawaii is filled with adventure and laughter, and Lena feels alive and free for the first time in a long time. On their last day, Jack takes Lena to a cliff overlooking the ocean, and he urges her to take one more leap of faith by jumping off the cliff with him.  Despite her initial hesitation, Lena decides to take the plunge, and the experience leaves her feeling exhilarated and alive. Lena and Jack return home with a newfound appreciation for life and a deepening connection to each other.  As they navigate the ups and downs of their newfound relationship, Lena learns to let go of her fears and embrace the present moment. With Jack by her side, she discovers that taking a leap of faith can lead to unexpected and wonderful things. ###Human: short synopsis please, if you could give it like 1 paragraph? ###Assistant: Sure, here's a shorter synopsis:  Lena, a woman who always plays it safe, meets Jack, a free spirit who encourages her to take risks. He surprises her with a trip to Hawaii, and she takes a leap of faith by going with him. Their adventure-filled week leads to a deeper connection, and Lena learns to let go of her fears and embrace the present moment with Jack by her side. ###Human: can you change the word \"embrace\" in it with something shorter? ###Assistant: Sure, here's the revised synopsis:  Lena, a woman who always plays it safe, meets Jack, a free spirit who encourages her to take risks. He surprises her with a trip to Hawaii, and she takes a leap of faith by going with him. Their adventure-filled week leads to a deeper connection, and Lena learns to let go of her fears and enjoy the present with Jack by her side. \n",
      "###Human: I want you to act as a career counselor. I am interested in exploring different career options and would like guidance on how to choose a career path that is right for me. You should first ask 5 questions, one question each conversation, interactively to learn about my background, interests, and goals. Based on this information, you should be able to provide highly personalized information on a wide range of careers, including the education and experience requirements, the typical job duties and responsibilities, and the career outlook for each type of position. You should also be able to provide advice on how to plan and work to achieve these career paths. Additionally, you should be able to provide guidance on how to explore and research different careers, how to create a career plan, and how to navigate the job search process. Do not write explanations. ###Assistant: 1. What is your highest level of education completed? 2. What are your interests and passions? 3. What are your long-term career goals? 4. What are your strengths and weaknesses? 5. What type of work environment do you prefer? \n",
      "\n"
     ]
    }
   ],
   "source": [
    "data_df = data.to_pandas()\n",
    "# filter those magicoder \n",
    "data_df = data_df[data_df['dataset'] == 'sharegpt']\n",
    "sample_df = data_df.sample(5)\n",
    "\n",
    "sample_df['final_message'] = sample_df['messages'].apply(encode_reward_message)\n",
    "print(sample_df['final_message'].iloc[0].replace('\\n', ' '))\n",
    "print(sample_df['final_message'].iloc[1].replace('\\n', ' '))\n",
    "print()"
   ]
  },
  {
   "cell_type": "code",
   "execution_count": 53,
   "metadata": {},
   "outputs": [
    {
     "data": {
      "text/plain": [
       "'###Human: That is so short, can we do in the middle? Not too short and not too long? ###Assistant: Certainly, here are some subtitle options that are a bit longer than the previous ones, but still relatively concise:  1. Browse Thousands of Script Contents * Subtitle option 1: Immerse yourself in captivating stories from around the world, featuring diverse voices and perspectives that will inspire and challenge you. * Subtitle option 2: Explore a world of possibilities with our vast collection of scripts, spanning different genres, styles, and themes, and discover your next favorite read. * Subtitle option 3: Expand your literary horizons and find your voice as a writer by reading and learning from a rich array of script contents. 1. Create Your Own Shichus & Scripts * Subtitle option 1: Bring your ideas to life with our intuitive and customizable platform, designed to help you write and script your stories, characters, and worlds with ease and confidence. * Subtitle option 2: Unlock your full creative potential with Shichu, the app that lets you express yourself through writing and scripting, and provides you with the tools and resources to make your vision a reality. * Subtitle option 3: Write your way to success and fulfillment with Shichu\\\\\\'s comprehensive suite of writing and scripting features, tailored to help you develop your skills, hone your craft, and publish your work. 1. Get Closer With the Other Bibliophile * Subtitle option 1: Connect with a global community of book lovers and creative minds, who share your passion for reading and writing, and who can support and inspire you along the way. * Subtitle option 2: Join a dynamic and inclusive community of bibliophiles, where you can exchange ideas, share recommendations, and participate in engaging events and challenges. * Subtitle option 3: Discover a world of friendship and learning with Shichu, the app that fosters meaningful connections and promotes cultural exchange through literature and storytelling. ###Human: I have a post \\\\\"Wow this script from Guy Hawkins is really good, I cried 🥲\\\\\", I need 2 comments underneath and 1 sub-comment each, would you please help me create those comments? ###Assistant: Sure, here are some possible comments and sub-comments for your post:  1. Comment: I know, right? Guy Hawkins is a brilliant writer, and this script in particular tugs at your heartstrings. What was your favorite scene or moment? Sub-comment: For me, it was definitely the ending. I won\\\\\\'t spoil it for those who haven\\\\\\'t read it yet, but let\\\\\\'s just say it left me with a mix of emotions that I can\\\\\\'t quite describe. 2. Comment: I haven\\\\\\'t read that script yet, but now I\\\\\\'m definitely intrigued! Thanks for the recommendation. What genre or type of story is it? Sub-comment: Also, do you have any other recommendations for scripts or books that made you feel the same way? I\\\\\\'m always looking for new things to read and explore.  I hope these comments and sub-comments inspire further discussion and engagement with your post! ###Human: can you add 1 more comment? ###Assistant: Sure, here\\\\\\'s another possible comment and sub-comment:  1. Comment: I couldn\\\\\\'t agree more! Guy Hawkins is a masterful storyteller, and this script is just one example of his talent. Have you read any of his other works? Sub-comment: If you haven\\\\\\'t, I highly recommend checking out his latest novel. It\\\\\\'s a gripping tale of love, loss, and redemption that will stay with you long after you\\\\\\'ve finished reading it. ###Human: one more please ###Assistant: 1. Comment: I haven\\\\\\'t had a chance to read this script yet, but I trust your judgment! It\\\\\\'s always amazing to find a story that can evoke such strong emotions. Thanks for sharing your thoughts. Sub-comment: Do you think this script would be a good fit for a short film or web series? I\\\\\\'m always looking for new material to adapt, and this sounds like it could be a great candidate. ###Human: Ok let\\\\\\'s go with another topic. So i want to read a script/ short story novel with title your provide \\\\\"Taking the Leap of Faith: A Romantic Comedy Script for Two Actors\\\\\", can you give me first 5 paragraphs of the story? ###Assistant: Sure, here are the first 5 paragraphs of \\\\\"Taking the Leap of Faith: A Romantic Comedy Script for Two Actors\\\\\":  FADE IN:  INT. COFFEE SHOP - DAY  JESSICA, a nervous but determined young woman, sits alone at a small table, fidgeting with her phone. She checks the time for the tenth time in as many minutes and takes a deep breath. Across the room, she sees a man enter and scan the crowd. She recognizes him as BEN, a handsome stranger she met online.  Jessica stands up and waves at Ben. He spots her and smiles, making his way over to her table.  BEN (excitedly) Jessica! It\\\\\\'s so good to finally meet you in person.  JESSICA (nervously) Yes, it is. I\\\\\\'m sorry if I seem a bit jittery.  BEN (laugh ###Human: Ok let\\\\\\'s go with another topic. So i want to read a short story novel with title your provide \\\\\"Taking the Leap of Faith: A Romantic Comedy Script for Two Actors\\\\\", can you give me first 5 paragraphs of the story? ###Assistant: Sure, here are the first 5 paragraphs of \\\\\"Taking the Leap of Faith: A Romantic Comedy Short Story\\\\\":  Maggie had always been a practical girl. She had a steady job, a reliable car, and a comfortable apartment. She wasn\\\\\\'t the type to take risks or do anything spontaneous. But on this particular evening, she found herself standing outside a trendy nightclub, nervously fidgeting with her phone.  She had agreed to meet someone she had been chatting with online for the past few weeks. His name was Max, and he seemed like a charming, funny, and adventurous guy. He had suggested they meet at this club, and although it wasn\\\\\\'t really Maggie\\\\\\'s scene, she had decided to take a chance and go for it.  As she entered the club, the thumping bass of the music and the flashing lights overwhelmed her senses. She scanned the crowd, searching for Max. Suddenly, she felt a tap on her shoulder.  \\\\\"Hi, you must be Maggie,\\\\\" a voice said. She turned around to see Max, looking even more handsome in person than he did in his photos.  \\\\\"Hi,\\\\\" she replied, feeling her heart race. \\\\\"Nice to meet you in person.\\\\\" ###Human: can you generate another kind of story for this title? ###Assistant: Sure, here\\\\\\'s another short story based on the title \\\\\"Taking the Leap of Faith: A Romantic Comedy Short Story\\\\\":  Lena had always played it safe. She had a stable job, a comfortable apartment, and a routine that she stuck to every day. But deep down, she longed for adventure and excitement. She just didn\\\\\\'t know how to break out of her comfort zone.  That all changed when she met Jack. He was a free spirit who loved to take risks and live in the moment. They had met through a mutual friend, and Jack had immediately taken an interest in Lena. She was initially hesitant, but Jack\\\\\\'s infectious energy and enthusiasm had won her over.  One day, Jack surprised Lena with a plane ticket to Hawaii. \\\\\"We\\\\\\'re going to take the leap of faith together,\\\\\" he told her with a grin. Lena was nervous but excited. She had never been to Hawaii before, and the thought of embarking on this adventure with Jack filled her with anticipation.  As they boarded the plane, Lena felt a rush of adrenaline. She was taking a leap of faith, and she didn\\\\\\'t know what the future would hold. But she was ready for whatever came her way, as long as Jack was by her side. ###Human: add 5 more paragraphs ###Assistant: Sure, here are the next 5 paragraphs:  The week in Hawaii was filled with adventure and laughter. They hiked to beautiful waterfalls, snorkeled with sea turtles, and tried new foods. Lena felt alive and free for the first time in a long time. Jack\\\\\\'s carefree attitude was contagious, and she found herself letting go of her worries and embracing the present moment.  On their last day, Jack took Lena to a beautiful cliff overlooking the ocean. \\\\\"I have one more surprise for you,\\\\\" he said with a mischievous grin. \\\\\"We\\\\\\'re going to jump off this cliff together.\\\\\"  Lena\\\\\\'s heart raced as she looked down at the steep drop into the water below. \\\\\"Are you crazy?\\\\\" she asked, half-jokingly.  \\\\\"Come on, Lena,\\\\\" Jack urged. \\\\\"This is the ultimate leap of faith. Trust me, it\\\\\\'ll be worth it.\\\\\"  Lena hesitated for a moment, then looked into Jack\\\\\\'s eyes. She saw the excitement and passion in his gaze, and she knew that she wanted to take this leap with him. \\\\\"Okay,\\\\\" she said, taking a deep breath.  They held hands and ran to the edge of the cliff, then jumped off together. Lena screamed as they fell through the air, but soon they hit the water with a splash. As they swam to shore, Lena felt exhilarated and alive. She had taken a leap of faith, and she had no regrets. ###Human: can you create synopsis for this title also? ###Assistant: Sure, here\\\\\\'s a synopsis for \\\\\"Taking the Leap of Faith: A Romantic Comedy Short Story\\\\\":  Lena is a woman who always plays it safe, sticking to her routine and never taking risks. But when she meets Jack, a free spirit who lives in the moment, she finds herself drawn to his infectious energy and enthusiasm. Jack surprises Lena with a trip to Hawaii, and she takes a leap of faith by embarking on the adventure with him.  Their week in Hawaii is filled with adventure and laughter, and Lena feels alive and free for the first time in a long time. On their last day, Jack takes Lena to a cliff overlooking the ocean, and he urges her to take one more leap of faith by jumping off the cliff with him.  Despite her initial hesitation, Lena decides to take the plunge, and the experience leaves her feeling exhilarated and alive. Lena and Jack return home with a newfound appreciation for life and a deepening connection to each other.  As they navigate the ups and downs of their newfound relationship, Lena learns to let go of her fears and embrace the present moment. With Jack by her side, she discovers that taking a leap of faith can lead to unexpected and wonderful things. ###Human: short synopsis please, if you could give it like 1 paragraph? ###Assistant: Sure, here\\\\\\'s a shorter synopsis:  Lena, a woman who always plays it safe, meets Jack, a free spirit who encourages her to take risks. He surprises her with a trip to Hawaii, and she takes a leap of faith by going with him. Their adventure-filled week leads to a deeper connection, and Lena learns to let go of her fears and embrace the present moment with Jack by her side. ###Human: can you change the word \\\\\"embrace\\\\\" in it with something shorter? ###Assistant: Sure, here\\\\\\'s the revised synopsis:  Lena, a woman who always plays it safe, meets Jack, a free spirit who encourages her to take risks. He surprises her with a trip to Hawaii, and she takes a leap of faith by going with him. Their adventure-filled week leads to a deeper connection, and Lena learns to let go of her fears and enjoy the present with Jack by her side. '"
      ]
     },
     "execution_count": 53,
     "metadata": {},
     "output_type": "execute_result"
    }
   ],
   "source": [
    "# escape all \"\\'\" and \"\\\"\" in the final_message\n",
    "sample_df['final_message'].iloc[0].replace('\\n', ' ').replace('\\'', '\\\\\\'').replace('\\\"', '\\\\\\\"')"
   ]
  },
  {
   "cell_type": "code",
   "execution_count": 40,
   "metadata": {},
   "outputs": [
    {
     "data": {
      "text/plain": [
       "'Human: You are tasked with creating a program that manages the status of ID card processing for a company. The program should handle the storage of the file path for the back side of the ID card and the status of the processing.  You need to create a class `IDCardProcessing` with the following specifications: - A private member variable `back_side_of_id_card_path` of type string to store the file path for the back side of the ID card. - A private member variable `status` of type boolean to store the processing status, where `true` indicates processed and `false` indicates pending.  Implement the following methods: 1. `setBackSidePath(path: string)`: A method to set the file path for the back side of the ID card. 2. `setStatus(processed: boolean)`: A method to set the processing status. 3. `getBackSidePath(): string`: A method to retrieve the file path for the back side of the ID card. 4. `getStatus(): boolean`: A method to retrieve the processing status.  Ensure that the class provides appropriate encapsulation and validation for the member variables.  Write a program to demonstrate the usage of the `IDCardProcessing` class by setting the file path, updating the processing status, and retrieving the information. '"
      ]
     },
     "execution_count": 40,
     "metadata": {},
     "output_type": "execute_result"
    }
   ],
   "source": [
    "input_text = '###Human: You are tasked with creating a program that manages the status of ID card processing for a company. The program should handle the storage of the file path for the back side of the ID card and the status of the processing.  You need to create a class `IDCardProcessing` with the following specifications: - A private member variable `back_side_of_id_card_path` of type string to store the file path for the back side of the ID card. - A private member variable `status` of type boolean to store the processing status, where `true` indicates processed and `false` indicates pending.  Implement the following methods: 1. `setBackSidePath(path: string)`: A method to set the file path for the back side of the ID card. 2. `setStatus(processed: boolean)`: A method to set the processing status. 3. `getBackSidePath(): string`: A method to retrieve the file path for the back side of the ID card. 4. `getStatus(): boolean`: A method to retrieve the processing status.  Ensure that the class provides appropriate encapsulation and validation for the member variables.  Write a program to demonstrate the usage of the `IDCardProcessing` class by setting the file path, updating the processing status, and retrieving the information. ###Assistant: ```typescript class IDCardProcessing {     private back_side_of_id_card_path: string;     private status: boolean;      public setBackSidePath(path: string): void {         this.back_side_of_id_card_path = path;     }      public setStatus(processed: boolean): void {         this.status = processed;     }      public getBackSidePath(): string {         return this.back_side_of_id_card_path;     }      public getStatus(): boolean {         return this.status;     } }  // Demonstration const idCard = new IDCardProcessing(); idCard.setBackSidePath(\"/path/to/back_side_id_card.jpg\"); idCard.setStatus(true);  console.log(\"ID Card Back Side Path:\", idCard.getBackSidePath()); console.log(\"ID Card Processing Status:\", idCard.getStatus()); ```  In this solution, the `IDCardProcessing` class encapsulates the file path and processing status, providing methods to set and retrieve the information. The demonstration at the end showcases the usage of the class by setting the file path, updating the processing status, and retrieving the information. '\n",
    "input_text.split('###')[1]"
   ]
  },
  {
   "cell_type": "code",
   "execution_count": null,
   "metadata": {},
   "outputs": [],
   "source": [
    "from collections import Counter\n",
    "from tqdm import trange\n",
    "distances, indices = kmeans.index.search(embeddings, 1)\n",
    "\n",
    "# flatten indices\n",
    "indices = indices.reshape(-1)\n",
    "dataset_dist = {}\n",
    "cluster2score= {}\n",
    "for i in trange(K):\n",
    "    indices_i = np.where(indices == i)[0]\n",
    "    scores_i = data.select(indices_i)\n",
    "    dataset_dist[i] = Counter(scores_i['dataset'])\n",
    "    cluster2score[i] = np.mean(scores_i['eval_score'])"
   ]
  },
  {
   "cell_type": "code",
   "execution_count": null,
   "metadata": {},
   "outputs": [],
   "source": [
    "# normalize by the total number of data in each dataset\n",
    "total_number = {\n",
    "    dataset: len(data.filter(lambda x: x['dataset'] == dataset)) for dataset in set(data['dataset'])\n",
    "}\n",
    "for i in range(K):\n",
    "    for dataset in dataset_dist[i]:\n",
    "        dataset_dist[i][dataset] /= total_number[dataset]\n",
    "\n",
    "# plot the distribution of dataset_dist\n",
    "import pandas as pd\n",
    "df = pd.DataFrame(dataset_dist)\n",
    "df"
   ]
  },
  {
   "cell_type": "code",
   "execution_count": null,
   "metadata": {},
   "outputs": [],
   "source": [
    "# plot the distribution of dataset_dist with x axis as cluster index, y axis as the percentage of each dataset\n",
    "fig, ax = plt.subplots(figsize=(15, 8))\n",
    "df.T.plot(kind='bar', stacked=True, ax=ax)\n",
    "ax1 = ax.twinx()\n",
    "# plot the score of each cluster above the bar as line plot\n",
    "ax1.plot(cluster2score.values(), color='black')"
   ]
  },
  {
   "cell_type": "code",
   "execution_count": null,
   "metadata": {},
   "outputs": [],
   "source": []
  }
 ],
 "metadata": {
  "kernelspec": {
   "display_name": "Python 3",
   "language": "python",
   "name": "python3"
  },
  "language_info": {
   "codemirror_mode": {
    "name": "ipython",
    "version": 3
   },
   "file_extension": ".py",
   "mimetype": "text/x-python",
   "name": "python",
   "nbconvert_exporter": "python",
   "pygments_lexer": "ipython3",
   "version": "3.10.13"
  },
  "orig_nbformat": 4
 },
 "nbformat": 4,
 "nbformat_minor": 2
}
