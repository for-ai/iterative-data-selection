{
 "cells": [
  {
   "cell_type": "code",
   "execution_count": 1,
   "metadata": {},
   "outputs": [],
   "source": [
    "import faiss\n",
    "import numpy as np\n",
    "import os\n",
    "from collections import defaultdict"
   ]
  },
  {
   "cell_type": "code",
   "execution_count": 2,
   "metadata": {},
   "outputs": [],
   "source": [
    "datasets = [\"sharegpt\", \"wildchat\", \"wizardlm+sharegpt\"]\n",
    "datasets = [\"wizardlm+sharegpt\"]\n",
    "embeddings_file = {\n",
    "    \"e5-large\": 'e5-large-v2-tulu_user_only-embeddings.npy',\n",
    "    'cohere': 'embed-english-v3.0-tulu_user_only-embeddings.npy',\n",
    "    'llama': 'Llama-2-7b-hf-tulu_user_only-embeddings.npy',\n",
    "}\n",
    "Ks = [32, 64, 128, 256, 512, 1024, 2048, 4096]\n",
    "embedding_path_template = \"/mnt/data/data-selection/data/processed/{}/{}\""
   ]
  },
  {
   "cell_type": "code",
   "execution_count": 3,
   "metadata": {},
   "outputs": [
    {
     "name": "stdout",
     "output_type": "stream",
     "text": [
      "Loading /mnt/data/data-selection/data/processed/wizardlm+sharegpt/e5-large-v2-tulu_user_only-embeddings.npy\n",
      "Loaded (25704, 1024)\n",
      "Loading /mnt/data/data-selection/data/processed/wizardlm+sharegpt/embed-english-v3.0-tulu_user_only-embeddings.npy\n",
      "Loaded (25704, 1024)\n",
      "Loading /mnt/data/data-selection/data/processed/wizardlm+sharegpt/Llama-2-7b-hf-tulu_user_only-embeddings.npy\n"
     ]
    },
    {
     "name": "stdout",
     "output_type": "stream",
     "text": [
      "Loaded (25704, 4096)\n"
     ]
    }
   ],
   "source": [
    "embeddings_dict = defaultdict(dict)\n",
    "# load the embeddings\n",
    "for dataset in datasets:\n",
    "    for model, file in embeddings_file.items():\n",
    "        path = embedding_path_template.format(dataset, file)\n",
    "        if not os.path.exists(path):\n",
    "            print(f\"Embeddings not found at {path}\")\n",
    "            continue\n",
    "        print(f\"Loading {path}\")\n",
    "        embeddings = np.load(path)\n",
    "        print(f\"Loaded {embeddings.shape}\")\n",
    "        embeddings_dict[dataset][model] = embeddings\n",
    "        # # build the index\n",
    "        # index = faiss.IndexFlatL2(embeddings.shape[1])\n",
    "        # index.add(embeddings)"
   ]
  },
  {
   "cell_type": "code",
   "execution_count": 4,
   "metadata": {},
   "outputs": [],
   "source": [
    "# calculation of sillhouette score\n",
    "def silhouette_coefficient(cluster_index, samples) -> float:\n",
    "    # At each data point, we calculate the distance to the cluster center in which the data point belongs (referred to as a),\n",
    "    # as well as the distance to the second best cluster center (referred to as b). Here, the second best cluster refers\n",
    "    # to the closest cluster that is not the current data point’s cluster. Then based, on these two distances a and b, the\n",
    "    # silhouette s of that data point is calculated as s=(b-a)/max(a,b). The mean of all s is the s coefficient and measures\n",
    "    # quality of the clustering for this nr of k\n",
    "    #\n",
    "    # This is done by simply calculating the silhouette coefficient over a range of k, and identifying the peak as the optimum K.\n",
    "    distance, _ = cluster_index.search(samples, 2)\n",
    "    \n",
    "    # a = distance[:, 0], b = distance[:, 1]\n",
    "    # s = (b - a) / np.max(a, b)\n",
    "    s = (distance[:, 1] - distance[:, 0]) / np.max(distance, 1)\n",
    "\n",
    "    # A score of 1 denotes the best, meaning that the data point i is very compact within the cluster to which it belongs\n",
    "    # and far away from the other clusters. The worst value is -1. Values near 0 denote overlapping clusters.\n",
    "    return s.mean()"
   ]
  },
  {
   "cell_type": "code",
   "execution_count": 6,
   "metadata": {},
   "outputs": [
    {
     "name": "stdout",
     "output_type": "stream",
     "text": [
      "Calculating sillhouette score for e5-large with k=32\n",
      "Sampling a subset of 8192 / 25704 for training\n",
      "Clustering 8192 points in 1024D to 32 clusters, redo 2 times, 300 iterations\n",
      "  Preprocessing in 0.04 s\n",
      "Outer iteration 0 / 2\n",
      "  Iteration 299 (2.47 s, search 2.05 s): objective=0.154068 imbalance=1.980 nsplit=0       \n",
      "Objective improved: keep new clusters\n",
      "Outer iteration 1 / 2\n",
      "  Iteration 299 (5.05 s, search 4.34 s): objective=0.153993 imbalance=2.239 nsplit=0       \n",
      "Objective improved: keep new clusters\n",
      "Calculating sillhouette score for e5-large with k=64\n",
      "Sampling a subset of 16384 / 25704 for training\n",
      "Clustering 16384 points in 1024D to 64 clusters, redo 2 times, 300 iterations\n",
      "  Preprocessing in 0.05 s\n",
      "Outer iteration 0 / 2\n",
      "  Iteration 299 (5.90 s, search 4.53 s): objective=0.344954 imbalance=2.289 nsplit=0       \n",
      "Objective improved: keep new clusters\n",
      "Outer iteration 1 / 2\n",
      "  Iteration 299 (11.19 s, search 8.95 s): objective=0.344957 imbalance=2.402 nsplit=0       \n",
      "Calculating sillhouette score for e5-large with k=128\n",
      "Clustering 25704 points in 1024D to 128 clusters, redo 2 times, 300 iterations\n",
      "  Preprocessing in 0.03 s\n",
      "Outer iteration 0 / 2\n",
      "  Iteration 299 (8.02 s, search 7.01 s): objective=0.498462 imbalance=1.752 nsplit=0       \n",
      "Objective improved: keep new clusters\n",
      "Outer iteration 1 / 2\n",
      "  Iteration 299 (15.54 s, search 13.77 s): objective=0.499722 imbalance=1.502 nsplit=0       \n",
      "Calculating sillhouette score for e5-large with k=256\n",
      "Clustering 25704 points in 1024D to 256 clusters, redo 2 times, 300 iterations\n",
      "  Preprocessing in 0.03 s\n",
      "Outer iteration 0 / 2\n",
      "  Iteration 299 (7.71 s, search 6.87 s): objective=0.492676 imbalance=1.461 nsplit=0       \n",
      "Objective improved: keep new clusters\n",
      "Outer iteration 1 / 2\n",
      "  Iteration 299 (15.86 s, search 13.55 s): objective=0.495385 imbalance=1.434 nsplit=0       \n",
      "Calculating sillhouette score for e5-large with k=512\n",
      "Clustering 25704 points in 1024D to 512 clusters, redo 2 times, 300 iterations\n",
      "  Preprocessing in 0.03 s\n",
      "Outer iteration 0 / 2\n",
      "  Iteration 299 (8.85 s, search 7.19 s): objective=0.485074 imbalance=1.707 nsplit=0       \n",
      "Objective improved: keep new clusters\n",
      "Outer iteration 1 / 2\n",
      "  Iteration 299 (17.15 s, search 14.41 s): objective=0.488966 imbalance=1.606 nsplit=0       \n",
      "Calculating sillhouette score for e5-large with k=1024\n",
      "Clustering 25704 points in 1024D to 1024 clusters, redo 2 times, 300 iterations\n",
      "  Preprocessing in 0.03 s\n",
      "Outer iteration 0 / 2\n",
      "  Iteration 5 (0.17 s, search 0.15 s): objective=0.511809 imbalance=2.299 nsplit=0       \r"
     ]
    },
    {
     "name": "stderr",
     "output_type": "stream",
     "text": [
      "WARNING clustering 25704 points to 1024 centroids: please provide at least 39936 training points\n"
     ]
    },
    {
     "name": "stdout",
     "output_type": "stream",
     "text": [
      "  Iteration 299 (8.97 s, search 7.53 s): objective=0.471279 imbalance=2.167 nsplit=0       \n",
      "Objective improved: keep new clusters\n",
      "Outer iteration 1 / 2\n",
      "  Iteration 299 (17.61 s, search 14.77 s): objective=0.466398 imbalance=2.189 nsplit=0       \n",
      "Objective improved: keep new clusters\n",
      "Calculating sillhouette score for e5-large with k=2048\n"
     ]
    },
    {
     "name": "stderr",
     "output_type": "stream",
     "text": [
      "WARNING clustering 25704 points to 2048 centroids: please provide at least 79872 training points\n"
     ]
    },
    {
     "name": "stdout",
     "output_type": "stream",
     "text": [
      "Clustering 25704 points in 1024D to 2048 clusters, redo 2 times, 300 iterations\n",
      "  Preprocessing in 0.03 s\n",
      "Outer iteration 0 / 2\n",
      "  Iteration 299 (10.53 s, search 8.29 s): objective=0.363853 imbalance=2.815 nsplit=0       \n",
      "Objective improved: keep new clusters\n",
      "Outer iteration 1 / 2\n",
      "  Iteration 299 (20.91 s, search 16.61 s): objective=0.441926 imbalance=2.810 nsplit=0       \n",
      "Calculating sillhouette score for cohere with k=32\n",
      "Sampling a subset of 8192 / 25704 for training\n",
      "Clustering 8192 points in 1024D to 32 clusters, redo 2 times, 300 iterations\n",
      "  Preprocessing in 0.03 s\n",
      "Outer iteration 0 / 2\n",
      "  Iteration 299 (2.84 s, search 2.29 s): objective=0.426636 imbalance=5.846 nsplit=0       \n",
      "Objective improved: keep new clusters\n",
      "Outer iteration 1 / 2\n",
      "  Iteration 299 (5.54 s, search 4.61 s): objective=0.516599 imbalance=4.096 nsplit=0       \n",
      "Calculating sillhouette score for cohere with k=64\n",
      "Sampling a subset of 16384 / 25704 for training\n",
      "Clustering 16384 points in 1024D to 64 clusters, redo 2 times, 300 iterations\n",
      "  Preprocessing in 0.05 s\n",
      "Outer iteration 0 / 2\n",
      "  Iteration 299 (5.38 s, search 4.57 s): objective=0.983723 imbalance=5.605 nsplit=0       \n",
      "Objective improved: keep new clusters\n",
      "Outer iteration 1 / 2\n",
      "  Iteration 299 (11.37 s, search 9.16 s): objective=1.05917 imbalance=5.852 nsplit=0       \n",
      "Calculating sillhouette score for cohere with k=128\n",
      "Clustering 25704 points in 1024D to 128 clusters, redo 2 times, 300 iterations\n",
      "  Preprocessing in 0.03 s\n",
      "Outer iteration 0 / 2\n",
      "  Iteration 299 (8.66 s, search 7.08 s): objective=1.82226 imbalance=8.164 nsplit=0       \n",
      "Objective improved: keep new clusters\n",
      "Outer iteration 1 / 2\n",
      "  Iteration 299 (17.12 s, search 13.76 s): objective=2.13806 imbalance=7.777 nsplit=0       \n",
      "Calculating sillhouette score for cohere with k=256\n",
      "Clustering 25704 points in 1024D to 256 clusters, redo 2 times, 300 iterations\n",
      "  Preprocessing in 0.03 s\n",
      "Outer iteration 0 / 2\n",
      "  Iteration 299 (8.06 s, search 6.96 s): objective=1.73493 imbalance=8.470 nsplit=0       \n",
      "Objective improved: keep new clusters\n",
      "Outer iteration 1 / 2\n",
      "  Iteration 299 (16.17 s, search 14.01 s): objective=2.00041 imbalance=7.855 nsplit=0       \n",
      "Calculating sillhouette score for cohere with k=512\n",
      "Clustering 25704 points in 1024D to 512 clusters, redo 2 times, 300 iterations\n",
      "  Preprocessing in 0.03 s\n",
      "Outer iteration 0 / 2\n",
      "  Iteration 299 (8.75 s, search 7.53 s): objective=1.8863 imbalance=6.111 nsplit=0       \n",
      "Objective improved: keep new clusters\n",
      "Outer iteration 1 / 2\n",
      "  Iteration 299 (17.25 s, search 14.63 s): objective=1.90961 imbalance=9.053 nsplit=0       \n",
      "Calculating sillhouette score for cohere with k=1024\n"
     ]
    },
    {
     "name": "stderr",
     "output_type": "stream",
     "text": [
      "WARNING clustering 25704 points to 1024 centroids: please provide at least 39936 training points\n"
     ]
    },
    {
     "name": "stdout",
     "output_type": "stream",
     "text": [
      "Clustering 25704 points in 1024D to 1024 clusters, redo 2 times, 300 iterations\n",
      "  Preprocessing in 0.03 s\n",
      "Outer iteration 0 / 2\n",
      "  Iteration 299 (9.22 s, search 7.78 s): objective=1.82755 imbalance=4.775 nsplit=0       \n",
      "Objective improved: keep new clusters\n",
      "Outer iteration 1 / 2\n",
      "  Iteration 299 (18.39 s, search 15.44 s): objective=1.82838 imbalance=4.832 nsplit=0       \n",
      "Calculating sillhouette score for cohere with k=2048\n",
      "Clustering 25704 points in 1024D to 2048 clusters, redo 2 times, 300 iterations\n",
      "  Preprocessing in 0.03 s\n",
      "Outer iteration 0 / 2\n",
      "  Iteration 5 (0.20 s, search 0.16 s): objective=1.33214 imbalance=3.669 nsplit=0       \r"
     ]
    },
    {
     "name": "stderr",
     "output_type": "stream",
     "text": [
      "WARNING clustering 25704 points to 2048 centroids: please provide at least 79872 training points\n"
     ]
    },
    {
     "name": "stdout",
     "output_type": "stream",
     "text": [
      "  Iteration 299 (10.37 s, search 8.34 s): objective=1.24095 imbalance=4.298 nsplit=0       \n",
      "Objective improved: keep new clusters\n",
      "Outer iteration 1 / 2\n",
      "  Iteration 299 (20.48 s, search 16.27 s): objective=1.24014 imbalance=4.224 nsplit=0       \n",
      "Objective improved: keep new clusters\n",
      "Calculating sillhouette score for llama with k=32\n",
      "Sampling a subset of 8192 / 25704 for training\n",
      "Clustering 8192 points in 4096D to 32 clusters, redo 2 times, 300 iterations\n",
      "  Preprocessing in 0.16 s\n",
      "Outer iteration 0 / 2\n",
      "  Iteration 299 (9.01 s, search 8.26 s): objective=3.37632e+07 imbalance=1.189 nsplit=0       \n",
      "Objective improved: keep new clusters\n",
      "Outer iteration 1 / 2\n",
      "  Iteration 299 (18.37 s, search 16.56 s): objective=3.37564e+07 imbalance=1.117 nsplit=0       \n",
      "Objective improved: keep new clusters\n",
      "Calculating sillhouette score for llama with k=64\n",
      "Sampling a subset of 16384 / 25704 for training\n",
      "Clustering 16384 points in 4096D to 64 clusters, redo 2 times, 300 iterations\n",
      "  Preprocessing in 0.21 s\n",
      "Outer iteration 0 / 2\n",
      "  Iteration 299 (17.76 s, search 16.53 s): objective=6.13441e+07 imbalance=1.140 nsplit=0       \n",
      "Objective improved: keep new clusters\n",
      "Outer iteration 1 / 2\n",
      "  Iteration 299 (35.39 s, search 32.82 s): objective=6.08733e+07 imbalance=1.202 nsplit=0       \n",
      "Objective improved: keep new clusters\n",
      "Calculating sillhouette score for llama with k=128\n",
      "Clustering 25704 points in 4096D to 128 clusters, redo 2 times, 300 iterations\n",
      "  Preprocessing in 0.11 s\n",
      "Outer iteration 0 / 2\n",
      "  Iteration 299 (27.85 s, search 25.56 s): objective=8.83088e+07 imbalance=1.186 nsplit=0       \n",
      "Objective improved: keep new clusters\n",
      "Outer iteration 1 / 2\n",
      "  Iteration 299 (54.47 s, search 50.02 s): objective=8.79893e+07 imbalance=1.161 nsplit=0       \n",
      "Objective improved: keep new clusters\n",
      "Calculating sillhouette score for llama with k=256\n",
      "Clustering 25704 points in 4096D to 256 clusters, redo 2 times, 300 iterations\n",
      "  Preprocessing in 0.11 s\n",
      "Outer iteration 0 / 2\n",
      "  Iteration 299 (28.82 s, search 26.05 s): objective=8.0824e+07 imbalance=1.207 nsplit=0       \n",
      "Objective improved: keep new clusters\n",
      "Outer iteration 1 / 2\n",
      "  Iteration 299 (57.29 s, search 51.79 s): objective=8.08486e+07 imbalance=1.188 nsplit=0       \n",
      "Calculating sillhouette score for llama with k=512\n",
      "Clustering 25704 points in 4096D to 512 clusters, redo 2 times, 300 iterations\n",
      "  Preprocessing in 0.11 s\n",
      "Outer iteration 0 / 2\n",
      "  Iteration 299 (29.57 s, search 26.39 s): objective=7.40882e+07 imbalance=1.309 nsplit=0       \n",
      "Objective improved: keep new clusters\n",
      "Outer iteration 1 / 2\n",
      "  Iteration 299 (58.84 s, search 52.55 s): objective=7.40399e+07 imbalance=1.266 nsplit=0       \n",
      "Objective improved: keep new clusters\n",
      "Calculating sillhouette score for llama with k=1024\n"
     ]
    },
    {
     "name": "stderr",
     "output_type": "stream",
     "text": [
      "WARNING clustering 25704 points to 1024 centroids: please provide at least 39936 training points\n"
     ]
    },
    {
     "name": "stdout",
     "output_type": "stream",
     "text": [
      "Clustering 25704 points in 4096D to 1024 clusters, redo 2 times, 300 iterations\n",
      "  Preprocessing in 0.11 s\n",
      "Outer iteration 0 / 2\n",
      "  Iteration 299 (32.41 s, search 28.00 s): objective=6.75086e+07 imbalance=1.435 nsplit=0       \n",
      "Objective improved: keep new clusters\n",
      "Outer iteration 1 / 2\n",
      "  Iteration 299 (64.41 s, search 55.65 s): objective=6.77875e+07 imbalance=1.425 nsplit=0       \n",
      "Calculating sillhouette score for llama with k=2048\n"
     ]
    },
    {
     "name": "stderr",
     "output_type": "stream",
     "text": [
      "WARNING clustering 25704 points to 2048 centroids: please provide at least 79872 training points\n"
     ]
    },
    {
     "name": "stdout",
     "output_type": "stream",
     "text": [
      "Clustering 25704 points in 4096D to 2048 clusters, redo 2 times, 300 iterations\n",
      "  Preprocessing in 0.11 s\n",
      "Outer iteration 0 / 2\n",
      "  Iteration 299 (37.79 s, search 30.21 s): objective=6.03779e+07 imbalance=1.614 nsplit=0       \n",
      "Objective improved: keep new clusters\n",
      "Outer iteration 1 / 2\n",
      "  Iteration 299 (75.80 s, search 60.49 s): objective=6.04998e+07 imbalance=1.560 nsplit=0       \n"
     ]
    },
    {
     "data": {
      "text/plain": [
       "defaultdict(dict,\n",
       "            {'wizardlm+sharegpt': {'e5-large': {4096: 0.24751739,\n",
       "               32: 0.15187961,\n",
       "               64: 0.1135735,\n",
       "               128: 0.082464956,\n",
       "               256: 0.08558801,\n",
       "               512: 0.09684662,\n",
       "               1024: 0.120416455,\n",
       "               2048: 0.1632899},\n",
       "              'cohere': {4096: 0.24233213,\n",
       "               32: 0.22763245,\n",
       "               64: 0.16065995,\n",
       "               128: 0.15199853,\n",
       "               256: 0.13459153,\n",
       "               512: 0.1010436,\n",
       "               1024: 0.12200588,\n",
       "               2048: 0.16390704},\n",
       "              'llama': {4096: 0.3434755,\n",
       "               32: 0.24473196,\n",
       "               64: 0.232516,\n",
       "               128: 0.21952105,\n",
       "               256: 0.21015981,\n",
       "               512: 0.21620865,\n",
       "               1024: 0.2302762,\n",
       "               2048: 0.26690328}}})"
      ]
     },
     "execution_count": 6,
     "metadata": {},
     "output_type": "execute_result"
    }
   ],
   "source": [
    "# perform kmeans clustering with sharegpt, ks and models\n",
    "# sharegpt_embeddings = embeddings_dict[\"sharegpt\"]\n",
    "sillhouette_scores = defaultdict(dict)\n",
    "computed = {'e5-large': {64: 0.1135735,\n",
    "                           256: 0.08558801,\n",
    "                           512: 0.09684662,\n",
    "                           2048: 0.1632899,\n",
    "                           4096: 0.24751739},\n",
    "                          'cohere': {64: 0.16065995,\n",
    "                           256: 0.13459153,\n",
    "                           512: 0.1010436,\n",
    "                           2048: 0.16390704,\n",
    "                           4096: 0.24233213},\n",
    "                          'llama': {64: 0.232516,\n",
    "                           256: 0.21015981,\n",
    "                           512: 0.21620865,\n",
    "                           2048: 0.26690328,\n",
    "                           4096: 0.3434755}}\n",
    "for key, value in computed.items():\n",
    "    for k, v in value.items():\n",
    "        sillhouette_scores[\"wizardlm+sharegpt\"][key] = {k: v}\n",
    "\n",
    "for name, name_embeddings in embeddings_dict.items():\n",
    "    if name not in sillhouette_scores:\n",
    "        sillhouette_scores[name] = defaultdict(dict)\n",
    "    for model, embeddings in name_embeddings.items():\n",
    "        embeddings = embeddings[~np.isnan(embeddings).any(axis=1)]\n",
    "        embeddings = embeddings[~np.isinf(embeddings).any(axis=1)]\n",
    "        for k in Ks:\n",
    "            if k in sillhouette_scores[name][model]:\n",
    "                continue\n",
    "            print(f\"Calculating sillhouette score for {model} with k={k}\")\n",
    "            index = faiss.IndexFlatL2(embeddings.shape[1])\n",
    "            index.add(embeddings)\n",
    "\n",
    "            # train k means\n",
    "            kmeans = faiss.Kmeans(embeddings.shape[1], k, niter=300, verbose=True, gpu=True, nredo=2)\n",
    "            kmeans.train(embeddings)\n",
    "\n",
    "            sillhouette_scores[name][model][k] = silhouette_coefficient(kmeans.index, embeddings)\n",
    "sillhouette_scores"
   ]
  },
  {
   "cell_type": "code",
   "execution_count": 7,
   "metadata": {},
   "outputs": [
    {
     "name": "stderr",
     "output_type": "stream",
     "text": [
      "/mnt/data/selection/lib/python3.10/site-packages/seaborn/_base.py:949: FutureWarning: When grouping with a length-1 list-like, you will need to pass a length-1 tuple to get_group in a future version of pandas. Pass `(name,)` instead of `name` to silence this warning.\n",
      "  data_subset = grouped_data.get_group(pd_key)\n",
      "/mnt/data/selection/lib/python3.10/site-packages/seaborn/_base.py:949: FutureWarning: When grouping with a length-1 list-like, you will need to pass a length-1 tuple to get_group in a future version of pandas. Pass `(name,)` instead of `name` to silence this warning.\n",
      "  data_subset = grouped_data.get_group(pd_key)\n",
      "/mnt/data/selection/lib/python3.10/site-packages/seaborn/_base.py:949: FutureWarning: When grouping with a length-1 list-like, you will need to pass a length-1 tuple to get_group in a future version of pandas. Pass `(name,)` instead of `name` to silence this warning.\n",
      "  data_subset = grouped_data.get_group(pd_key)\n"
     ]
    },
    {
     "data": {
      "text/plain": [
       "Text(0.5, 1.0, 'Sillhouette scores for wizardlm+sharegpt dataset')"
      ]
     },
     "execution_count": 7,
     "metadata": {},
     "output_type": "execute_result"
    },
    {
     "data": {
      "image/png": "[encoded data removed]",
      "text/plain": [
       "<Figure size 1000x500 with 1 Axes>"
      ]
     },
     "metadata": {},
     "output_type": "display_data"
    }
   ],
   "source": [
    "# plot the heatmap of sillhouette scores\n",
    "import matplotlib.pyplot as plt\n",
    "import seaborn as sns\n",
    "import pandas as pd\n",
    "\n",
    "name = \"wizardlm+sharegpt\"\n",
    "sillhouette_scores_df = pd.DataFrame(sillhouette_scores[name])\n",
    "sillhouette_scores_df = sillhouette_scores_df.reset_index()\n",
    "# make the index as categorical\n",
    "sillhouette_scores_df['k'] = sillhouette_scores_df['index'].astype('category')\n",
    "# set the k as str\n",
    "# sort by k\n",
    "sillhouette_scores_df = sillhouette_scores_df.sort_values('k')\n",
    "sillhouette_scores_df['k'] = sillhouette_scores_df['k'].astype(str)\n",
    "# remove the index\n",
    "sillhouette_scores_df = sillhouette_scores_df.drop(columns='index')\n",
    "\n",
    "# take the mean between e5-large, cohere and llama\n",
    "# sillhouette_scores_df['mean'] = sillhouette_scores_df.drop(columns='k').mean(axis=1)\n",
    "# plot the mean sillhouette score\n",
    "# fig, ax = plt.subplots(figsize=(10, 5))\n",
    "# melted_df = sillhouette_scores_df.melt(id_vars='k', var_name='model', value_name='sillhouette_score')\n",
    "# # only keep model == mean\n",
    "# melted_df = melted_df[melted_df['model'] == 'mean']\n",
    "# # orange line\n",
    "# sns.lineplot(data=melted_df, x='k', y='sillhouette_score', marker='o', color='orange', ax=ax)\n",
    "# plt.title(f\"Sillhouette scores for {name} dataset\")\n",
    "\n",
    "# ax1 = ax.twinx()\n",
    "# # plot the lora ft performance as bar chart\n",
    "# lora_ft_performance_df = pd.DataFrame(lora_ft_performance, index=[0])\n",
    "# lora_ft_performance_df = lora_ft_performance_df.melt(var_name='k', value_name='lora_ft_performance')\n",
    "# lora_ft_performance_df['k'] = lora_ft_performance_df['k'].astype(str)\n",
    "# sns.barplot(data=lora_ft_performance_df, x='k', y='lora_ft_performance', ax=ax1, color='blue', alpha=0.5)\n",
    "# # set the ylim for ax1 to be [42, 44]\n",
    "# ax1.set_ylim([42, 44])\n",
    "# # add a dotted line horizontal line at 43.45 as the baseline\n",
    "# ax1.axhline(43.45, color='red', linestyle='--', label='Random')\n",
    "# ax1.legend(loc='upper right', bbox_to_anchor=(1.0, 1.2))\n",
    "# # set the ax1 y label to be \"Average Score\"\n",
    "# ax1.set_ylabel(\"Average Score\")\n",
    "\n",
    "# make the column of k as discrete\n",
    "# sort the columns \n",
    "fig, ax = plt.subplots(figsize=(10, 5))\n",
    "# sillhouette_scores_df = sillhouette_scores_df[sillhouette_scores_df.columns.sort_values()]\n",
    "# # sns.heatmap(sillhouette_scores_df, annot=True)\n",
    "# # draw line plot, with column 'k' as the x axis, and each column as a line\n",
    "sns.lineplot(data=sillhouette_scores_df.melt(id_vars='k', var_name='model', value_name='sillhouette_score'), x='k', y='sillhouette_score', hue='model', marker='o')\n",
    "# rename the x axis label to [\"\"]\n",
    "# # add title\n",
    "plt.title(f\"Sillhouette scores for {name} dataset\")"
   ]
  },
  {
   "cell_type": "code",
   "execution_count": 10,
   "metadata": {},
   "outputs": [
    {
     "name": "stdout",
     "output_type": "stream",
     "text": [
      "Calculating sillhouette score for llama with k=64\n",
      "Sampling a subset of 16384 / 25704 for training\n",
      "Clustering 16384 points in 4096D to 64 clusters, redo 2 times, 300 iterations\n",
      "  Preprocessing in 0.21 s\n",
      "Outer iteration 0 / 2\n",
      "  Iteration 299 (17.72 s, search 16.31 s): objective=6.13441e+07 imbalance=1.140 nsplit=0       \n",
      "Objective improved: keep new clusters\n",
      "Outer iteration 1 / 2\n",
      "  Iteration 299 (35.20 s, search 32.48 s): objective=6.08733e+07 imbalance=1.202 nsplit=0       \n",
      "Objective improved: keep new clusters\n",
      "Calculating sillhouette score for llama with k=256\n",
      "Clustering 25704 points in 4096D to 256 clusters, redo 2 times, 300 iterations\n",
      "  Preprocessing in 0.11 s\n",
      "Outer iteration 0 / 2\n",
      "  Iteration 299 (28.30 s, search 25.81 s): objective=8.0824e+07 imbalance=1.207 nsplit=0       \n",
      "Objective improved: keep new clusters\n",
      "Outer iteration 1 / 2\n",
      "  Iteration 299 (56.15 s, search 51.26 s): objective=8.08486e+07 imbalance=1.188 nsplit=0       \n",
      "Calculating sillhouette score for llama with k=512\n",
      "Clustering 25704 points in 4096D to 512 clusters, redo 2 times, 300 iterations\n",
      "  Preprocessing in 0.11 s\n",
      "Outer iteration 0 / 2\n",
      "  Iteration 299 (29.54 s, search 26.42 s): objective=7.40882e+07 imbalance=1.309 nsplit=0       \n",
      "Objective improved: keep new clusters\n",
      "Outer iteration 1 / 2\n",
      "  Iteration 299 (59.28 s, search 53.06 s): objective=7.40399e+07 imbalance=1.266 nsplit=0       \n",
      "Objective improved: keep new clusters\n",
      "Calculating sillhouette score for llama with k=2048\n"
     ]
    },
    {
     "name": "stderr",
     "output_type": "stream",
     "text": [
      "WARNING clustering 25704 points to 2048 centroids: please provide at least 79872 training points\n"
     ]
    },
    {
     "name": "stdout",
     "output_type": "stream",
     "text": [
      "Clustering 25704 points in 4096D to 2048 clusters, redo 2 times, 300 iterations\n",
      "  Preprocessing in 0.11 s\n",
      "Outer iteration 0 / 2\n",
      "  Iteration 299 (38.25 s, search 30.81 s): objective=6.03779e+07 imbalance=1.614 nsplit=0       \n",
      "Objective improved: keep new clusters\n",
      "Outer iteration 1 / 2\n",
      "  Iteration 299 (75.23 s, search 60.55 s): objective=6.04998e+07 imbalance=1.560 nsplit=0       \n",
      "Calculating sillhouette score for llama with k=4096\n"
     ]
    },
    {
     "name": "stderr",
     "output_type": "stream",
     "text": [
      "WARNING clustering 25704 points to 4096 centroids: please provide at least 159744 training points\n"
     ]
    },
    {
     "name": "stdout",
     "output_type": "stream",
     "text": [
      "Clustering 25704 points in 4096D to 4096 clusters, redo 2 times, 300 iterations\n",
      "  Preprocessing in 0.11 s\n",
      "Outer iteration 0 / 2\n",
      "  Iteration 299 (49.05 s, search 34.96 s): objective=5.11797e+07 imbalance=1.760 nsplit=0       \n",
      "Objective improved: keep new clusters\n",
      "Outer iteration 1 / 2\n",
      "  Iteration 299 (99.47 s, search 70.79 s): objective=5.13421e+07 imbalance=1.727 nsplit=0       \n"
     ]
    }
   ],
   "source": [
    "tulu_v2_embedding = \"/mnt/data/sparseIT/data/processed/tulu_v2/embed-english-v3.0-tulu_user_only-embeddings.npy\"\n",
    "tulu_v2_embedding = np.load(tulu_v2_embedding)\n",
    "\n",
    "tulu_v2_sillhouette_score = {}\n",
    "for k in Ks:\n",
    "    print(f\"Calculating sillhouette score for {model} with k={k}\")\n",
    "    index = faiss.IndexFlatL2(embeddings.shape[1])\n",
    "    index.add(embeddings)\n",
    "\n",
    "    # train k means\n",
    "    kmeans = faiss.Kmeans(embeddings.shape[1], k, niter=300, verbose=True, gpu=True, nredo=2)\n",
    "    kmeans.train(embeddings)\n",
    "\n",
    "    tulu_v2_sillhouette_score[k] = silhouette_coefficient(kmeans.index, embeddings)"
   ]
  },
  {
   "cell_type": "code",
   "execution_count": 14,
   "metadata": {},
   "outputs": [
    {
     "data": {
      "text/plain": [
       "<Axes: xlabel='k', ylabel='sillhouette_score'>"
      ]
     },
     "execution_count": 14,
     "metadata": {},
     "output_type": "execute_result"
    },
    {
     "data": {
      "image/png": "[encoded data removed]",
      "text/plain": [
       "<Figure size 640x480 with 1 Axes>"
      ]
     },
     "metadata": {},
     "output_type": "display_data"
    }
   ],
   "source": [
    "tulu_v2_sillhouette_score\n",
    "# plot the line chart for tulu_v2\n",
    "tulu_v2_sillhouette_score_df = pd.DataFrame(tulu_v2_sillhouette_score, index=[0])\n",
    "tulu_v2_sillhouette_score_df = tulu_v2_sillhouette_score_df.melt(var_name='k', value_name='sillhouette_score')\n",
    "tulu_v2_sillhouette_score_df['k'] = tulu_v2_sillhouette_score_df['k'].astype(str)\n",
    "tulu_v2_sillhouette_score_df\n",
    "sns.lineplot(data=tulu_v2_sillhouette_score_df, x='k', y='sillhouette_score', marker='o')"
   ]
  },
  {
   "cell_type": "code",
   "execution_count": 9,
   "metadata": {},
   "outputs": [
    {
     "name": "stdout",
     "output_type": "stream",
     "text": [
      "Clustering 25704 points in 4096D to 512 clusters, redo 3 times, 300 iterations\n",
      "  Preprocessing in 0.11 s\n",
      "Outer iteration 0 / 3\n",
      "  Iteration 299 (29.17 s, search 26.08 s): objective=7.40882e+07 imbalance=1.309 nsplit=0       \n",
      "Objective improved: keep new clusters\n",
      "Outer iteration 1 / 3\n",
      "  Iteration 299 (58.59 s, search 52.41 s): objective=7.40399e+07 imbalance=1.266 nsplit=0       \n",
      "Objective improved: keep new clusters\n",
      "Outer iteration 2 / 3\n",
      "  Iteration 299 (87.73 s, search 78.43 s): objective=7.40018e+07 imbalance=1.285 nsplit=0       \n",
      "Objective improved: keep new clusters\n"
     ]
    },
    {
     "data": {
      "image/png": "[encoded data removed]",
      "text/plain": [
       "<Figure size 640x480 with 1 Axes>"
      ]
     },
     "metadata": {},
     "output_type": "display_data"
    }
   ],
   "source": [
    "index = faiss.IndexFlatL2(embeddings.shape[1])\n",
    "index.add(embeddings)\n",
    "\n",
    "# take 512 and 4906 as the best k\n",
    "# plot the kmeans clustering for k=512 and k=4096\n",
    "# for k in [512, 4096]:\n",
    "for k in [512]:\n",
    "    kmeans = faiss.Kmeans(embeddings.shape[1], k=k, niter=300, verbose=True, gpu=True, nredo=3)\n",
    "    kmeans.train(embeddings)\n",
    "\n",
    "    # get the indices of the clusters\n",
    "    _, indices = kmeans.index.search(embeddings, 1)\n",
    "    # plot the number of datapoint assigned to each cluster\n",
    "    plt.hist(indices, bins=k)\n"
   ]
  },
  {
   "cell_type": "code",
   "execution_count": 17,
   "metadata": {},
   "outputs": [
    {
     "name": "stdout",
     "output_type": "stream",
     "text": [
      "Counter({91: 153, 68: 148, 410: 140, 361: 133, 400: 129, 102: 125, 187: 120, 286: 115, 110: 115, 493: 112, 323: 110, 290: 107, 205: 107, 476: 105, 229: 105, 215: 105, 90: 104, 346: 104, 354: 102, 53: 100, 9: 98, 212: 97, 466: 97, 100: 97, 209: 96, 307: 96, 15: 94, 460: 93, 61: 93, 135: 93, 472: 92, 411: 92, 179: 91, 456: 90, 332: 90, 103: 90, 261: 90, 195: 89, 333: 89, 5: 88, 149: 88, 503: 88, 366: 87, 487: 87, 259: 87, 37: 86, 502: 86, 85: 86, 312: 85, 388: 85, 38: 85, 10: 84, 427: 84, 292: 84, 177: 84, 409: 84, 154: 83, 118: 82, 327: 82, 433: 82, 113: 82, 321: 82, 248: 81, 345: 81, 438: 81, 2: 81, 372: 80, 97: 80, 311: 80, 193: 80, 462: 80, 153: 79, 24: 79, 402: 79, 75: 79, 138: 79, 44: 78, 481: 78, 391: 78, 11: 78, 165: 78, 368: 77, 355: 77, 465: 77, 176: 77, 252: 77, 414: 76, 426: 76, 173: 76, 81: 76, 360: 75, 200: 74, 335: 74, 270: 73, 490: 73, 450: 73, 203: 72, 363: 72, 295: 72, 268: 72, 306: 72, 276: 72, 404: 71, 303: 71, 46: 71, 101: 71, 483: 70, 134: 70, 210: 70, 206: 70, 231: 70, 175: 70, 416: 70, 457: 70, 379: 70, 461: 69, 124: 69, 447: 69, 181: 69, 396: 69, 397: 68, 390: 68, 343: 68, 52: 68, 145: 68, 277: 68, 340: 68, 27: 67, 489: 67, 251: 67, 356: 67, 13: 67, 373: 67, 491: 67, 264: 66, 41: 66, 192: 66, 498: 66, 385: 66, 349: 65, 236: 65, 132: 65, 302: 65, 314: 65, 480: 64, 418: 64, 436: 64, 230: 64, 180: 64, 451: 64, 56: 64, 136: 63, 95: 63, 125: 63, 109: 62, 296: 62, 183: 62, 424: 62, 274: 62, 383: 62, 237: 62, 72: 62, 370: 61, 25: 61, 70: 61, 238: 61, 403: 61, 344: 61, 420: 61, 151: 61, 271: 60, 172: 60, 325: 60, 20: 60, 34: 60, 486: 59, 87: 59, 510: 59, 128: 59, 78: 59, 338: 58, 392: 58, 446: 57, 443: 57, 371: 57, 429: 57, 448: 57, 43: 57, 35: 57, 430: 57, 147: 57, 152: 56, 94: 56, 114: 56, 92: 56, 21: 56, 227: 56, 82: 56, 444: 55, 188: 55, 266: 55, 330: 55, 399: 55, 213: 55, 351: 55, 304: 55, 80: 55, 221: 55, 123: 55, 455: 55, 412: 54, 99: 54, 328: 54, 301: 54, 198: 54, 319: 54, 182: 54, 294: 54, 104: 54, 83: 54, 495: 54, 76: 54, 499: 53, 267: 53, 308: 53, 202: 53, 407: 53, 358: 52, 265: 52, 64: 52, 250: 52, 313: 52, 142: 52, 369: 52, 74: 52, 199: 52, 374: 51, 280: 51, 111: 51, 63: 51, 155: 51, 108: 50, 235: 50, 382: 50, 247: 50, 122: 50, 380: 50, 423: 50, 511: 50, 12: 50, 386: 49, 334: 49, 30: 49, 435: 49, 505: 49, 169: 49, 3: 49, 467: 49, 45: 48, 160: 48, 417: 48, 269: 48, 362: 48, 329: 48, 458: 47, 353: 47, 36: 47, 256: 47, 69: 47, 468: 47, 65: 47, 507: 47, 441: 47, 220: 47, 55: 46, 143: 46, 23: 46, 246: 46, 398: 46, 299: 46, 395: 46, 258: 46, 378: 46, 129: 46, 255: 46, 337: 46, 54: 46, 164: 45, 98: 45, 322: 45, 141: 44, 226: 44, 14: 44, 7: 44, 62: 44, 506: 44, 320: 44, 278: 43, 421: 43, 469: 43, 432: 43, 162: 43, 211: 43, 22: 43, 197: 43, 105: 42, 291: 42, 166: 42, 452: 42, 84: 42, 449: 42, 50: 42, 317: 42, 88: 42, 244: 42, 218: 41, 471: 41, 394: 41, 73: 41, 348: 40, 318: 40, 459: 40, 419: 39, 225: 39, 479: 39, 243: 39, 186: 39, 241: 39, 298: 39, 375: 39, 289: 39, 350: 39, 384: 38, 219: 38, 482: 38, 139: 38, 217: 38, 48: 38, 279: 38, 158: 37, 381: 37, 316: 37, 494: 37, 470: 37, 112: 37, 475: 37, 500: 37, 96: 36, 126: 36, 16: 36, 339: 36, 393: 36, 310: 36, 148: 36, 119: 36, 245: 35, 478: 35, 66: 35, 71: 35, 405: 35, 275: 35, 406: 34, 283: 34, 130: 34, 19: 34, 223: 34, 194: 33, 67: 33, 189: 33, 453: 33, 242: 33, 120: 33, 167: 33, 260: 33, 326: 32, 364: 32, 497: 32, 367: 32, 93: 32, 17: 32, 159: 32, 208: 32, 59: 32, 415: 32, 117: 32, 413: 31, 240: 31, 262: 31, 86: 31, 501: 31, 131: 31, 477: 31, 464: 31, 42: 31, 488: 30, 201: 30, 263: 30, 365: 30, 58: 30, 29: 30, 440: 30, 282: 30, 509: 30, 508: 29, 31: 29, 40: 29, 387: 29, 336: 29, 184: 29, 127: 29, 191: 28, 485: 28, 284: 28, 57: 28, 305: 27, 504: 27, 163: 27, 315: 27, 196: 27, 216: 27, 254: 26, 89: 26, 408: 26, 445: 26, 77: 26, 341: 26, 425: 25, 272: 25, 474: 25, 157: 25, 293: 24, 204: 24, 331: 23, 422: 23, 28: 23, 484: 23, 222: 22, 140: 22, 171: 22, 168: 21, 0: 21, 473: 21, 33: 21, 234: 20, 214: 20, 60: 20, 170: 20, 442: 20, 32: 19, 288: 19, 6: 19, 233: 19, 146: 19, 439: 19, 133: 18, 190: 18, 428: 18, 79: 17, 115: 17, 137: 17, 281: 17, 297: 17, 47: 16, 106: 16, 116: 15, 287: 15, 4: 15, 309: 15, 376: 15, 121: 14, 1: 14, 324: 14, 434: 13, 437: 13, 359: 12, 454: 11, 107: 11, 178: 11, 8: 9, 253: 8, 228: 7, 492: 6, 300: 6, 377: 6, 257: 6, 249: 5, 161: 5, 207: 5, 49: 4, 342: 4, 18: 4, 185: 3, 431: 3, 239: 3, 51: 3, 463: 2, 352: 2, 285: 2, 156: 2, 224: 2, 401: 2, 144: 2, 273: 2, 150: 2, 496: 1, 174: 1, 347: 1, 357: 1, 26: 1, 39: 1, 389: 1, 232: 1})\n"
     ]
    },
    {
     "data": {
      "text/plain": [
       "(array([17.,  7.,  3.,  5.,  1.,  1.,  3.,  3.,  3.,  7.,  5.,  9.,  5.,\n",
       "         7.,  4.,  6.,  6., 10.,  7., 18., 11., 13.,  6., 16.,  7., 13.,\n",
       "        14.,  8., 10., 13., 16.,  8., 14.,  9., 17., 12., 16.,  2., 10.,\n",
       "         8., 11.,  7., 10.,  7., 12.,  9., 10.,  3.,  3.,  4., 10., 10.,\n",
       "         4.,  6.,  5.,  6.,  3.,  5.,  4.,  3.,  3.,  1.,  2.,  4.,  0.,\n",
       "         1.,  1.,  2.,  3.,  2.,  0.,  1.,  0.,  1.,  0.,  2.,  0.,  0.,\n",
       "         1.,  0.,  0.,  1.,  0.,  0.,  1.,  0.,  1.,  0.,  0.,  0.,  0.,\n",
       "         1.,  0.,  0.,  0.,  0.,  1.,  0.,  0.,  1.]),\n",
       " array([  1.  ,   2.52,   4.04,   5.56,   7.08,   8.6 ,  10.12,  11.64,\n",
       "         13.16,  14.68,  16.2 ,  17.72,  19.24,  20.76,  22.28,  23.8 ,\n",
       "         25.32,  26.84,  28.36,  29.88,  31.4 ,  32.92,  34.44,  35.96,\n",
       "         37.48,  39.  ,  40.52,  42.04,  43.56,  45.08,  46.6 ,  48.12,\n",
       "         49.64,  51.16,  52.68,  54.2 ,  55.72,  57.24,  58.76,  60.28,\n",
       "         61.8 ,  63.32,  64.84,  66.36,  67.88,  69.4 ,  70.92,  72.44,\n",
       "         73.96,  75.48,  77.  ,  78.52,  80.04,  81.56,  83.08,  84.6 ,\n",
       "         86.12,  87.64,  89.16,  90.68,  92.2 ,  93.72,  95.24,  96.76,\n",
       "         98.28,  99.8 , 101.32, 102.84, 104.36, 105.88, 107.4 , 108.92,\n",
       "        110.44, 111.96, 113.48, 115.  , 116.52, 118.04, 119.56, 121.08,\n",
       "        122.6 , 124.12, 125.64, 127.16, 128.68, 130.2 , 131.72, 133.24,\n",
       "        134.76, 136.28, 137.8 , 139.32, 140.84, 142.36, 143.88, 145.4 ,\n",
       "        146.92, 148.44, 149.96, 151.48, 153.  ]),\n",
       " <BarContainer object of 100 artists>)"
      ]
     },
     "execution_count": 17,
     "metadata": {},
     "output_type": "execute_result"
    },
    {
     "data": {
      "image/png": "[encoded data removed]",
      "text/plain": [
       "<Figure size 640x480 with 1 Axes>"
      ]
     },
     "metadata": {},
     "output_type": "display_data"
    }
   ],
   "source": [
    "from collections import Counter\n",
    "index2count = Counter(indices[:, 0])\n",
    "# plot the distribution of the value of the counter\n",
    "print(index2count)\n",
    "plt.hist(index2count.values(), bins=100)"
   ]
  },
  {
   "cell_type": "code",
   "execution_count": null,
   "metadata": {},
   "outputs": [],
   "source": []
  }
 ],
 "metadata": {
  "kernelspec": {
   "display_name": "Python 3",
   "language": "python",
   "name": "python3"
  },
  "language_info": {
   "codemirror_mode": {
    "name": "ipython",
    "version": 3
   },
   "file_extension": ".py",
   "mimetype": "text/x-python",
   "name": "python",
   "nbconvert_exporter": "python",
   "pygments_lexer": "ipython3",
   "version": "3.10.13"
  },
  "orig_nbformat": 4
 },
 "nbformat": 4,
 "nbformat_minor": 2
}
